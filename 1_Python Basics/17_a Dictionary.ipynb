{
 "cells": [
  {
   "cell_type": "markdown",
   "id": "28ba0c0f-df4d-4eed-a840-a90de4639f2f",
   "metadata": {},
   "source": [
    "                                         \n",
    "                                        Dictionary"
   ]
  },
  {
   "cell_type": "code",
   "execution_count": 2,
   "id": "dc146718-c5a9-477a-b4b2-a6fe9604d62f",
   "metadata": {},
   "outputs": [],
   "source": [
    "d = {}"
   ]
  },
  {
   "cell_type": "code",
   "execution_count": 4,
   "id": "f3e74938-7494-4eea-8b93-c429f935b191",
   "metadata": {},
   "outputs": [
    {
     "data": {
      "text/plain": [
       "dict"
      ]
     },
     "execution_count": 4,
     "metadata": {},
     "output_type": "execute_result"
    }
   ],
   "source": [
    "type(d)"
   ]
  },
  {
   "cell_type": "code",
   "execution_count": 6,
   "id": "77d6f3bd-e64f-4269-a936-3fdcfdd5e481",
   "metadata": {},
   "outputs": [
    {
     "data": {
      "text/plain": [
       "{'key': 'value'}"
      ]
     },
     "execution_count": 6,
     "metadata": {},
     "output_type": "execute_result"
    }
   ],
   "source": [
    "d = {'key' : 'value'}\n",
    "d"
   ]
  },
  {
   "cell_type": "code",
   "execution_count": 13,
   "id": "8d09c322-e5ea-455b-b0d7-62bab97add52",
   "metadata": {},
   "outputs": [
    {
     "data": {
      "text/plain": [
       "{'name': 'Sovan', 'email': 'sss@se.in'}"
      ]
     },
     "execution_count": 13,
     "metadata": {},
     "output_type": "execute_result"
    }
   ],
   "source": [
    "d = { 'name' : 'Sovan', 'email' : 'sss@se.in'}\n",
    "d"
   ]
  },
  {
   "cell_type": "code",
   "execution_count": 15,
   "id": "f3be6bf9-f4b0-44a0-85a4-3a827cdd56c3",
   "metadata": {},
   "outputs": [
    {
     "data": {
      "text/plain": [
       "{1: 'Dead', 2: 'Pool'}"
      ]
     },
     "execution_count": 15,
     "metadata": {},
     "output_type": "execute_result"
    }
   ],
   "source": [
    "d = {1 : \"Dead\", 2 : \"Pool\"}\n",
    "d"
   ]
  },
  {
   "cell_type": "code",
   "execution_count": 19,
   "id": "ff153f5d-4062-4a0e-8852-44c0c5a8c1cd",
   "metadata": {},
   "outputs": [
    {
     "ename": "SyntaxError",
     "evalue": "invalid syntax (3210008663.py, line 1)",
     "output_type": "error",
     "traceback": [
      "\u001b[0;36m  Cell \u001b[0;32mIn[19], line 1\u001b[0;36m\u001b[0m\n\u001b[0;31m    d = { 1 : 'Dead', @va : 'Pool'}\u001b[0m\n\u001b[0m                      ^\u001b[0m\n\u001b[0;31mSyntaxError\u001b[0m\u001b[0;31m:\u001b[0m invalid syntax\n"
     ]
    }
   ],
   "source": [
    "d = { 1 : 'Dead', @va : 'Pool'}\n",
    "d"
   ]
  },
  {
   "cell_type": "code",
   "execution_count": 28,
   "id": "92085a77-75dc-43a9-8c3f-ba8dc29b221b",
   "metadata": {},
   "outputs": [
    {
     "data": {
      "text/plain": [
       "{123: 'Dead', '@va': 'Pool', True: 'One'}"
      ]
     },
     "execution_count": 28,
     "metadata": {},
     "output_type": "execute_result"
    }
   ],
   "source": [
    "d = { 123 : 'Dead', '@va' : 'Pool', True : 'One'}\n",
    "d"
   ]
  },
  {
   "cell_type": "code",
   "execution_count": 25,
   "id": "bda9aab3-b7f1-4593-8807-a97226741dcc",
   "metadata": {},
   "outputs": [
    {
     "data": {
      "text/plain": [
       "'One'"
      ]
     },
     "execution_count": 25,
     "metadata": {},
     "output_type": "execute_result"
    }
   ],
   "source": [
    "d[1]"
   ]
  },
  {
   "cell_type": "code",
   "execution_count": 26,
   "id": "f9a6dddb-4dc4-45d1-82c2-8cd4f8677f53",
   "metadata": {},
   "outputs": [
    {
     "data": {
      "text/plain": [
       "'One'"
      ]
     },
     "execution_count": 26,
     "metadata": {},
     "output_type": "execute_result"
    }
   ],
   "source": [
    "d[True]"
   ]
  },
  {
   "cell_type": "code",
   "execution_count": 29,
   "id": "fc56cb99-147c-40b5-a08d-0b66b8fb7510",
   "metadata": {},
   "outputs": [
    {
     "data": {
      "text/plain": [
       "'Dead'"
      ]
     },
     "execution_count": 29,
     "metadata": {},
     "output_type": "execute_result"
    }
   ],
   "source": [
    "d[123]"
   ]
  },
  {
   "cell_type": "markdown",
   "id": "bcac1213-6cd6-4745-86b6-c26615b5e70f",
   "metadata": {},
   "source": [
    "key can be Integer , String, Boolean\n",
    "any Special Character &,@,_ won't allowed here, it should be inside ' '"
   ]
  },
  {
   "cell_type": "markdown",
   "id": "7a0b3d1e-d991-410e-9500-8b1fc88b523a",
   "metadata": {},
   "source": [
    "Key Should be Unique\n",
    "otherwise It will be overwrite with the new value\n",
    "eg;"
   ]
  },
  {
   "cell_type": "code",
   "execution_count": 33,
   "id": "00175431-6b9e-482d-8616-cda63cc5a350",
   "metadata": {},
   "outputs": [
    {
     "data": {
      "text/plain": [
       "{'name': 'Baap', 1: 'kill'}"
      ]
     },
     "execution_count": 33,
     "metadata": {},
     "output_type": "execute_result"
    }
   ],
   "source": [
    "d = { 'name' : 'Sovan', \"name\" : 'Baap', 1 : \"kill\"}\n",
    "d"
   ]
  },
  {
   "cell_type": "code",
   "execution_count": 36,
   "id": "003b932b-cea4-42c1-bccf-b0be6542fdb2",
   "metadata": {},
   "outputs": [
    {
     "data": {
      "text/plain": [
       "{'company': 'PW', 'Course': ['Python', 'Java', 'DS']}"
      ]
     },
     "execution_count": 36,
     "metadata": {},
     "output_type": "execute_result"
    }
   ],
   "source": [
    "d5 = { 'company' : 'PW', 'Course': ['Python', 'Java', 'DS']}\n",
    "d5\n",
    "      \n",
    "      "
   ]
  },
  {
   "cell_type": "code",
   "execution_count": 38,
   "id": "8d04e42c-1e4e-4747-8133-fd167a281507",
   "metadata": {},
   "outputs": [
    {
     "data": {
      "text/plain": [
       "'DS'"
      ]
     },
     "execution_count": 38,
     "metadata": {},
     "output_type": "execute_result"
    }
   ],
   "source": [
    "d5['Course'][-1]"
   ]
  },
  {
   "cell_type": "code",
   "execution_count": 39,
   "id": "ed0ae861-00f3-4e88-887a-92276b79b219",
   "metadata": {},
   "outputs": [
    {
     "data": {
      "text/plain": [
       "'DS'"
      ]
     },
     "execution_count": 39,
     "metadata": {},
     "output_type": "execute_result"
    }
   ],
   "source": [
    "d5['Course'][2]"
   ]
  },
  {
   "cell_type": "raw",
   "id": "4724fffe-e987-483e-b0a6-2ac966789916",
   "metadata": {},
   "source": [
    "Dict can contain a list, tuple, Set & Set"
   ]
  },
  {
   "cell_type": "code",
   "execution_count": 5,
   "id": "fe5afcc9-c3f5-4c25-8888-21da67396b6d",
   "metadata": {},
   "outputs": [
    {
     "data": {
      "text/plain": [
       "{'number': [1, 2, 3],\n",
       " 'assignment': {'C', 'Java', 'Python'},\n",
       " 'launch date': (25, 31, 23),\n",
       " 'claas_time': {'C': 8, 'Jave': 9, 'Python': 10}}"
      ]
     },
     "execution_count": 5,
     "metadata": {},
     "output_type": "execute_result"
    }
   ],
   "source": [
    "d6 = { 'number' : [1, 2, 3],  'assignment' : {'Python', 'Java', 'C'},  'launch date' : (25, 31, 23) , \n",
    "       'claas_time' : {'C' : 8 , 'Jave' : 9, 'Python' : 10} }\n",
    "d6"
   ]
  },
  {
   "cell_type": "code",
   "execution_count": 8,
   "id": "809cc824-0ec1-4f66-9331-b23c45d442b6",
   "metadata": {},
   "outputs": [
    {
     "data": {
      "text/plain": [
       "10"
      ]
     },
     "execution_count": 8,
     "metadata": {},
     "output_type": "execute_result"
    }
   ],
   "source": [
    "#extract the 10 \n",
    "d6['claas_time']['Python']"
   ]
  },
  {
   "cell_type": "code",
   "execution_count": 10,
   "id": "1aa5c2fb-0baa-4cb5-8144-a5edbdb88ebf",
   "metadata": {},
   "outputs": [
    {
     "data": {
      "text/plain": [
       "{'number': [1, 2, 3],\n",
       " 'assignment': {'C', 'Java', 'Python'},\n",
       " 'launch date': (25, 31, 23),\n",
       " 'claas_time': {'C': 8, 'Jave': 9, 'Python': 10},\n",
       " 'mentor': ['Krish', 'Sudhanshu', 'Hyder']}"
      ]
     },
     "execution_count": 10,
     "metadata": {},
     "output_type": "execute_result"
    }
   ],
   "source": [
    "#add a new key value pair\n",
    "d6['mentor'] = ['Krish', 'Sudhanshu', 'Hyder']\n",
    "d6"
   ]
  },
  {
   "cell_type": "code",
   "execution_count": 15,
   "id": "6ba40c6d-bce3-4fc2-be19-f5abea88b0cc",
   "metadata": {},
   "outputs": [
    {
     "data": {
      "text/plain": [
       "{'assignment': {'C', 'Java', 'Python'},\n",
       " 'launch date': (25, 31, 23),\n",
       " 'claas_time': {'C': 8, 'Jave': 9, 'Python': 10},\n",
       " 'mentor': ['Krish', 'Sudhanshu', 'Hyder']}"
      ]
     },
     "execution_count": 15,
     "metadata": {},
     "output_type": "execute_result"
    }
   ],
   "source": [
    "#delete the number key and its values\n",
    "del d6['number']\n",
    "d6"
   ]
  },
  {
   "cell_type": "code",
   "execution_count": 17,
   "id": "734416e8-0f72-41e5-b88d-1526927496c4",
   "metadata": {},
   "outputs": [
    {
     "data": {
      "text/plain": [
       "dict_keys(['assignment', 'launch date', 'claas_time', 'mentor'])"
      ]
     },
     "execution_count": 17,
     "metadata": {},
     "output_type": "execute_result"
    }
   ],
   "source": [
    "#find the keys and values from a list and convert it into list\n",
    "d6.keys()"
   ]
  },
  {
   "cell_type": "code",
   "execution_count": 20,
   "id": "5d1cf490-00dc-4f45-a58a-30aea025acf8",
   "metadata": {},
   "outputs": [
    {
     "data": {
      "text/plain": [
       "['assignment', 'launch date', 'claas_time', 'mentor']"
      ]
     },
     "execution_count": 20,
     "metadata": {},
     "output_type": "execute_result"
    }
   ],
   "source": [
    "list(d6.keys())"
   ]
  },
  {
   "cell_type": "code",
   "execution_count": 21,
   "id": "cfddbaf3-0941-448e-846d-d5dc4b1cc875",
   "metadata": {},
   "outputs": [
    {
     "data": {
      "text/plain": [
       "[{'C', 'Java', 'Python'},\n",
       " (25, 31, 23),\n",
       " {'C': 8, 'Jave': 9, 'Python': 10},\n",
       " ['Krish', 'Sudhanshu', 'Hyder']]"
      ]
     },
     "execution_count": 21,
     "metadata": {},
     "output_type": "execute_result"
    }
   ],
   "source": [
    "d6.values()\n",
    "list(d6.values())"
   ]
  },
  {
   "cell_type": "code",
   "execution_count": 23,
   "id": "f01a014b-85a0-4c80-b779-9fb72a80b59d",
   "metadata": {},
   "outputs": [
    {
     "data": {
      "text/plain": [
       "{'assignment': {'C', 'Java', 'Python'},\n",
       " 'launch date': (25, 31, 23),\n",
       " 'claas_time': {'C': 8, 'Jave': 9, 'Python': 10},\n",
       " 'mentor': ['Krish', 'Sudhanshu', 'Hyder']}"
      ]
     },
     "execution_count": 23,
     "metadata": {},
     "output_type": "execute_result"
    }
   ],
   "source": [
    "#POP\n",
    "d6\n"
   ]
  },
  {
   "cell_type": "code",
   "execution_count": 27,
   "id": "102dadb9-82d6-434c-9789-16803a26d1b2",
   "metadata": {},
   "outputs": [
    {
     "data": {
      "text/plain": [
       "(25, 31, 23)"
      ]
     },
     "execution_count": 27,
     "metadata": {},
     "output_type": "execute_result"
    }
   ],
   "source": [
    "#d6.pop('assignment')\n",
    "d6.pop('launch date')"
   ]
  },
  {
   "cell_type": "code",
   "execution_count": 28,
   "id": "902c8179-6f70-44a4-8a93-2130d3c25562",
   "metadata": {},
   "outputs": [
    {
     "data": {
      "text/plain": [
       "{'claas_time': {'C': 8, 'Jave': 9, 'Python': 10},\n",
       " 'mentor': ['Krish', 'Sudhanshu', 'Hyder']}"
      ]
     },
     "execution_count": 28,
     "metadata": {},
     "output_type": "execute_result"
    }
   ],
   "source": [
    "d6"
   ]
  },
  {
   "cell_type": "code",
   "execution_count": 29,
   "id": "cc809257-f6e9-4a30-8ace-46f230ff69a3",
   "metadata": {},
   "outputs": [
    {
     "ename": "TypeError",
     "evalue": "pop expected at least 1 argument, got 0",
     "output_type": "error",
     "traceback": [
      "\u001b[0;31m---------------------------------------------------------------------------\u001b[0m",
      "\u001b[0;31mTypeError\u001b[0m                                 Traceback (most recent call last)",
      "Cell \u001b[0;32mIn[29], line 1\u001b[0m\n\u001b[0;32m----> 1\u001b[0m \u001b[43md6\u001b[49m\u001b[38;5;241;43m.\u001b[39;49m\u001b[43mpop\u001b[49m\u001b[43m(\u001b[49m\u001b[43m)\u001b[49m\n",
      "\u001b[0;31mTypeError\u001b[0m: pop expected at least 1 argument, got 0"
     ]
    }
   ],
   "source": [
    "d6.pop()"
   ]
  },
  {
   "cell_type": "code",
   "execution_count": null,
   "id": "273382b3-ae56-4887-9b11-9f063547ae69",
   "metadata": {},
   "outputs": [],
   "source": []
  }
 ],
 "metadata": {
  "kernelspec": {
   "display_name": "Python 3 (ipykernel)",
   "language": "python",
   "name": "python3"
  },
  "language_info": {
   "codemirror_mode": {
    "name": "ipython",
    "version": 3
   },
   "file_extension": ".py",
   "mimetype": "text/x-python",
   "name": "python",
   "nbconvert_exporter": "python",
   "pygments_lexer": "ipython3",
   "version": "3.10.8"
  }
 },
 "nbformat": 4,
 "nbformat_minor": 5
}
