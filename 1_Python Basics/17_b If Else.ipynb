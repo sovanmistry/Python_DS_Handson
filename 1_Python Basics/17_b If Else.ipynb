{
 "cells": [
  {
   "cell_type": "markdown",
   "id": "69f0fcfb-8a73-4e63-a55e-b0dc3e17fa2d",
   "metadata": {},
   "source": [
    "                                          Condition Statement"
   ]
  },
  {
   "cell_type": "code",
   "execution_count": 2,
   "id": "9e2bc8b2-80fc-4cc6-b24a-a8c09bb8ccbb",
   "metadata": {},
   "outputs": [
    {
     "name": "stdout",
     "output_type": "stream",
     "text": [
      "you will be in A1 Batch\n"
     ]
    }
   ],
   "source": [
    "#If ELSE\n",
    "marks = 65\n",
    "\n",
    "if marks >= 80 :\n",
    "    print ('you will be in A0 Batch')\n",
    "    \n",
    "elif marks >= 60: \n",
    "    print ('you will be in A1 Batch')\n",
    "    \n",
    "elif marks >= 40 :\n",
    "    print ('you will be in A2 Batch')\n",
    "\n",
    "else:\n",
    "    print('you will be in A3 Batch')"
   ]
  },
  {
   "cell_type": "code",
   "execution_count": 3,
   "id": "1869509c-68da-4706-96e7-490e28fd4d2f",
   "metadata": {},
   "outputs": [
    {
     "name": "stdin",
     "output_type": "stream",
     "text": [
      "Enter your Marks 45\n"
     ]
    },
    {
     "name": "stdout",
     "output_type": "stream",
     "text": [
      "you will be in A2 Batch\n"
     ]
    }
   ],
   "source": [
    "#taking input from user \n",
    "# problem with input, by default it converts it to STRING, we need to do TYPE CASTING. \n",
    "\n",
    "marks = int(input('Enter your Marks'))\n",
    "\n",
    "if marks >= 80 :\n",
    "    print ('you will be in A0 Batch')\n",
    "    \n",
    "elif marks >= 60: \n",
    "    print ('you will be in A1 Batch')\n",
    "    \n",
    "elif marks >= 40 :\n",
    "    print ('you will be in A2 Batch')\n",
    "\n",
    "else:\n",
    "    print('you will be in A3 Batch')"
   ]
  },
  {
   "cell_type": "code",
   "execution_count": 7,
   "id": "fbd1f1e0-73a7-43a8-b2b8-53584b9aeae0",
   "metadata": {},
   "outputs": [
    {
     "name": "stdin",
     "output_type": "stream",
     "text": [
      " Price of your selected item 2000\n"
     ]
    },
    {
     "name": "stdout",
     "output_type": "stream",
     "text": [
      "   Out of Budget\n"
     ]
    }
   ],
   "source": [
    "# shopping mall case \n",
    "\n",
    "price = int (input(\" Price of your selected item\"))\n",
    "\n",
    "if price > 1000 : \n",
    "    print (\"   Out of Budget\")\n",
    "    \n",
    "    if price > 5000 :\n",
    "           print (\"   I am not the ZANA guy\")\n",
    "           \n",
    "else :\n",
    "    print (\" I will be ranbeer singh\")\n",
    "           \n",
    "           "
   ]
  },
  {
   "cell_type": "code",
   "execution_count": null,
   "id": "70952eed-3baa-4c9b-88e1-78790e28cce9",
   "metadata": {},
   "outputs": [],
   "source": []
  }
 ],
 "metadata": {
  "kernelspec": {
   "display_name": "Python 3 (ipykernel)",
   "language": "python",
   "name": "python3"
  },
  "language_info": {
   "codemirror_mode": {
    "name": "ipython",
    "version": 3
   },
   "file_extension": ".py",
   "mimetype": "text/x-python",
   "name": "python",
   "nbconvert_exporter": "python",
   "pygments_lexer": "ipython3",
   "version": "3.10.8"
  }
 },
 "nbformat": 4,
 "nbformat_minor": 5
}
