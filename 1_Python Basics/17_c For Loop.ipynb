{
 "cells": [
  {
   "cell_type": "markdown",
   "id": "c2f69ea2-f802-488d-88d1-39a166b41ee0",
   "metadata": {},
   "source": [
    "                                         Loop"
   ]
  },
  {
   "cell_type": "code",
   "execution_count": 1,
   "id": "6abaf5db-a0b7-4abb-acea-3ab432b8e271",
   "metadata": {},
   "outputs": [],
   "source": [
    "l = [1,25,50, 60]"
   ]
  },
  {
   "cell_type": "code",
   "execution_count": 2,
   "id": "cbd8529f-6085-4b60-9f42-81a8e6bf26c1",
   "metadata": {},
   "outputs": [
    {
     "data": {
      "text/plain": [
       "[2, 26, 51, 61]"
      ]
     },
     "execution_count": 2,
     "metadata": {},
     "output_type": "execute_result"
    }
   ],
   "source": [
    "#addition of 1 on evry data\n",
    "\n",
    "l1 =[]\n",
    "for i in l: \n",
    "    l1.append(i+1)\n",
    "    \n",
    "l1"
   ]
  },
  {
   "cell_type": "code",
   "execution_count": 4,
   "id": "2fb9dc33-eb26-4cda-8a8f-383c9d47e14e",
   "metadata": {},
   "outputs": [
    {
     "data": {
      "text/plain": [
       "['JAVA', 'PYTHON', 'PANDA']"
      ]
     },
     "execution_count": 4,
     "metadata": {},
     "output_type": "execute_result"
    }
   ],
   "source": [
    "#convert all in upper case\n",
    "\n",
    "l = ['java', 'python', 'panda']\n",
    "\n",
    "l1 =[]\n",
    "for i in l:\n",
    "    l1.append(i.upper())\n",
    "    \n",
    "l1"
   ]
  },
  {
   "cell_type": "code",
   "execution_count": 11,
   "id": "e73a55f4-c8ce-4ae0-821a-d0bd1fd170f5",
   "metadata": {},
   "outputs": [
    {
     "name": "stdout",
     "output_type": "stream",
     "text": [
      "String is : ['java', 'python', 'panda']\n",
      "Numeric is : [1, 2.5, 5, 6, 3]\n"
     ]
    }
   ],
   "source": [
    "# separate my list with 2 list on int and str\n",
    "\n",
    "l = ['java',1, 'python',2.5,5,6, 'panda', 3]\n",
    "\n",
    "l1 = []\n",
    "l2 = []\n",
    "for i in l :\n",
    "    if type(i) == str:\n",
    "        l1.append(i)\n",
    "        \n",
    "    else:\n",
    "        l2.append(i)\n",
    "        \n",
    "\n",
    "print('String is :',  l1)\n",
    "print('Numeric is :', l2)       "
   ]
  },
  {
   "cell_type": "code",
   "execution_count": null,
   "id": "2bd7d078-1990-44b9-bfde-638f48f22137",
   "metadata": {},
   "outputs": [],
   "source": []
  }
 ],
 "metadata": {
  "kernelspec": {
   "display_name": "Python 3 (ipykernel)",
   "language": "python",
   "name": "python3"
  },
  "language_info": {
   "codemirror_mode": {
    "name": "ipython",
    "version": 3
   },
   "file_extension": ".py",
   "mimetype": "text/x-python",
   "name": "python",
   "nbconvert_exporter": "python",
   "pygments_lexer": "ipython3",
   "version": "3.10.8"
  }
 },
 "nbformat": 4,
 "nbformat_minor": 5
}
