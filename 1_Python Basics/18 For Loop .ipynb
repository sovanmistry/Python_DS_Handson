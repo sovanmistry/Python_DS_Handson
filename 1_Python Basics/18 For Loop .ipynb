{
 "cells": [
  {
   "cell_type": "markdown",
   "id": "14171e36-a698-49e7-ba7d-fd788ca5bb65",
   "metadata": {},
   "source": [
    "                                         LOOP Practice"
   ]
  },
  {
   "cell_type": "code",
   "execution_count": 1,
   "id": "7d0f3bc6-0001-4afd-ab46-5ef88520be1c",
   "metadata": {},
   "outputs": [],
   "source": [
    "l = [1, 2, \"sudh\", \"kumar\"]"
   ]
  },
  {
   "cell_type": "code",
   "execution_count": 3,
   "id": "7376cd5c-2ed6-45fa-9b70-408cfd6e8009",
   "metadata": {},
   "outputs": [
    {
     "name": "stdout",
     "output_type": "stream",
     "text": [
      "1 <class 'int'>\n",
      "2 <class 'int'>\n",
      "sudh <class 'str'>\n",
      "kumar <class 'str'>\n"
     ]
    }
   ],
   "source": [
    "for i in l : \n",
    "    print(i, type(i))"
   ]
  },
  {
   "cell_type": "code",
   "execution_count": null,
   "id": "4e89c493-e895-4eae-8731-6e4756d9f273",
   "metadata": {},
   "outputs": [],
   "source": []
  },
  {
   "cell_type": "code",
   "execution_count": null,
   "id": "89abd281-6d94-4aaf-9804-d4c54be4fe93",
   "metadata": {},
   "outputs": [],
   "source": []
  },
  {
   "cell_type": "markdown",
   "id": "c575cc55-70e3-4f46-a4ae-af645cd998cf",
   "metadata": {},
   "source": [
    "                                                    \n",
    "                                                FOR ELSE"
   ]
  },
  {
   "cell_type": "code",
   "execution_count": 5,
   "id": "ed6c3358-f016-4624-8504-6001aa93fd5c",
   "metadata": {},
   "outputs": [
    {
     "name": "stdout",
     "output_type": "stream",
     "text": [
      "1\n",
      "2\n",
      "sudh\n",
      "kumar\n",
      "For Loop Completed hence ELse Executed\n"
     ]
    }
   ],
   "source": [
    "for i in l :\n",
    "    print (i)\n",
    "    \n",
    "else: \n",
    "    print(\"For Loop Completed hence ELse Executed\")"
   ]
  },
  {
   "cell_type": "code",
   "execution_count": 6,
   "id": "a164cd38-ed54-4b84-82c8-4c9244d02502",
   "metadata": {},
   "outputs": [
    {
     "name": "stdout",
     "output_type": "stream",
     "text": [
      "1\n",
      "2\n",
      "sudh\n"
     ]
    }
   ],
   "source": [
    "for i in l : \n",
    "    if i == \"kumar\":\n",
    "        break\n",
    "    print(i)\n",
    "        "
   ]
  },
  {
   "cell_type": "code",
   "execution_count": 7,
   "id": "9a80f97d-a81f-4a0b-9044-6129c1c17448",
   "metadata": {},
   "outputs": [
    {
     "name": "stdout",
     "output_type": "stream",
     "text": [
      "1\n",
      "2\n",
      "sudh\n"
     ]
    }
   ],
   "source": [
    "for i in l : \n",
    "    if i == \"kumar\":\n",
    "        break\n",
    "    print(i)\n",
    "\n",
    "else: \n",
    "    print(\"For loop is completed\")"
   ]
  },
  {
   "cell_type": "code",
   "execution_count": 8,
   "id": "f23a8e7b-5144-47e5-967b-580470882bdf",
   "metadata": {},
   "outputs": [
    {
     "name": "stdout",
     "output_type": "stream",
     "text": [
      "1\n",
      "2\n",
      "sudh\n",
      "kumar\n",
      "For loop is completed\n"
     ]
    }
   ],
   "source": [
    "for i in l : \n",
    "    if i == \"Power\":\n",
    "        break\n",
    "    print(i)\n",
    "\n",
    "else: \n",
    "    print(\"For loop is completed\")"
   ]
  },
  {
   "cell_type": "code",
   "execution_count": null,
   "id": "5b279a1a-9f5a-46b0-8930-bf1de14b0dc7",
   "metadata": {},
   "outputs": [],
   "source": []
  },
  {
   "cell_type": "code",
   "execution_count": null,
   "id": "0aae4285-5f0b-48a0-81fa-0126460974f6",
   "metadata": {},
   "outputs": [],
   "source": []
  },
  {
   "cell_type": "markdown",
   "id": "48911457-4153-4b62-b6b1-c2466a0506e2",
   "metadata": {},
   "source": [
    "                                            Break & Continue"
   ]
  },
  {
   "cell_type": "code",
   "execution_count": 9,
   "id": "2aa9449c-7818-45cd-8c37-a66dba335a79",
   "metadata": {},
   "outputs": [
    {
     "data": {
      "text/plain": [
       "[1, 2, 'sudh', 'kumar']"
      ]
     },
     "execution_count": 9,
     "metadata": {},
     "output_type": "execute_result"
    }
   ],
   "source": [
    "l\n",
    "    "
   ]
  },
  {
   "cell_type": "code",
   "execution_count": 11,
   "id": "6fd59ea4-ba95-47ef-ab40-79c7e7803524",
   "metadata": {},
   "outputs": [
    {
     "name": "stdout",
     "output_type": "stream",
     "text": [
      "1\n",
      "2\n"
     ]
    }
   ],
   "source": [
    "for i in l: \n",
    "    if i == \"sudh\" : \n",
    "        break\n",
    "    print(i)"
   ]
  },
  {
   "cell_type": "code",
   "execution_count": 12,
   "id": "a9b0c0a7-460b-456c-9ab6-89dc14306d0d",
   "metadata": {},
   "outputs": [
    {
     "name": "stdout",
     "output_type": "stream",
     "text": [
      "1\n",
      "2\n",
      "kumar\n"
     ]
    }
   ],
   "source": [
    "for i in l: \n",
    "    if i == \"sudh\" : \n",
    "        continue\n",
    "    print(i)"
   ]
  },
  {
   "cell_type": "code",
   "execution_count": 15,
   "id": "e0a11566-491a-4ce8-830e-0a747080f0ff",
   "metadata": {},
   "outputs": [
    {
     "name": "stdout",
     "output_type": "stream",
     "text": [
      "1\n",
      "2\n",
      "kumar\n",
      "\n",
      "FOR Loop Executed Completely\n"
     ]
    }
   ],
   "source": [
    "for i in l: \n",
    "    if i == \"sudh\" : \n",
    "        continue\n",
    "    print(i)\n",
    "    \n",
    "else: \n",
    "    print(\"\\nFOR Loop Executed Completely\")"
   ]
  },
  {
   "cell_type": "markdown",
   "id": "689a64af-0ce7-4639-9081-d371549ca6c5",
   "metadata": {},
   "source": []
  },
  {
   "cell_type": "code",
   "execution_count": null,
   "id": "b650ff65-c70f-4ebf-90a2-b160f0a692cb",
   "metadata": {},
   "outputs": [],
   "source": []
  },
  {
   "cell_type": "code",
   "execution_count": null,
   "id": "f90a3adc-2dee-4132-aa1f-0cb5e7aa34f1",
   "metadata": {},
   "outputs": [],
   "source": []
  },
  {
   "cell_type": "markdown",
   "id": "50150951-3c6d-4ab8-ba52-7f3afe9eaf7c",
   "metadata": {},
   "source": [
    "                                                    RANGE"
   ]
  },
  {
   "cell_type": "code",
   "execution_count": 16,
   "id": "f56abccc-6a7f-4a8e-a6bd-b44129fbf42a",
   "metadata": {},
   "outputs": [
    {
     "data": {
      "text/plain": [
       "range(0, 5)"
      ]
     },
     "execution_count": 16,
     "metadata": {},
     "output_type": "execute_result"
    }
   ],
   "source": [
    "range(5)"
   ]
  },
  {
   "cell_type": "code",
   "execution_count": 17,
   "id": "ee4fd933-d78c-4fea-9349-7b43c1c675b9",
   "metadata": {},
   "outputs": [
    {
     "data": {
      "text/plain": [
       "[0, 1, 2, 3, 4]"
      ]
     },
     "execution_count": 17,
     "metadata": {},
     "output_type": "execute_result"
    }
   ],
   "source": [
    "list(range(5))"
   ]
  },
  {
   "cell_type": "code",
   "execution_count": 18,
   "id": "5106d03a-f2e6-47e4-b4d3-1dddaeff1ff5",
   "metadata": {},
   "outputs": [
    {
     "data": {
      "text/plain": [
       "[0, 1, 2, 3, 4]"
      ]
     },
     "execution_count": 18,
     "metadata": {},
     "output_type": "execute_result"
    }
   ],
   "source": [
    "list(range(0,5))"
   ]
  },
  {
   "cell_type": "code",
   "execution_count": 19,
   "id": "d3021f16-6680-460e-9816-f138617445c0",
   "metadata": {},
   "outputs": [
    {
     "data": {
      "text/plain": [
       "[0, 1, 2, 3, 4]"
      ]
     },
     "execution_count": 19,
     "metadata": {},
     "output_type": "execute_result"
    }
   ],
   "source": [
    "list(range(0,5,1))"
   ]
  },
  {
   "cell_type": "code",
   "execution_count": 20,
   "id": "733fa893-9cf5-4e1a-8f51-d96df938a267",
   "metadata": {},
   "outputs": [
    {
     "data": {
      "text/plain": [
       "{0, 1, 2, 3, 4}"
      ]
     },
     "execution_count": 20,
     "metadata": {},
     "output_type": "execute_result"
    }
   ],
   "source": [
    "set(range(5))"
   ]
  },
  {
   "cell_type": "code",
   "execution_count": 21,
   "id": "2fb3f95e-f6f7-4fe3-8920-5be909df4559",
   "metadata": {},
   "outputs": [
    {
     "data": {
      "text/plain": [
       "(0, 1, 2, 3, 4)"
      ]
     },
     "execution_count": 21,
     "metadata": {},
     "output_type": "execute_result"
    }
   ],
   "source": [
    "tuple(range(5))"
   ]
  },
  {
   "cell_type": "code",
   "execution_count": 22,
   "id": "e4d4d596-ae47-465d-9cf0-737fb7592f57",
   "metadata": {},
   "outputs": [
    {
     "data": {
      "text/plain": [
       "[0, 5, 10, 15]"
      ]
     },
     "execution_count": 22,
     "metadata": {},
     "output_type": "execute_result"
    }
   ],
   "source": [
    "list(range (0,20,5))"
   ]
  },
  {
   "cell_type": "code",
   "execution_count": 23,
   "id": "0522755c-e1d0-4ab9-a595-cd5810df3aab",
   "metadata": {},
   "outputs": [
    {
     "data": {
      "text/plain": [
       "[-10, -9, -8, -7, -6, -5, -4, -3, -2, -1]"
      ]
     },
     "execution_count": 23,
     "metadata": {},
     "output_type": "execute_result"
    }
   ],
   "source": [
    "list(range(-10,0))"
   ]
  },
  {
   "cell_type": "code",
   "execution_count": 31,
   "id": "23f4b9fc-dc0a-450f-9eef-e27cfb6336fc",
   "metadata": {},
   "outputs": [
    {
     "data": {
      "text/plain": [
       "[1, 2, 'sudh', 'kumar']"
      ]
     },
     "execution_count": 31,
     "metadata": {},
     "output_type": "execute_result"
    }
   ],
   "source": [
    "\n",
    "#********************************************************************************************************************\n",
    "\n",
    "#EXTRACT THE DATA through for loop in reverse order\n",
    "\n",
    "l"
   ]
  },
  {
   "cell_type": "code",
   "execution_count": 34,
   "id": "74c744de-6a5f-44a9-a147-0d3a5a5ac9b3",
   "metadata": {},
   "outputs": [
    {
     "data": {
      "text/plain": [
       "[4, 3, 2, 1]"
      ]
     },
     "execution_count": 34,
     "metadata": {},
     "output_type": "execute_result"
    }
   ],
   "source": [
    "list(range(4,0,-1))"
   ]
  },
  {
   "cell_type": "code",
   "execution_count": 36,
   "id": "b70bc3cc-70d5-4ac2-8145-ca321ce125ca",
   "metadata": {},
   "outputs": [
    {
     "data": {
      "text/plain": [
       "[3, 2, 1, 0]"
      ]
     },
     "execution_count": 36,
     "metadata": {},
     "output_type": "execute_result"
    }
   ],
   "source": [
    "list(range(3,-1,-1))"
   ]
  },
  {
   "cell_type": "code",
   "execution_count": 38,
   "id": "71e56a20-e480-4363-855f-9bf34f3a538d",
   "metadata": {},
   "outputs": [
    {
     "data": {
      "text/plain": [
       "1"
      ]
     },
     "execution_count": 38,
     "metadata": {},
     "output_type": "execute_result"
    }
   ],
   "source": [
    "l[0]"
   ]
  },
  {
   "cell_type": "code",
   "execution_count": 39,
   "id": "fa0c7dba-34d5-4784-b6b5-b61384931a0c",
   "metadata": {},
   "outputs": [
    {
     "name": "stdout",
     "output_type": "stream",
     "text": [
      "kumar\n",
      "sudh\n",
      "2\n",
      "1\n"
     ]
    }
   ],
   "source": [
    "#simple Approach\n",
    "\n",
    "for i in list(range(3,-1,-1)):\n",
    "    print(l[i])"
   ]
  },
  {
   "cell_type": "code",
   "execution_count": 41,
   "id": "552e902b-8617-4619-aa2c-c041009ab485",
   "metadata": {},
   "outputs": [
    {
     "data": {
      "text/plain": [
       "4"
      ]
     },
     "execution_count": 41,
     "metadata": {},
     "output_type": "execute_result"
    }
   ],
   "source": [
    "len(l)"
   ]
  },
  {
   "cell_type": "code",
   "execution_count": 42,
   "id": "9b1db3f7-b767-43ec-9de8-8ea9e7c65405",
   "metadata": {},
   "outputs": [
    {
     "name": "stdout",
     "output_type": "stream",
     "text": [
      "kumar\n",
      "sudh\n",
      "2\n",
      "1\n"
     ]
    }
   ],
   "source": [
    "#Alternate approach\n",
    "\n",
    "for i in list(range(len(l)-1,-1,-1)):\n",
    "    print(l[i])"
   ]
  },
  {
   "cell_type": "code",
   "execution_count": null,
   "id": "e4247b4d-0ce4-4be4-a6e5-4735d8d187fe",
   "metadata": {},
   "outputs": [],
   "source": []
  },
  {
   "cell_type": "code",
   "execution_count": null,
   "id": "9bff12d4-1b77-43d7-a3a2-6146dfc09b14",
   "metadata": {},
   "outputs": [],
   "source": []
  },
  {
   "cell_type": "markdown",
   "id": "81a10154-c2c8-4232-b639-48cd7b49b23a",
   "metadata": {},
   "source": [
    "#********************************************************************************************************************\n",
    "\n",
    "\n",
    "Extract the data available in even index"
   ]
  },
  {
   "cell_type": "code",
   "execution_count": 44,
   "id": "3700ac39-d0d8-4948-bfaf-dc9429a14ca7",
   "metadata": {},
   "outputs": [],
   "source": [
    "l1 = [1,2,3,4,5,6,7,8,9,10,11]"
   ]
  },
  {
   "cell_type": "code",
   "execution_count": 46,
   "id": "e8510ee0-cfca-40ae-ae6c-b22d678854bd",
   "metadata": {},
   "outputs": [
    {
     "data": {
      "text/plain": [
       "11"
      ]
     },
     "execution_count": 46,
     "metadata": {},
     "output_type": "execute_result"
    }
   ],
   "source": [
    "len(l1)"
   ]
  },
  {
   "cell_type": "code",
   "execution_count": 48,
   "id": "06827a8a-21eb-492f-97ad-ab9a31c4a25f",
   "metadata": {},
   "outputs": [
    {
     "data": {
      "text/plain": [
       "[0, 2, 4, 6, 8, 10]"
      ]
     },
     "execution_count": 48,
     "metadata": {},
     "output_type": "execute_result"
    }
   ],
   "source": [
    "list(range(0,len(l1),2))"
   ]
  },
  {
   "cell_type": "code",
   "execution_count": 51,
   "id": "af65bd36-637b-48d5-8fce-1ab5826b5069",
   "metadata": {},
   "outputs": [
    {
     "name": "stdout",
     "output_type": "stream",
     "text": [
      "1\n",
      "3\n",
      "5\n",
      "7\n",
      "9\n",
      "11\n"
     ]
    }
   ],
   "source": [
    "for i in list(range(0,len(l1),2)):\n",
    "    print(l1[i])"
   ]
  },
  {
   "cell_type": "code",
   "execution_count": null,
   "id": "a90505b5-2476-4449-bd4b-108509c311f4",
   "metadata": {},
   "outputs": [],
   "source": []
  },
  {
   "cell_type": "code",
   "execution_count": null,
   "id": "780dbce0-8094-43b2-bdf4-3220accd5d0e",
   "metadata": {},
   "outputs": [],
   "source": []
  },
  {
   "cell_type": "code",
   "execution_count": 52,
   "id": "23e161cb-be58-4b5a-8634-1dbf248833ec",
   "metadata": {},
   "outputs": [],
   "source": [
    "#SUM OF THE VALUES Present in a list"
   ]
  },
  {
   "cell_type": "code",
   "execution_count": 54,
   "id": "ef86858c-3853-46c5-a2de-f53e41de2d7a",
   "metadata": {},
   "outputs": [
    {
     "name": "stdout",
     "output_type": "stream",
     "text": [
      "457\n"
     ]
    }
   ],
   "source": [
    "l2 = [1,3,43,3,323,4,3,34,43]\n",
    "\n",
    "s=0\n",
    "for i in l2:\n",
    "    s+=i\n",
    "    \n",
    "print(s)"
   ]
  },
  {
   "cell_type": "code",
   "execution_count": 55,
   "id": "dfc95cb4-6065-4edc-bfa3-6d69ba0f735f",
   "metadata": {},
   "outputs": [
    {
     "data": {
      "text/plain": [
       "457"
      ]
     },
     "execution_count": 55,
     "metadata": {},
     "output_type": "execute_result"
    }
   ],
   "source": [
    "sum(l2)"
   ]
  },
  {
   "cell_type": "code",
   "execution_count": null,
   "id": "f4c55c96-78d9-4278-9432-6ffa2c542312",
   "metadata": {},
   "outputs": [],
   "source": []
  },
  {
   "cell_type": "code",
   "execution_count": null,
   "id": "92161c2f-a03d-4e31-815c-1bb12e26a171",
   "metadata": {},
   "outputs": [],
   "source": []
  },
  {
   "cell_type": "markdown",
   "id": "66d83c60-a4b8-4ab9-98d0-9651d0a0135d",
   "metadata": {},
   "source": [
    "                                                Loop With TUPLE"
   ]
  },
  {
   "cell_type": "code",
   "execution_count": 58,
   "id": "ac5fb148-a830-49f9-87c8-8081972b9f1f",
   "metadata": {},
   "outputs": [
    {
     "name": "stdout",
     "output_type": "stream",
     "text": [
      "6\n"
     ]
    }
   ],
   "source": [
    "t= (1,2,3)\n",
    "\n",
    "s=0\n",
    "for i in t:\n",
    "    s+=i\n",
    "    \n",
    "print(s)"
   ]
  },
  {
   "cell_type": "code",
   "execution_count": null,
   "id": "280fb5bd-764d-4a40-b82c-de6f9ad97e42",
   "metadata": {},
   "outputs": [],
   "source": []
  },
  {
   "cell_type": "code",
   "execution_count": null,
   "id": "6b16b994-2491-4612-9f8d-7a7d021185f0",
   "metadata": {},
   "outputs": [],
   "source": []
  },
  {
   "cell_type": "markdown",
   "id": "d788ad2b-46ef-4d06-aeeb-c3ea88d874c1",
   "metadata": {},
   "source": [
    "                                                Loop with SET"
   ]
  },
  {
   "cell_type": "code",
   "execution_count": 60,
   "id": "edbb5cb4-c9de-4d71-8694-83fc7b81484e",
   "metadata": {},
   "outputs": [
    {
     "name": "stdout",
     "output_type": "stream",
     "text": [
      "1\n",
      "2\n",
      "sudh\n"
     ]
    }
   ],
   "source": [
    "s = {1,2,\"sudh\"}\n",
    "\n",
    "for i in s:\n",
    "    print(i)"
   ]
  },
  {
   "cell_type": "code",
   "execution_count": null,
   "id": "ba6f57eb-a03e-497f-ab9b-8a9891a3d264",
   "metadata": {},
   "outputs": [],
   "source": []
  },
  {
   "cell_type": "code",
   "execution_count": null,
   "id": "8f2079b4-dbb3-48b8-9da5-ad1ec07aa1a0",
   "metadata": {},
   "outputs": [],
   "source": []
  },
  {
   "cell_type": "markdown",
   "id": "76fa2313-4504-4887-8add-c6b96299aacb",
   "metadata": {},
   "source": [
    "                                            Loop with String"
   ]
  },
  {
   "cell_type": "code",
   "execution_count": 61,
   "id": "6f76d301-86f5-4e5f-a432-ec684f63267c",
   "metadata": {},
   "outputs": [
    {
     "name": "stdout",
     "output_type": "stream",
     "text": [
      "P\n",
      "W\n",
      "S\n",
      "k\n",
      "i\n",
      "l\n",
      "l\n",
      "s\n"
     ]
    }
   ],
   "source": [
    "str = \"PWSkills\"\n",
    "\n",
    "for i in str:\n",
    "    print(i)"
   ]
  },
  {
   "cell_type": "code",
   "execution_count": 62,
   "id": "e3d027b3-2682-4173-9a09-7be2cacc11fa",
   "metadata": {},
   "outputs": [],
   "source": [
    "#reverse the String "
   ]
  },
  {
   "cell_type": "code",
   "execution_count": 68,
   "id": "0dc6990c-dc63-4ecc-9ed6-71fa8ce0fa1a",
   "metadata": {},
   "outputs": [
    {
     "name": "stdout",
     "output_type": "stream",
     "text": [
      "s\n",
      "l\n",
      "l\n",
      "i\n",
      "k\n",
      "S\n",
      "W\n",
      "P\n"
     ]
    }
   ],
   "source": [
    "for i in range(len(str)-1,-1,-1):\n",
    "    print(str[i])"
   ]
  },
  {
   "cell_type": "code",
   "execution_count": null,
   "id": "c22b45c3-7387-45d4-b169-139e40abe8df",
   "metadata": {},
   "outputs": [],
   "source": []
  },
  {
   "cell_type": "code",
   "execution_count": null,
   "id": "5fb589de-489f-45ad-a7a6-5a5b4a2e1e59",
   "metadata": {},
   "outputs": [],
   "source": []
  },
  {
   "cell_type": "markdown",
   "id": "38b5131d-1bf2-4da3-9921-b1705533e0bc",
   "metadata": {},
   "source": [
    "                                        LOOP with DICTIONARY"
   ]
  },
  {
   "cell_type": "code",
   "execution_count": null,
   "id": "5d26b08d-8d32-4095-9edd-af17b2e36ee1",
   "metadata": {},
   "outputs": [],
   "source": []
  },
  {
   "cell_type": "code",
   "execution_count": 76,
   "id": "b30a4e3e-5fe1-4c1c-b73c-d80793e1ecf9",
   "metadata": {},
   "outputs": [
    {
     "data": {
      "text/plain": [
       "{'name': 'sudh', 'class': 'DS Master', 'topic': ['python', 'stats', 'M/l']}"
      ]
     },
     "execution_count": 76,
     "metadata": {},
     "output_type": "execute_result"
    }
   ],
   "source": [
    "d = { 'name': 'sudh', 'class' : 'DS Master', \n",
    "      'topic': ['python', 'stats', 'M/l']}\n",
    "d"
   ]
  },
  {
   "cell_type": "code",
   "execution_count": 72,
   "id": "106da89e-69ac-43ad-b640-af3596547276",
   "metadata": {},
   "outputs": [
    {
     "data": {
      "text/plain": [
       "dict_keys(['name', 'class', 'topic'])"
      ]
     },
     "execution_count": 72,
     "metadata": {},
     "output_type": "execute_result"
    }
   ],
   "source": [
    "d.keys()"
   ]
  },
  {
   "cell_type": "code",
   "execution_count": 77,
   "id": "f303c03c-e78c-464c-b75b-8addb8d60e01",
   "metadata": {},
   "outputs": [
    {
     "name": "stdout",
     "output_type": "stream",
     "text": [
      "sudh\n",
      "DS Master\n",
      "['python', 'stats', 'M/l']\n"
     ]
    }
   ],
   "source": [
    "#print all the values based on keys\n",
    "\n",
    "for i in d.keys():\n",
    "    print(d[i])"
   ]
  },
  {
   "cell_type": "code",
   "execution_count": null,
   "id": "e2705fc4-0ae3-4dcc-b179-8d103dbb7ec5",
   "metadata": {},
   "outputs": [],
   "source": []
  }
 ],
 "metadata": {
  "kernelspec": {
   "display_name": "Python 3 (ipykernel)",
   "language": "python",
   "name": "python3"
  },
  "language_info": {
   "codemirror_mode": {
    "name": "ipython",
    "version": 3
   },
   "file_extension": ".py",
   "mimetype": "text/x-python",
   "name": "python",
   "nbconvert_exporter": "python",
   "pygments_lexer": "ipython3",
   "version": "3.10.8"
  }
 },
 "nbformat": 4,
 "nbformat_minor": 5
}
