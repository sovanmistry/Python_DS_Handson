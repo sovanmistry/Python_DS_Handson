{
 "cells": [
  {
   "cell_type": "markdown",
   "id": "7688f2a2-9a4f-41b1-afab-eeca07a316f4",
   "metadata": {},
   "source": [
    "                                            WHILE LOOP"
   ]
  },
  {
   "cell_type": "code",
   "execution_count": 2,
   "id": "0167b1c8-f921-4a67-b974-e874da2dd328",
   "metadata": {},
   "outputs": [
    {
     "name": "stdout",
     "output_type": "stream",
     "text": [
      "1\n",
      "2\n",
      "3\n",
      "4\n",
      "5\n",
      "6\n",
      "7\n",
      "8\n",
      "9\n",
      "10\n"
     ]
    }
   ],
   "source": [
    "a = 1\n",
    "\n",
    "while a<=10:\n",
    "    print(a)\n",
    "    a = a+1"
   ]
  },
  {
   "cell_type": "code",
   "execution_count": null,
   "id": "c82ddc81-b228-4d44-9613-6030655dac9b",
   "metadata": {},
   "outputs": [],
   "source": [
    "#SUM Of the number till Some point\n",
    "\n"
   ]
  },
  {
   "cell_type": "code",
   "execution_count": 8,
   "id": "7eaee864-e85a-4fcd-a777-63a871fa236d",
   "metadata": {},
   "outputs": [
    {
     "name": "stdin",
     "output_type": "stream",
     "text": [
      "enter your limit 1000\n"
     ]
    },
    {
     "name": "stdout",
     "output_type": "stream",
     "text": [
      "500500\n"
     ]
    }
   ],
   "source": [
    "num= int(input(\"enter your limit\"))\n",
    "\n",
    "count = 0\n",
    "result= 0 \n",
    "while count <= num:\n",
    "    result = result+count\n",
    "    count = count+1\n",
    "    \n",
    "print(result)"
   ]
  },
  {
   "cell_type": "code",
   "execution_count": null,
   "id": "0989b995-fcb4-4425-b119-aaef2147aa97",
   "metadata": {},
   "outputs": [],
   "source": []
  },
  {
   "cell_type": "code",
   "execution_count": null,
   "id": "e8135e59-3718-45d0-8e59-0cfdb44ac267",
   "metadata": {},
   "outputs": [],
   "source": []
  },
  {
   "cell_type": "code",
   "execution_count": 2,
   "id": "0755f24a-05f1-451a-87c9-9358a589628b",
   "metadata": {},
   "outputs": [],
   "source": [
    "#Factorial of a Number\n",
    "\n"
   ]
  },
  {
   "cell_type": "code",
   "execution_count": 5,
   "id": "38447a83-ae9c-4740-ab3c-aed3b89b2eb6",
   "metadata": {},
   "outputs": [
    {
     "name": "stdin",
     "output_type": "stream",
     "text": [
      "Give your Number :  20\n"
     ]
    },
    {
     "name": "stdout",
     "output_type": "stream",
     "text": [
      "your factorial 2432902008176640000\n"
     ]
    }
   ],
   "source": [
    "num = int(input(\"Give your Number : \"))\n",
    "\n",
    "fact =1 \n",
    "i = 1\n",
    "\n",
    "while i<=num :\n",
    "    fact = fact*i\n",
    "    i= i+1\n",
    "\n",
    "print(\"your factorial\", fact)\n"
   ]
  },
  {
   "cell_type": "code",
   "execution_count": null,
   "id": "a32da650-91ac-4f38-953e-8ae97a1b2f21",
   "metadata": {},
   "outputs": [],
   "source": []
  },
  {
   "cell_type": "code",
   "execution_count": null,
   "id": "b710900b-a30f-4ed6-8691-10b97ba7e162",
   "metadata": {},
   "outputs": [],
   "source": []
  },
  {
   "cell_type": "code",
   "execution_count": 6,
   "id": "febffac2-de5f-4ccc-94d4-14ac36e54d88",
   "metadata": {},
   "outputs": [],
   "source": [
    "#Fibonacci Series\n",
    "\n"
   ]
  },
  {
   "cell_type": "code",
   "execution_count": 3,
   "id": "11afce7f-9425-46c2-800c-e9378ed4f3f9",
   "metadata": {},
   "outputs": [
    {
     "name": "stdin",
     "output_type": "stream",
     "text": [
      "Enter the limit 5\n"
     ]
    },
    {
     "name": "stdout",
     "output_type": "stream",
     "text": [
      "0\n",
      "1\n",
      "1\n",
      "2\n",
      "3\n",
      "5\n"
     ]
    }
   ],
   "source": [
    "num = int(input(\"Enter the limit\"))\n",
    "\n",
    "aprev = 0\n",
    "bnext = 1\n",
    "i = 0\n",
    "\n",
    "while i <= num :\n",
    "    print(aprev)\n",
    "    c = aprev + bnext\n",
    "    aprev = bnext\n",
    "    bnext = c\n",
    "    i = i+1"
   ]
  },
  {
   "cell_type": "code",
   "execution_count": null,
   "id": "8f12d573-b33d-4c35-a5ba-4c6c56f16cd4",
   "metadata": {},
   "outputs": [],
   "source": []
  },
  {
   "cell_type": "code",
   "execution_count": null,
   "id": "d4a17cba-e770-4a78-b3d2-66b829b6bf51",
   "metadata": {},
   "outputs": [],
   "source": []
  },
  {
   "cell_type": "code",
   "execution_count": null,
   "id": "2d31b672-57d9-4dba-8134-6c82211bd20b",
   "metadata": {},
   "outputs": [],
   "source": []
  },
  {
   "cell_type": "code",
   "execution_count": 4,
   "id": "7fc185a1-428c-4a90-9eac-2650a46f52c3",
   "metadata": {},
   "outputs": [],
   "source": [
    "#Reverse a String with While Loop\n"
   ]
  },
  {
   "cell_type": "code",
   "execution_count": 10,
   "id": "b3a5e02f-3824-4bcc-868c-1ca334c91c86",
   "metadata": {},
   "outputs": [
    {
     "name": "stdin",
     "output_type": "stream",
     "text": [
      "enter your string sova\n"
     ]
    },
    {
     "name": "stdout",
     "output_type": "stream",
     "text": [
      "s\n",
      "4\n"
     ]
    }
   ],
   "source": [
    "str = input(\"enter your string\")\n",
    "print(str[0])\n",
    "print(len(str))"
   ]
  },
  {
   "cell_type": "code",
   "execution_count": 17,
   "id": "7685ec90-144a-4a5c-baad-2088031053fd",
   "metadata": {},
   "outputs": [
    {
     "name": "stdin",
     "output_type": "stream",
     "text": [
      "enter your string sovan\n"
     ]
    },
    {
     "name": "stdout",
     "output_type": "stream",
     "text": [
      "navos\n"
     ]
    }
   ],
   "source": [
    "#WITH While LOOP\n",
    "\n",
    "str = input(\"enter your string\")\n",
    "\n",
    "n = len(str)-1\n",
    "c = ''\n",
    "while n>=0 :\n",
    "    c = c + str[n]\n",
    "    n = n-1\n",
    "    \n",
    "print(c)"
   ]
  },
  {
   "cell_type": "code",
   "execution_count": 18,
   "id": "9c5caea0-3d5a-4fa0-9a6a-d164e553d1bf",
   "metadata": {},
   "outputs": [
    {
     "name": "stdin",
     "output_type": "stream",
     "text": [
      "enter your string sovan\n"
     ]
    },
    {
     "data": {
      "text/plain": [
       "'navos'"
      ]
     },
     "execution_count": 18,
     "metadata": {},
     "output_type": "execute_result"
    }
   ],
   "source": [
    "#Shortcut method\n",
    "\n",
    "str = input(\"enter your string\")\n",
    "str[::-1]"
   ]
  },
  {
   "cell_type": "code",
   "execution_count": null,
   "id": "989f999e-91bb-47c0-9eae-b687fc5d9301",
   "metadata": {},
   "outputs": [],
   "source": []
  },
  {
   "cell_type": "code",
   "execution_count": null,
   "id": "c7617fda-0734-404c-834e-72fa540de341",
   "metadata": {},
   "outputs": [],
   "source": []
  },
  {
   "cell_type": "code",
   "execution_count": 19,
   "id": "9a7f1864-c1ea-427d-bd20-fe1b609a491e",
   "metadata": {},
   "outputs": [],
   "source": [
    "# TABLE of Number\n"
   ]
  },
  {
   "cell_type": "code",
   "execution_count": 22,
   "id": "1dbd2b70-1ecd-4fb0-9c0e-eb0d7602f7ba",
   "metadata": {},
   "outputs": [
    {
     "name": "stdin",
     "output_type": "stream",
     "text": [
      "which table you are looking for 10\n"
     ]
    },
    {
     "name": "stdout",
     "output_type": "stream",
     "text": [
      "10 * 1 = 10\n",
      "10 * 2 = 20\n",
      "10 * 3 = 30\n",
      "10 * 4 = 40\n",
      "10 * 5 = 50\n",
      "10 * 6 = 60\n",
      "10 * 7 = 70\n",
      "10 * 8 = 80\n",
      "10 * 9 = 90\n",
      "10 * 10 = 100\n"
     ]
    }
   ],
   "source": [
    "num = int(input(\"which table you are looking for\"))\n",
    "\n",
    "i = 1\n",
    "while i <=10:\n",
    "    print(num, '*', i, '=' , num*i)\n",
    "    i +=1"
   ]
  },
  {
   "cell_type": "code",
   "execution_count": null,
   "id": "7df14149-0211-4da8-bfe2-3a42997aa677",
   "metadata": {},
   "outputs": [],
   "source": []
  },
  {
   "cell_type": "code",
   "execution_count": null,
   "id": "7cb2b1af-1794-4bed-84df-24e552d8d383",
   "metadata": {},
   "outputs": [],
   "source": []
  },
  {
   "cell_type": "markdown",
   "id": "02b84e7a-0b68-40e4-9276-730580bb8b8c",
   "metadata": {},
   "source": [
    "                                                        While with ELSE"
   ]
  }
 ],
 "metadata": {
  "kernelspec": {
   "display_name": "Python 3 (ipykernel)",
   "language": "python",
   "name": "python3"
  },
  "language_info": {
   "codemirror_mode": {
    "name": "ipython",
    "version": 3
   },
   "file_extension": ".py",
   "mimetype": "text/x-python",
   "name": "python",
   "nbconvert_exporter": "python",
   "pygments_lexer": "ipython3",
   "version": "3.10.8"
  }
 },
 "nbformat": 4,
 "nbformat_minor": 5
}
