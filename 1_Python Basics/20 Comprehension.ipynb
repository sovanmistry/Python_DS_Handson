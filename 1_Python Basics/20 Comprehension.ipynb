{
 "cells": [
  {
   "cell_type": "markdown",
   "id": "cd5b5211-6323-4b35-b60f-de50cc8fe138",
   "metadata": {},
   "source": [
    "                                                COMPREHENSION"
   ]
  },
  {
   "cell_type": "code",
   "execution_count": null,
   "id": "cf99c898-22f8-4f84-ba4b-9e7593c0169a",
   "metadata": {},
   "outputs": [],
   "source": []
  },
  {
   "cell_type": "markdown",
   "id": "5c622adc-8885-4ead-99da-58ba9d51494c",
   "metadata": {},
   "source": [
    "List Comprehension"
   ]
  },
  {
   "cell_type": "code",
   "execution_count": 9,
   "id": "8a3ace12-1df8-4280-bb0b-f6652cb71c49",
   "metadata": {},
   "outputs": [
    {
     "data": {
      "text/plain": [
       "[1, 4, 9, 16, 25]"
      ]
     },
     "execution_count": 9,
     "metadata": {},
     "output_type": "execute_result"
    }
   ],
   "source": [
    "#simple method\n",
    "\n",
    "l1 = [1,2,3,4,5]\n",
    "\n",
    "l2 = []\n",
    "\n",
    "for i in l1:\n",
    "    l2.append(i**2)\n",
    "    \n",
    "l2"
   ]
  },
  {
   "cell_type": "code",
   "execution_count": null,
   "id": "7f2b06d8-286d-4882-adce-5240444f11be",
   "metadata": {},
   "outputs": [],
   "source": []
  },
  {
   "cell_type": "code",
   "execution_count": 3,
   "id": "7fa216de-21de-447d-9b13-b51773f2d8aa",
   "metadata": {},
   "outputs": [
    {
     "data": {
      "text/plain": [
       "[1, 4, 9, 16, 25]"
      ]
     },
     "execution_count": 3,
     "metadata": {},
     "output_type": "execute_result"
    }
   ],
   "source": [
    "#comprehensive Method\n",
    "[i**2 for i in l1]"
   ]
  },
  {
   "cell_type": "code",
   "execution_count": null,
   "id": "07d9db24-8b3c-403f-8393-39973d907a76",
   "metadata": {},
   "outputs": [],
   "source": []
  },
  {
   "cell_type": "code",
   "execution_count": 6,
   "id": "dfdcfcde-4cf2-402b-9b25-6394f6335e72",
   "metadata": {},
   "outputs": [
    {
     "data": {
      "text/plain": [
       "[2, 4]"
      ]
     },
     "execution_count": 6,
     "metadata": {},
     "output_type": "execute_result"
    }
   ],
   "source": [
    "#find the even no\n",
    "\n",
    "[i for i in l1 if i%2 == 0]"
   ]
  },
  {
   "cell_type": "code",
   "execution_count": null,
   "id": "decb63f2-1892-4cac-a75c-b7385aede986",
   "metadata": {},
   "outputs": [],
   "source": []
  },
  {
   "cell_type": "code",
   "execution_count": 8,
   "id": "91b32926-2d8c-45e8-99fa-59c15378d010",
   "metadata": {},
   "outputs": [
    {
     "data": {
      "text/plain": [
       "['KTM', 'YAMAHA', 'BAJAJ']"
      ]
     },
     "execution_count": 8,
     "metadata": {},
     "output_type": "execute_result"
    }
   ],
   "source": [
    "#convert below string to upper case\n",
    "\n",
    "l3 = ['ktm','yamaha', 'bajaj']\n",
    "\n",
    "[i.upper() for i in l3]"
   ]
  },
  {
   "cell_type": "code",
   "execution_count": null,
   "id": "2dd8ba5e-e897-42b4-b61a-61501b591aa3",
   "metadata": {},
   "outputs": [],
   "source": []
  },
  {
   "cell_type": "code",
   "execution_count": null,
   "id": "bdf256d2-93c0-492f-b6c0-759b3d6032e4",
   "metadata": {},
   "outputs": [],
   "source": []
  },
  {
   "cell_type": "markdown",
   "id": "10ea0a85-a793-4704-a488-3b1a32186858",
   "metadata": {},
   "source": [
    "TUPLE COMPREHENSION"
   ]
  },
  {
   "cell_type": "code",
   "execution_count": 14,
   "id": "9c917000-b701-4f1d-aff0-3ce84d2af782",
   "metadata": {},
   "outputs": [
    {
     "data": {
      "text/plain": [
       "[1, 4, 9, 16, 25]"
      ]
     },
     "execution_count": 14,
     "metadata": {},
     "output_type": "execute_result"
    }
   ],
   "source": [
    "l1 = [1,2,3,4,5]\n",
    "list(i**2 for i in l1)"
   ]
  },
  {
   "cell_type": "code",
   "execution_count": null,
   "id": "5f07879d-fec1-4e5e-9272-5ce656efb387",
   "metadata": {},
   "outputs": [],
   "source": []
  },
  {
   "cell_type": "code",
   "execution_count": null,
   "id": "c3260486-7de7-4b8c-867a-91eb4088ea1f",
   "metadata": {},
   "outputs": [],
   "source": []
  },
  {
   "cell_type": "markdown",
   "id": "ba61d947-3445-48e2-9d9a-9787c62ebcda",
   "metadata": {},
   "source": [
    "DICTIONARY COMPREHENSION"
   ]
  },
  {
   "cell_type": "code",
   "execution_count": 20,
   "id": "738d939d-a410-4cb3-8cce-dc4e20c80579",
   "metadata": {},
   "outputs": [
    {
     "data": {
      "text/plain": [
       "{'key1': 1, 'key2': 4, 'key3': 9}"
      ]
     },
     "execution_count": 20,
     "metadata": {},
     "output_type": "execute_result"
    }
   ],
   "source": [
    "#square the values in DICT\n",
    "\n",
    "\n",
    "d = {'key1' : 1, 'key2' : 2, 'key3' : 3}\n",
    "\n",
    "{k:v**2 for k, v in d.items()}"
   ]
  },
  {
   "cell_type": "code",
   "execution_count": null,
   "id": "925a4612-5a7c-4702-82e1-fe7cdb002dc5",
   "metadata": {},
   "outputs": [],
   "source": []
  },
  {
   "cell_type": "code",
   "execution_count": 22,
   "id": "486fab6b-c4a2-4c6c-8f7b-a8abf4c74067",
   "metadata": {},
   "outputs": [
    {
     "data": {
      "text/plain": [
       "{'key2': 2, 'key3': 3}"
      ]
     },
     "execution_count": 22,
     "metadata": {},
     "output_type": "execute_result"
    }
   ],
   "source": [
    "#extract the value where value>1\n",
    "\n",
    "{k : v for k, v in d.items() if v>1}"
   ]
  },
  {
   "cell_type": "code",
   "execution_count": null,
   "id": "cc876294-c14b-4386-a821-30b16c3b8e9f",
   "metadata": {},
   "outputs": [],
   "source": []
  }
 ],
 "metadata": {
  "kernelspec": {
   "display_name": "Python 3 (ipykernel)",
   "language": "python",
   "name": "python3"
  },
  "language_info": {
   "codemirror_mode": {
    "name": "ipython",
    "version": 3
   },
   "file_extension": ".py",
   "mimetype": "text/x-python",
   "name": "python",
   "nbconvert_exporter": "python",
   "pygments_lexer": "ipython3",
   "version": "3.10.8"
  }
 },
 "nbformat": 4,
 "nbformat_minor": 5
}
