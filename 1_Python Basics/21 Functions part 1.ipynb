{
 "cells": [
  {
   "cell_type": "markdown",
   "id": "29eeff92-2975-48de-9dad-098597ee463d",
   "metadata": {},
   "source": [
    "                                            Functions Part 1"
   ]
  },
  {
   "cell_type": "code",
   "execution_count": 4,
   "id": "c82c0727-7162-4153-aae2-1ea9b03ccf45",
   "metadata": {},
   "outputs": [],
   "source": [
    "#simple Function\n",
    "\n",
    "def test1():\n",
    "    print(\"This is my first function\")"
   ]
  },
  {
   "cell_type": "code",
   "execution_count": 2,
   "id": "3a4f59a6-5c56-4dbb-b109-66522debeada",
   "metadata": {},
   "outputs": [
    {
     "name": "stdout",
     "output_type": "stream",
     "text": [
      "This is my first function\n"
     ]
    }
   ],
   "source": [
    "test1()"
   ]
  },
  {
   "cell_type": "code",
   "execution_count": 7,
   "id": "faeedf06-3c2e-4e10-8b7a-8426eb4e1fe6",
   "metadata": {},
   "outputs": [
    {
     "name": "stdout",
     "output_type": "stream",
     "text": [
      "This is my first function\n"
     ]
    },
    {
     "ename": "TypeError",
     "evalue": "unsupported operand type(s) for +: 'NoneType' and 'str'",
     "output_type": "error",
     "traceback": [
      "\u001b[0;31m---------------------------------------------------------------------------\u001b[0m",
      "\u001b[0;31mTypeError\u001b[0m                                 Traceback (most recent call last)",
      "Cell \u001b[0;32mIn[7], line 1\u001b[0m\n\u001b[0;32m----> 1\u001b[0m \u001b[43mtest1\u001b[49m\u001b[43m(\u001b[49m\u001b[43m)\u001b[49m\u001b[43m \u001b[49m\u001b[38;5;241;43m+\u001b[39;49m\u001b[43m \u001b[49m\u001b[38;5;124;43m'\u001b[39;49m\u001b[38;5;124;43msudh\u001b[39;49m\u001b[38;5;124;43m'\u001b[39;49m\n",
      "\u001b[0;31mTypeError\u001b[0m: unsupported operand type(s) for +: 'NoneType' and 'str'"
     ]
    }
   ],
   "source": [
    "test1() + 'sudh'"
   ]
  },
  {
   "cell_type": "code",
   "execution_count": null,
   "id": "7ab0f828-a39c-4cb1-8f5a-8519dc25a786",
   "metadata": {},
   "outputs": [],
   "source": []
  },
  {
   "cell_type": "code",
   "execution_count": null,
   "id": "44afedd3-326e-40ce-9541-bdb30847d611",
   "metadata": {},
   "outputs": [],
   "source": []
  },
  {
   "cell_type": "code",
   "execution_count": null,
   "id": "3b69e5a5-9351-44fd-b9bf-72e7e181a5d6",
   "metadata": {},
   "outputs": [],
   "source": []
  },
  {
   "cell_type": "code",
   "execution_count": 9,
   "id": "08029c14-6c73-4955-8cf8-09e98b49f6b4",
   "metadata": {},
   "outputs": [
    {
     "data": {
      "text/plain": [
       "'This is my first function sudh'"
      ]
     },
     "execution_count": 9,
     "metadata": {},
     "output_type": "execute_result"
    }
   ],
   "source": [
    "def test2():\n",
    "    return \"This is my first function\"\n",
    "\n",
    "test2() +' sudh'"
   ]
  },
  {
   "cell_type": "code",
   "execution_count": null,
   "id": "9c1d5597-9683-4a7c-af62-ecd556b84aaa",
   "metadata": {},
   "outputs": [],
   "source": []
  },
  {
   "cell_type": "code",
   "execution_count": null,
   "id": "90cc6cfb-e476-495b-99e6-0c37ee6e13a0",
   "metadata": {},
   "outputs": [],
   "source": []
  },
  {
   "cell_type": "code",
   "execution_count": null,
   "id": "9b3c78ff-310d-4312-a5e7-0897a977493d",
   "metadata": {},
   "outputs": [],
   "source": []
  },
  {
   "cell_type": "code",
   "execution_count": 10,
   "id": "fa4bc276-303c-42cc-bc1f-1e4976d1d258",
   "metadata": {},
   "outputs": [
    {
     "data": {
      "text/plain": [
       "('Sudh', 2, (4+8j), 4.56)"
      ]
     },
     "execution_count": 10,
     "metadata": {},
     "output_type": "execute_result"
    }
   ],
   "source": [
    "#function can return multiple datatype\n",
    "\n",
    "def test3():\n",
    "    return \"Sudh\", 2, 4+8j, 4.56\n",
    "\n",
    "test3()"
   ]
  },
  {
   "cell_type": "code",
   "execution_count": 11,
   "id": "a21d5c92-59c7-4593-b1f0-66ca841d4b02",
   "metadata": {},
   "outputs": [],
   "source": [
    "a,b,c,d = test3()"
   ]
  },
  {
   "cell_type": "code",
   "execution_count": 12,
   "id": "4ae6592a-17e4-4502-bf1d-6bac9f433766",
   "metadata": {},
   "outputs": [
    {
     "data": {
      "text/plain": [
       "'Sudh'"
      ]
     },
     "execution_count": 12,
     "metadata": {},
     "output_type": "execute_result"
    }
   ],
   "source": [
    "a"
   ]
  },
  {
   "cell_type": "code",
   "execution_count": 14,
   "id": "0f2a5652-e14f-4716-964b-5096b53f9b99",
   "metadata": {},
   "outputs": [
    {
     "data": {
      "text/plain": [
       "(4+8j)"
      ]
     },
     "execution_count": 14,
     "metadata": {},
     "output_type": "execute_result"
    }
   ],
   "source": [
    "c"
   ]
  },
  {
   "cell_type": "code",
   "execution_count": null,
   "id": "2fa03824-8d01-466e-ab49-987b81ef234e",
   "metadata": {},
   "outputs": [],
   "source": []
  },
  {
   "cell_type": "code",
   "execution_count": null,
   "id": "b3d9a9e3-2dd8-48a8-b196-fb1ed2d97439",
   "metadata": {},
   "outputs": [],
   "source": []
  },
  {
   "cell_type": "code",
   "execution_count": null,
   "id": "425f5949-6ff3-4199-a07c-e6550b1a1b64",
   "metadata": {},
   "outputs": [],
   "source": []
  },
  {
   "cell_type": "code",
   "execution_count": 16,
   "id": "00fd8caf-0514-4cfb-b93f-b430d2ee661a",
   "metadata": {},
   "outputs": [],
   "source": [
    "\n",
    "def test4():\n",
    "    a = 4*5/2\n",
    "    return a"
   ]
  },
  {
   "cell_type": "code",
   "execution_count": 17,
   "id": "aede72f5-3b58-4701-adf5-df3c580bc970",
   "metadata": {},
   "outputs": [
    {
     "data": {
      "text/plain": [
       "10.0"
      ]
     },
     "execution_count": 17,
     "metadata": {},
     "output_type": "execute_result"
    }
   ],
   "source": [
    "test4()"
   ]
  },
  {
   "cell_type": "code",
   "execution_count": null,
   "id": "1caf8742-ea7c-4c23-a08c-8127d9df1ff5",
   "metadata": {},
   "outputs": [],
   "source": []
  },
  {
   "cell_type": "code",
   "execution_count": null,
   "id": "4fb3494b-c83a-4bde-add7-088dafc6bbd9",
   "metadata": {},
   "outputs": [],
   "source": []
  },
  {
   "cell_type": "code",
   "execution_count": 18,
   "id": "f48c1acc-f0c3-4f1c-a137-c4eaf73920c2",
   "metadata": {},
   "outputs": [],
   "source": [
    "def test5(a, b, c):\n",
    "    d = a+b/c\n",
    "    return d"
   ]
  },
  {
   "cell_type": "code",
   "execution_count": 19,
   "id": "d6f78235-e0d6-40c0-bdf6-ae02ac6671eb",
   "metadata": {},
   "outputs": [
    {
     "data": {
      "text/plain": [
       "2.75"
      ]
     },
     "execution_count": 19,
     "metadata": {},
     "output_type": "execute_result"
    }
   ],
   "source": [
    "test5( 2,3,4)"
   ]
  },
  {
   "cell_type": "code",
   "execution_count": null,
   "id": "aa52762d-eb65-4df4-afe8-bf3b217001a7",
   "metadata": {},
   "outputs": [],
   "source": []
  },
  {
   "cell_type": "code",
   "execution_count": null,
   "id": "b58b1663-2efd-4bed-84c1-48d3cfe21897",
   "metadata": {},
   "outputs": [],
   "source": []
  },
  {
   "cell_type": "code",
   "execution_count": 20,
   "id": "ecfc6136-4c7c-4b06-a084-54eb1bcb3e46",
   "metadata": {},
   "outputs": [],
   "source": [
    "def test6(a, b):\n",
    "    c = a+b\n",
    "    return c"
   ]
  },
  {
   "cell_type": "code",
   "execution_count": 25,
   "id": "aac99b81-9fee-463e-9d7d-34bc545e1185",
   "metadata": {},
   "outputs": [
    {
     "data": {
      "text/plain": [
       "7"
      ]
     },
     "execution_count": 25,
     "metadata": {},
     "output_type": "execute_result"
    }
   ],
   "source": [
    "test6(4,3)"
   ]
  },
  {
   "cell_type": "code",
   "execution_count": 26,
   "id": "ffa166db-9d4b-4873-8dd7-a7cf929311e7",
   "metadata": {
    "tags": []
   },
   "outputs": [
    {
     "data": {
      "text/plain": [
       "'Sovan Mistry'"
      ]
     },
     "execution_count": 26,
     "metadata": {},
     "output_type": "execute_result"
    }
   ],
   "source": [
    "test6(\"Sovan\", \" Mistry\")"
   ]
  },
  {
   "cell_type": "code",
   "execution_count": 24,
   "id": "a45a4a50-f0fb-407a-bf91-6558e3d28a01",
   "metadata": {},
   "outputs": [
    {
     "data": {
      "text/plain": [
       "[1, 2, 3, 4, 5]"
      ]
     },
     "execution_count": 24,
     "metadata": {},
     "output_type": "execute_result"
    }
   ],
   "source": [
    "test6([1,2,3], [4,5])"
   ]
  },
  {
   "cell_type": "code",
   "execution_count": null,
   "id": "88839873-fe63-401a-9232-6b4f48e0ecc4",
   "metadata": {},
   "outputs": [],
   "source": []
  },
  {
   "cell_type": "code",
   "execution_count": null,
   "id": "ecb5bb9e-d305-4b52-bf24-8fda6253358c",
   "metadata": {},
   "outputs": [],
   "source": []
  },
  {
   "cell_type": "code",
   "execution_count": null,
   "id": "4cbb4fca-244c-4974-8695-0ad87ad27ee1",
   "metadata": {},
   "outputs": [],
   "source": [
    "#estract the data based on "
   ]
  },
  {
   "cell_type": "code",
   "execution_count": 27,
   "id": "de9fb2e6-f91d-4101-b296-0b545b03d1df",
   "metadata": {},
   "outputs": [],
   "source": [
    "l = [1,2,3,\"sudh\", \"kumar\", [10,20,30,40]]"
   ]
  },
  {
   "cell_type": "code",
   "execution_count": 44,
   "id": "45f3b666-9280-4912-97fb-af5355587c01",
   "metadata": {},
   "outputs": [],
   "source": [
    "def Extract(l):\n",
    "    \"\"\" this is my function for test\"\"\"\n",
    "    l1 = []\n",
    "    \n",
    "    for i in l:\n",
    "        if type(i) == int or type(i) == float:\n",
    "            l1.append(i)\n",
    "            \n",
    "        elif type(i) == list:\n",
    "            for j in i: \n",
    "                l1.append(j)\n",
    "        \n",
    "    return l1"
   ]
  },
  {
   "cell_type": "code",
   "execution_count": 42,
   "id": "58fb1e5a-ce59-4123-aaf7-a92be74aa0e8",
   "metadata": {},
   "outputs": [
    {
     "data": {
      "text/plain": [
       "[1, 2, 3, 10, 20, 30, 40]"
      ]
     },
     "execution_count": 42,
     "metadata": {},
     "output_type": "execute_result"
    }
   ],
   "source": [
    "\n",
    "Extract(l)"
   ]
  },
  {
   "cell_type": "code",
   "execution_count": 38,
   "id": "f36ab20e-1878-4d14-b9c8-45a2b9bc4411",
   "metadata": {},
   "outputs": [
    {
     "data": {
      "text/plain": [
       "list"
      ]
     },
     "execution_count": 38,
     "metadata": {},
     "output_type": "execute_result"
    }
   ],
   "source": [
    "type(l)"
   ]
  },
  {
   "cell_type": "code",
   "execution_count": null,
   "id": "3331c30c-d76e-4bbb-877c-e935825d4878",
   "metadata": {},
   "outputs": [],
   "source": []
  },
  {
   "cell_type": "code",
   "execution_count": null,
   "id": "ff53ae68-76de-4ba5-a533-a4d4ec6e4437",
   "metadata": {},
   "outputs": [],
   "source": []
  },
  {
   "cell_type": "code",
   "execution_count": null,
   "id": "310a276a-5425-4eef-b89a-c02555d42f36",
   "metadata": {},
   "outputs": [],
   "source": []
  },
  {
   "cell_type": "markdown",
   "id": "5774bd8c-2d7a-4871-af68-5bac190a3668",
   "metadata": {},
   "source": [
    "#DYNAMIC Parameter"
   ]
  },
  {
   "cell_type": "code",
   "execution_count": 46,
   "id": "c6c80fac-9a32-4e58-baa4-cb2f052e037b",
   "metadata": {},
   "outputs": [],
   "source": [
    "#by default it takes tuples and pass all the data\n",
    "\n",
    "\n",
    "def test11(*args):\n",
    "    return args"
   ]
  },
  {
   "cell_type": "code",
   "execution_count": 47,
   "id": "19820463-d795-4981-8385-a36ed3897196",
   "metadata": {},
   "outputs": [
    {
     "data": {
      "text/plain": [
       "(1, 2, 2, 3, 23, 23, 23, 2, [3233, 323, 232, 32], 'stry')"
      ]
     },
     "execution_count": 47,
     "metadata": {},
     "output_type": "execute_result"
    }
   ],
   "source": [
    "test11(1,2,2,3,23,23,23,2,[3233,323,232,32],\"stry\")"
   ]
  },
  {
   "cell_type": "code",
   "execution_count": null,
   "id": "d29ea1e9-6aac-4e07-b1c1-00eba97c51d4",
   "metadata": {},
   "outputs": [],
   "source": []
  },
  {
   "cell_type": "code",
   "execution_count": null,
   "id": "ff0e783d-bc5e-4565-9790-20e896b00641",
   "metadata": {},
   "outputs": [],
   "source": []
  },
  {
   "cell_type": "code",
   "execution_count": 48,
   "id": "9f1220fa-a086-4a6b-bd1d-4593762817e7",
   "metadata": {},
   "outputs": [],
   "source": [
    "def test12(*args,a):\n",
    "    return args,a\n",
    "\n"
   ]
  },
  {
   "cell_type": "code",
   "execution_count": 49,
   "id": "e3be62a6-8696-4f2d-9719-07be778c5101",
   "metadata": {},
   "outputs": [
    {
     "ename": "TypeError",
     "evalue": "test12() missing 1 required keyword-only argument: 'a'",
     "output_type": "error",
     "traceback": [
      "\u001b[0;31m---------------------------------------------------------------------------\u001b[0m",
      "\u001b[0;31mTypeError\u001b[0m                                 Traceback (most recent call last)",
      "Cell \u001b[0;32mIn[49], line 1\u001b[0m\n\u001b[0;32m----> 1\u001b[0m \u001b[43mtest12\u001b[49m\u001b[43m(\u001b[49m\u001b[38;5;241;43m1\u001b[39;49m\u001b[43m,\u001b[49m\u001b[38;5;241;43m3\u001b[39;49m\u001b[43m,\u001b[49m\u001b[38;5;241;43m4\u001b[39;49m\u001b[43m,\u001b[49m\u001b[38;5;241;43m45\u001b[39;49m\u001b[43m,\u001b[49m\u001b[38;5;124;43m\"\u001b[39;49m\u001b[38;5;124;43mdf\u001b[39;49m\u001b[38;5;124;43m\"\u001b[39;49m\u001b[43m)\u001b[49m\n",
      "\u001b[0;31mTypeError\u001b[0m: test12() missing 1 required keyword-only argument: 'a'"
     ]
    }
   ],
   "source": [
    "test12(1,3,4,45,\"df\")"
   ]
  },
  {
   "cell_type": "code",
   "execution_count": 50,
   "id": "84f6464c-ca25-4c3e-8527-8355334f8bf5",
   "metadata": {},
   "outputs": [
    {
     "data": {
      "text/plain": [
       "((1, 3, 4, 45), 'df')"
      ]
     },
     "execution_count": 50,
     "metadata": {},
     "output_type": "execute_result"
    }
   ],
   "source": [
    "test12(1,3,4,45,a = \"df\")"
   ]
  },
  {
   "cell_type": "code",
   "execution_count": null,
   "id": "93b035b2-9935-49a9-9e09-d1b56ba3c0e3",
   "metadata": {},
   "outputs": [],
   "source": []
  },
  {
   "cell_type": "code",
   "execution_count": null,
   "id": "b369959e-9e6a-4803-8e97-597607d0050d",
   "metadata": {},
   "outputs": [],
   "source": []
  },
  {
   "cell_type": "code",
   "execution_count": 51,
   "id": "deb258ec-9be6-4bc1-8a62-4d3c7a643814",
   "metadata": {},
   "outputs": [
    {
     "ename": "SyntaxError",
     "evalue": "non-default argument follows default argument (2427042831.py, line 1)",
     "output_type": "error",
     "traceback": [
      "\u001b[0;36m  Cell \u001b[0;32mIn[51], line 1\u001b[0;36m\u001b[0m\n\u001b[0;31m    def test13( a=1, b=3, c, d):\u001b[0m\n\u001b[0m                          ^\u001b[0m\n\u001b[0;31mSyntaxError\u001b[0m\u001b[0;31m:\u001b[0m non-default argument follows default argument\n"
     ]
    }
   ],
   "source": [
    "def test13( a=1, b=3, c, d):\n",
    "    return a, b, c, d"
   ]
  },
  {
   "cell_type": "code",
   "execution_count": 58,
   "id": "47e2f528-5bf1-45bb-8966-9babfbb66bdd",
   "metadata": {},
   "outputs": [],
   "source": [
    "def test13( c, d, a=1, b=3 ):\n",
    "    return c, d, a, b"
   ]
  },
  {
   "cell_type": "code",
   "execution_count": 55,
   "id": "9fc38198-f699-4cac-af71-e29f5b66f063",
   "metadata": {},
   "outputs": [
    {
     "ename": "TypeError",
     "evalue": "test13() missing 1 required positional argument: 'd'",
     "output_type": "error",
     "traceback": [
      "\u001b[0;31m---------------------------------------------------------------------------\u001b[0m",
      "\u001b[0;31mTypeError\u001b[0m                                 Traceback (most recent call last)",
      "Cell \u001b[0;32mIn[55], line 1\u001b[0m\n\u001b[0;32m----> 1\u001b[0m \u001b[43mtest13\u001b[49m\u001b[43m(\u001b[49m\u001b[38;5;241;43m1\u001b[39;49m\u001b[43m)\u001b[49m\n",
      "\u001b[0;31mTypeError\u001b[0m: test13() missing 1 required positional argument: 'd'"
     ]
    }
   ],
   "source": [
    "test13(1)"
   ]
  },
  {
   "cell_type": "code",
   "execution_count": 59,
   "id": "13312cc3-8cd5-429a-855f-71e06bbbb178",
   "metadata": {},
   "outputs": [
    {
     "data": {
      "text/plain": [
       "(10, 20, 1, 3)"
      ]
     },
     "execution_count": 59,
     "metadata": {},
     "output_type": "execute_result"
    }
   ],
   "source": [
    "test13(10,20)"
   ]
  },
  {
   "cell_type": "code",
   "execution_count": 60,
   "id": "e2bba20e-f8ca-4e00-92b0-3e9bfca56ce7",
   "metadata": {},
   "outputs": [
    {
     "data": {
      "text/plain": [
       "(10, 20, 30, 3)"
      ]
     },
     "execution_count": 60,
     "metadata": {},
     "output_type": "execute_result"
    }
   ],
   "source": [
    "test13(10,20,30)"
   ]
  },
  {
   "cell_type": "code",
   "execution_count": 62,
   "id": "03de6d18-ea25-4d6f-95c7-ffa6c44483a4",
   "metadata": {},
   "outputs": [
    {
     "data": {
      "text/plain": [
       "(10, 20, 1, 3)"
      ]
     },
     "execution_count": 62,
     "metadata": {},
     "output_type": "execute_result"
    }
   ],
   "source": [
    "test13(10,20)"
   ]
  },
  {
   "cell_type": "code",
   "execution_count": null,
   "id": "b393a0a6-29e1-4b5b-ba80-cee70fef8382",
   "metadata": {},
   "outputs": [],
   "source": []
  },
  {
   "cell_type": "code",
   "execution_count": null,
   "id": "654e6aa7-5282-461e-b3d1-42c0d801e489",
   "metadata": {},
   "outputs": [],
   "source": []
  },
  {
   "cell_type": "code",
   "execution_count": 63,
   "id": "5d2bff15-487f-46eb-ae7f-49dddc085c4f",
   "metadata": {},
   "outputs": [],
   "source": [
    "#funtion with dictionary\n",
    "\n",
    "def test15(**kwargs):\n",
    "    return kwargs\n"
   ]
  },
  {
   "cell_type": "code",
   "execution_count": 64,
   "id": "3f763b7e-f4e4-4e76-9b7d-a8237ea7de80",
   "metadata": {},
   "outputs": [
    {
     "data": {
      "text/plain": [
       "{}"
      ]
     },
     "execution_count": 64,
     "metadata": {},
     "output_type": "execute_result"
    }
   ],
   "source": [
    "test15()"
   ]
  },
  {
   "cell_type": "code",
   "execution_count": 66,
   "id": "1ce5c36f-62b2-4d24-8685-585ce69e4b5b",
   "metadata": {},
   "outputs": [
    {
     "data": {
      "text/plain": [
       "{'a': (1, 2, 3), 'b': 'st', 'c': [10, 20]}"
      ]
     },
     "execution_count": 66,
     "metadata": {},
     "output_type": "execute_result"
    }
   ],
   "source": [
    "test15( a = (1,2,3), b = \"st\", c = [10,20])"
   ]
  },
  {
   "cell_type": "code",
   "execution_count": null,
   "id": "7ffe31ca-468d-4ad7-be42-b15acf1d76e4",
   "metadata": {},
   "outputs": [],
   "source": []
  }
 ],
 "metadata": {
  "kernelspec": {
   "display_name": "Python 3 (ipykernel)",
   "language": "python",
   "name": "python3"
  },
  "language_info": {
   "codemirror_mode": {
    "name": "ipython",
    "version": 3
   },
   "file_extension": ".py",
   "mimetype": "text/x-python",
   "name": "python",
   "nbconvert_exporter": "python",
   "pygments_lexer": "ipython3",
   "version": "3.10.8"
  }
 },
 "nbformat": 4,
 "nbformat_minor": 5
}
