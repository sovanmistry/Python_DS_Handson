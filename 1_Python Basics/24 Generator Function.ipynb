{
 "cells": [
  {
   "cell_type": "markdown",
   "id": "f3da07f5-7e3a-42aa-afc2-b943374a7465",
   "metadata": {},
   "source": [
    "                                                    GENERATOR FUNCTION "
   ]
  },
  {
   "cell_type": "code",
   "execution_count": 1,
   "id": "f4af7c15-40a2-4321-bd42-95bd2bb7417e",
   "metadata": {},
   "outputs": [],
   "source": [
    "#user for OPTIMIZING MEMORY Function\n",
    "#uses yield"
   ]
  },
  {
   "cell_type": "code",
   "execution_count": 13,
   "id": "74bd7ccd-9437-4ab6-8b94-9f99ecfa461a",
   "metadata": {},
   "outputs": [],
   "source": [
    "#Fibonacci series\n",
    "\n",
    "def test_fib(n):\n",
    "    a,b = 0,1\n",
    "    for i in range(n):\n",
    "        yield a\n",
    "        \n",
    "        a,b = b, a+b\n",
    "    "
   ]
  },
  {
   "cell_type": "code",
   "execution_count": 12,
   "id": "639df20e-ed69-4837-bac5-6dd5b9256b5d",
   "metadata": {},
   "outputs": [
    {
     "name": "stdout",
     "output_type": "stream",
     "text": [
      "0\n",
      "1\n",
      "2\n",
      "4\n",
      "8\n",
      "16\n",
      "32\n",
      "64\n",
      "128\n",
      "256\n"
     ]
    }
   ],
   "source": [
    "for i in test_fib(10):\n",
    "    print (i)\n"
   ]
  },
  {
   "cell_type": "code",
   "execution_count": 15,
   "id": "f5741a1c-aa32-4841-8683-9a0c567f8591",
   "metadata": {},
   "outputs": [],
   "source": [
    "#alternate approach\n",
    "\n",
    "def test_fib1(n):\n",
    "    aprev = 0\n",
    "    bnext = 1\n",
    "    i = 0\n",
    "\n",
    "    while i <= n :\n",
    "        yield aprev\n",
    "        c = aprev + bnext\n",
    "        aprev = bnext\n",
    "        bnext = c\n",
    "        i = i+1"
   ]
  },
  {
   "cell_type": "code",
   "execution_count": 17,
   "id": "8ee85718-0fba-4130-8748-f17304453caf",
   "metadata": {},
   "outputs": [
    {
     "name": "stdout",
     "output_type": "stream",
     "text": [
      "0\n",
      "1\n",
      "1\n",
      "2\n",
      "3\n",
      "5\n",
      "8\n",
      "13\n",
      "21\n",
      "34\n",
      "55\n"
     ]
    }
   ],
   "source": [
    "for i in test_fib1(10):\n",
    "    print(i)"
   ]
  },
  {
   "cell_type": "code",
   "execution_count": null,
   "id": "b52a8353-c4d2-47ff-9522-964b3a979b7d",
   "metadata": {},
   "outputs": [],
   "source": []
  },
  {
   "cell_type": "markdown",
   "id": "66a7a07d-c13e-4ae7-8273-b39654c18742",
   "metadata": {},
   "source": [
    "                                                                ITERATOR"
   ]
  },
  {
   "cell_type": "markdown",
   "id": "3f68a2e6-f13f-4b8e-90c3-49e64ba6f575",
   "metadata": {},
   "source": [
    "HOW FOR LOOP WORK?"
   ]
  },
  {
   "cell_type": "code",
   "execution_count": 18,
   "id": "7b5d456f-b2ba-4e8b-8f37-3368e6ce6e71",
   "metadata": {},
   "outputs": [
    {
     "name": "stdout",
     "output_type": "stream",
     "text": [
      "s\n",
      "u\n",
      "d\n",
      "h\n"
     ]
    }
   ],
   "source": [
    "s = \"sudh\"\n",
    "\n",
    "for i in s: \n",
    "    print(i)"
   ]
  },
  {
   "cell_type": "code",
   "execution_count": 19,
   "id": "3dc77ad2-1bbc-4943-a476-26eddaeb8eda",
   "metadata": {},
   "outputs": [
    {
     "ename": "TypeError",
     "evalue": "'str' object is not an iterator",
     "output_type": "error",
     "traceback": [
      "\u001b[0;31m---------------------------------------------------------------------------\u001b[0m",
      "\u001b[0;31mTypeError\u001b[0m                                 Traceback (most recent call last)",
      "Cell \u001b[0;32mIn[19], line 1\u001b[0m\n\u001b[0;32m----> 1\u001b[0m \u001b[38;5;28;43mnext\u001b[39;49m\u001b[43m(\u001b[49m\u001b[43ms\u001b[49m\u001b[43m)\u001b[49m\n",
      "\u001b[0;31mTypeError\u001b[0m: 'str' object is not an iterator"
     ]
    }
   ],
   "source": [
    "next(s)\n"
   ]
  },
  {
   "cell_type": "code",
   "execution_count": 20,
   "id": "7e79708b-9463-459f-beb9-ec8fa5b205cd",
   "metadata": {},
   "outputs": [
    {
     "data": {
      "text/plain": [
       "'s'"
      ]
     },
     "execution_count": 20,
     "metadata": {},
     "output_type": "execute_result"
    }
   ],
   "source": [
    "s1 = iter(s)\n",
    "\n",
    "next(s1)"
   ]
  },
  {
   "cell_type": "code",
   "execution_count": 21,
   "id": "2bdbad84-499b-48cb-955b-262dff860fac",
   "metadata": {},
   "outputs": [
    {
     "data": {
      "text/plain": [
       "'u'"
      ]
     },
     "execution_count": 21,
     "metadata": {},
     "output_type": "execute_result"
    }
   ],
   "source": [
    "next(s1)"
   ]
  },
  {
   "cell_type": "code",
   "execution_count": 22,
   "id": "1794b8d6-034b-4fdd-8f84-52c24df4bb73",
   "metadata": {},
   "outputs": [
    {
     "data": {
      "text/plain": [
       "'d'"
      ]
     },
     "execution_count": 22,
     "metadata": {},
     "output_type": "execute_result"
    }
   ],
   "source": [
    "next(s1)"
   ]
  },
  {
   "cell_type": "code",
   "execution_count": 23,
   "id": "a602b5ed-ec41-43e6-8ab8-1a05986beeb1",
   "metadata": {},
   "outputs": [
    {
     "data": {
      "text/plain": [
       "'h'"
      ]
     },
     "execution_count": 23,
     "metadata": {},
     "output_type": "execute_result"
    }
   ],
   "source": [
    "next(s1)"
   ]
  },
  {
   "cell_type": "code",
   "execution_count": null,
   "id": "e2c02d53-581b-4410-b6ad-04eceaea4dff",
   "metadata": {},
   "outputs": [],
   "source": []
  },
  {
   "cell_type": "code",
   "execution_count": null,
   "id": "a53fb47e-4dd3-4a98-ac89-db2cca128940",
   "metadata": {},
   "outputs": [],
   "source": []
  }
 ],
 "metadata": {
  "kernelspec": {
   "display_name": "Python 3 (ipykernel)",
   "language": "python",
   "name": "python3"
  },
  "language_info": {
   "codemirror_mode": {
    "name": "ipython",
    "version": 3
   },
   "file_extension": ".py",
   "mimetype": "text/x-python",
   "name": "python",
   "nbconvert_exporter": "python",
   "pygments_lexer": "ipython3",
   "version": "3.10.8"
  }
 },
 "nbformat": 4,
 "nbformat_minor": 5
}
