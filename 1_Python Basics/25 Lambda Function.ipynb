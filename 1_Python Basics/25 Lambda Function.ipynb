{
 "cells": [
  {
   "cell_type": "markdown",
   "id": "d06ff87f-a398-4617-8774-7d6590ac3ef5",
   "metadata": {},
   "source": [
    "                                                        \n",
    "                                                    LAMBDA FUNCTION "
   ]
  },
  {
   "cell_type": "code",
   "execution_count": 7,
   "id": "86141e53-e59f-43da-83b9-a3e46fac24ae",
   "metadata": {},
   "outputs": [
    {
     "data": {
      "text/plain": [
       "6"
      ]
     },
     "execution_count": 7,
     "metadata": {},
     "output_type": "execute_result"
    }
   ],
   "source": [
    "#Simple Function\n",
    "\n",
    "n = 2\n",
    "m = 3\n",
    "\n",
    "def mul(i,j):\n",
    "    return i*j\n",
    "\n",
    "mul(n,m)"
   ]
  },
  {
   "cell_type": "code",
   "execution_count": 8,
   "id": "fc0fdfeb-d818-40b7-a4d1-2d5e8c6ed954",
   "metadata": {},
   "outputs": [
    {
     "data": {
      "text/plain": [
       "6"
      ]
     },
     "execution_count": 8,
     "metadata": {},
     "output_type": "execute_result"
    }
   ],
   "source": [
    "#Lambda Function \n",
    "\n",
    "x = lambda i,j : i*j\n",
    "x(n,m)"
   ]
  },
  {
   "cell_type": "code",
   "execution_count": null,
   "id": "6988393d-25fd-4fce-a9b4-5c8f593091a9",
   "metadata": {},
   "outputs": [],
   "source": []
  },
  {
   "cell_type": "code",
   "execution_count": null,
   "id": "12c885b7-bb49-46f0-af7e-f6352d0d07cb",
   "metadata": {},
   "outputs": [],
   "source": []
  },
  {
   "cell_type": "code",
   "execution_count": 10,
   "id": "caabf222-38ef-4046-bb9f-33f5ddda8b5c",
   "metadata": {},
   "outputs": [
    {
     "data": {
      "text/plain": [
       "9"
      ]
     },
     "execution_count": 10,
     "metadata": {},
     "output_type": "execute_result"
    }
   ],
   "source": [
    "#Addition Lambda function\n",
    "\n",
    "x = lambda i,j : i+j\n",
    "x(4,5)"
   ]
  },
  {
   "cell_type": "code",
   "execution_count": null,
   "id": "26a93300-fe5e-45a7-b51c-8850af471eee",
   "metadata": {},
   "outputs": [],
   "source": []
  },
  {
   "cell_type": "code",
   "execution_count": 13,
   "id": "512d2a5b-fa5f-4ada-b479-524bd817e8bc",
   "metadata": {},
   "outputs": [
    {
     "data": {
      "text/plain": [
       "113.0"
      ]
     },
     "execution_count": 13,
     "metadata": {},
     "output_type": "execute_result"
    }
   ],
   "source": [
    "#celsius to farenhite connection\n",
    "\n",
    "c_to_f = lambda c : (9/5)*c+32\n",
    "\n",
    "c_to_f(45)"
   ]
  },
  {
   "cell_type": "code",
   "execution_count": null,
   "id": "4b1377c6-cbab-4f56-8c13-95ed762bf9be",
   "metadata": {},
   "outputs": [],
   "source": []
  },
  {
   "cell_type": "code",
   "execution_count": null,
   "id": "bdddfc02-db51-4d78-a00c-86f79abd9dcf",
   "metadata": {},
   "outputs": [],
   "source": []
  },
  {
   "cell_type": "code",
   "execution_count": 16,
   "id": "4e5e277d-8fc7-4606-9a04-bf0db8be08fd",
   "metadata": {},
   "outputs": [
    {
     "data": {
      "text/plain": [
       "12"
      ]
     },
     "execution_count": 16,
     "metadata": {},
     "output_type": "execute_result"
    }
   ],
   "source": [
    "#finding a maximum no bw 2 numbers || lambda function with condition\n",
    "\n",
    "find_max = lambda a,b : a if a>b else b\n",
    "\n",
    "find_max(12,5)"
   ]
  },
  {
   "cell_type": "code",
   "execution_count": null,
   "id": "46f914f2-562f-4168-9cd6-2161b91ff9fe",
   "metadata": {},
   "outputs": [],
   "source": []
  },
  {
   "cell_type": "code",
   "execution_count": null,
   "id": "03e8136c-85fe-48c6-b94e-fcaa2f1d907d",
   "metadata": {},
   "outputs": [],
   "source": []
  },
  {
   "cell_type": "code",
   "execution_count": 20,
   "id": "ff92600a-37bc-4fbb-b877-faebdc791d3b",
   "metadata": {},
   "outputs": [
    {
     "data": {
      "text/plain": [
       "5"
      ]
     },
     "execution_count": 20,
     "metadata": {},
     "output_type": "execute_result"
    }
   ],
   "source": [
    "#lambda function to check the length of string\n",
    "\n",
    "length_str = lambda i : len(i)\n",
    "\n",
    "length_str(\"Sovan\")"
   ]
  },
  {
   "cell_type": "code",
   "execution_count": null,
   "id": "c6daefac-33d1-45fc-b807-eba887d07ec5",
   "metadata": {},
   "outputs": [],
   "source": []
  }
 ],
 "metadata": {
  "kernelspec": {
   "display_name": "Python 3 (ipykernel)",
   "language": "python",
   "name": "python3"
  },
  "language_info": {
   "codemirror_mode": {
    "name": "ipython",
    "version": 3
   },
   "file_extension": ".py",
   "mimetype": "text/x-python",
   "name": "python",
   "nbconvert_exporter": "python",
   "pygments_lexer": "ipython3",
   "version": "3.10.8"
  }
 },
 "nbformat": 4,
 "nbformat_minor": 5
}
