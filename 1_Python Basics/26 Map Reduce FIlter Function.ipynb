{
 "cells": [
  {
   "cell_type": "markdown",
   "id": "1d90fed0-71f2-4af3-8a83-13a35cadd05b",
   "metadata": {},
   "source": [
    "                                                MAP REDUCE FILTER function"
   ]
  },
  {
   "cell_type": "markdown",
   "id": "6f84eb79-648a-4f9a-bbb4-b33f89a8fc77",
   "metadata": {},
   "source": [
    "                                                                MAP"
   ]
  },
  {
   "cell_type": "code",
   "execution_count": 6,
   "id": "ce3382d4-3d4c-48e9-bdbc-a917aeb9c8f5",
   "metadata": {},
   "outputs": [],
   "source": [
    "l = [1, 2, 3, 4]"
   ]
  },
  {
   "cell_type": "code",
   "execution_count": 24,
   "id": "8b2d49a2-5ebc-4ee8-953a-c98c6b6e2666",
   "metadata": {},
   "outputs": [],
   "source": [
    "#SIMPLE METHOD\n",
    "def squr(num):\n",
    "    l1 = []\n",
    "    for i in num:\n",
    "        l1.append(i**2)\n",
    "    return l1"
   ]
  },
  {
   "cell_type": "code",
   "execution_count": 10,
   "id": "a0b70960-a833-4314-a3f2-152f0461f89b",
   "metadata": {},
   "outputs": [
    {
     "data": {
      "text/plain": [
       "[1, 4, 9, 16]"
      ]
     },
     "execution_count": 10,
     "metadata": {},
     "output_type": "execute_result"
    }
   ],
   "source": [
    "squr(l)"
   ]
  },
  {
   "cell_type": "code",
   "execution_count": 12,
   "id": "0c46bcea-be90-4bc4-8b23-e5a7f3a4364f",
   "metadata": {},
   "outputs": [],
   "source": []
  },
  {
   "cell_type": "code",
   "execution_count": null,
   "id": "e80fd892-3553-4fb0-a5b6-b8f9063392d9",
   "metadata": {},
   "outputs": [],
   "source": []
  },
  {
   "cell_type": "code",
   "execution_count": 14,
   "id": "08c56214-d829-40f9-89fd-1242a52dd047",
   "metadata": {},
   "outputs": [],
   "source": [
    "#WITH MAP METHOD"
   ]
  },
  {
   "cell_type": "code",
   "execution_count": 19,
   "id": "1182cb36-9ee9-4597-8e3f-12f7387fa4a4",
   "metadata": {},
   "outputs": [],
   "source": [
    "def sq(x):\n",
    "    return x*x"
   ]
  },
  {
   "cell_type": "code",
   "execution_count": 20,
   "id": "36603d46-4e5b-4724-8802-87c8ccbbd67c",
   "metadata": {},
   "outputs": [
    {
     "data": {
      "text/plain": [
       "[1, 4, 9, 16]"
      ]
     },
     "execution_count": 20,
     "metadata": {},
     "output_type": "execute_result"
    }
   ],
   "source": [
    "list(map(sq, l))"
   ]
  },
  {
   "cell_type": "code",
   "execution_count": null,
   "id": "96c5c550-0272-4d38-a4c6-aa886784c629",
   "metadata": {},
   "outputs": [],
   "source": []
  },
  {
   "cell_type": "code",
   "execution_count": 21,
   "id": "be882439-6fcc-43bd-b1d8-bc7dc52b4b9f",
   "metadata": {},
   "outputs": [],
   "source": [
    "#WITH LAMBDA FUNCTION"
   ]
  },
  {
   "cell_type": "code",
   "execution_count": 23,
   "id": "21b20135-5fb4-4794-949f-910907699b66",
   "metadata": {},
   "outputs": [
    {
     "data": {
      "text/plain": [
       "[1, 4, 9, 16]"
      ]
     },
     "execution_count": 23,
     "metadata": {},
     "output_type": "execute_result"
    }
   ],
   "source": [
    "list (map (lambda x: x*x, l))"
   ]
  },
  {
   "cell_type": "code",
   "execution_count": null,
   "id": "ec57f4e9-a0a7-4a50-b4cf-4428e86bdbff",
   "metadata": {},
   "outputs": [],
   "source": []
  },
  {
   "cell_type": "code",
   "execution_count": null,
   "id": "316940c2-a833-4841-a512-49b4838ffb03",
   "metadata": {},
   "outputs": [],
   "source": []
  },
  {
   "cell_type": "code",
   "execution_count": 25,
   "id": "d09d4c5a-199a-4be8-b751-96a85dd4e40b",
   "metadata": {},
   "outputs": [],
   "source": [
    "l1 = [1,2,3,4,5]\n",
    "l2 = [10, 20, 30, 40, 50]\n"
   ]
  },
  {
   "cell_type": "code",
   "execution_count": 28,
   "id": "8c5f422c-09fb-46f7-8477-7d746bab12b3",
   "metadata": {},
   "outputs": [
    {
     "data": {
      "text/plain": [
       "[11, 22, 33, 44, 55]"
      ]
     },
     "execution_count": 28,
     "metadata": {},
     "output_type": "execute_result"
    }
   ],
   "source": [
    "list(map(lambda x, y : x+y, l1, l2))"
   ]
  },
  {
   "cell_type": "code",
   "execution_count": null,
   "id": "5d50f69e-c5e7-4f1e-9f4d-aba94d3f343d",
   "metadata": {},
   "outputs": [],
   "source": []
  },
  {
   "cell_type": "code",
   "execution_count": null,
   "id": "6be44064-0abd-49c3-9ca6-3b91ba4e51df",
   "metadata": {},
   "outputs": [],
   "source": []
  },
  {
   "cell_type": "code",
   "execution_count": 32,
   "id": "8907e5e8-b1ec-4bb8-9da9-8541017cd3a4",
   "metadata": {},
   "outputs": [
    {
     "data": {
      "text/plain": [
       "('P', 'W', 'S', 'K', 'I', 'L', 'L', 'S')"
      ]
     },
     "execution_count": 32,
     "metadata": {},
     "output_type": "execute_result"
    }
   ],
   "source": [
    "s = \"Pwskills\"\n",
    "\n",
    "tuple(map(lambda i : i.upper(), s))"
   ]
  },
  {
   "cell_type": "code",
   "execution_count": null,
   "id": "caaa367f-011f-4039-8606-1894feefdbaf",
   "metadata": {},
   "outputs": [],
   "source": []
  },
  {
   "cell_type": "code",
   "execution_count": null,
   "id": "63f95754-a262-4a13-bc68-98ae4391c434",
   "metadata": {},
   "outputs": [],
   "source": []
  },
  {
   "cell_type": "markdown",
   "id": "9070b4dc-88ae-4acd-820e-2c6ef7673efd",
   "metadata": {},
   "source": [
    "                                                                REDUCE"
   ]
  },
  {
   "cell_type": "code",
   "execution_count": 36,
   "id": "e55c5324-6bbf-4ee3-8d96-94956095c5c4",
   "metadata": {},
   "outputs": [],
   "source": [
    "from functools import reduce"
   ]
  },
  {
   "cell_type": "code",
   "execution_count": 33,
   "id": "10afd2a5-e5a9-4767-aa34-aea006e4ca15",
   "metadata": {},
   "outputs": [],
   "source": [
    "l = [1, 2, 3, 4, 5]"
   ]
  },
  {
   "cell_type": "code",
   "execution_count": 37,
   "id": "0312b3a2-2623-4e56-a901-d737d8eda7e6",
   "metadata": {},
   "outputs": [
    {
     "data": {
      "text/plain": [
       "15"
      ]
     },
     "execution_count": 37,
     "metadata": {},
     "output_type": "execute_result"
    }
   ],
   "source": [
    "reduce(lambda x, y : x+y, l)"
   ]
  },
  {
   "cell_type": "code",
   "execution_count": null,
   "id": "a24fdf64-9380-4a3e-aeed-ee7fa3331029",
   "metadata": {},
   "outputs": [],
   "source": []
  },
  {
   "cell_type": "code",
   "execution_count": 38,
   "id": "94853cb1-1c77-4ff3-bdf9-2baaf04d26d3",
   "metadata": {},
   "outputs": [],
   "source": [
    "#find the maximum number"
   ]
  },
  {
   "cell_type": "code",
   "execution_count": 39,
   "id": "9a3dfa60-4d98-45ec-b3fb-c17703e9b2f4",
   "metadata": {},
   "outputs": [
    {
     "data": {
      "text/plain": [
       "[1, 2, 3, 4, 5]"
      ]
     },
     "execution_count": 39,
     "metadata": {},
     "output_type": "execute_result"
    }
   ],
   "source": [
    "l"
   ]
  },
  {
   "cell_type": "code",
   "execution_count": 52,
   "id": "f6b74a4d-7b09-423e-9f5c-ba761647d256",
   "metadata": {},
   "outputs": [
    {
     "data": {
      "text/plain": [
       "5"
      ]
     },
     "execution_count": 52,
     "metadata": {},
     "output_type": "execute_result"
    }
   ],
   "source": [
    "reduce(lambda x, y : x if x>y else y, l)"
   ]
  },
  {
   "cell_type": "code",
   "execution_count": null,
   "id": "fda6bb0d-dc6f-4d05-9640-899c23626eaa",
   "metadata": {},
   "outputs": [],
   "source": []
  },
  {
   "cell_type": "code",
   "execution_count": null,
   "id": "6e1e6bd8-7412-4046-95dc-345faf6f4ee0",
   "metadata": {},
   "outputs": [],
   "source": []
  },
  {
   "cell_type": "markdown",
   "id": "7448e27f-aa22-449b-a2d4-072b6e16d635",
   "metadata": {},
   "source": [
    "                                                            FILTER"
   ]
  },
  {
   "cell_type": "code",
   "execution_count": 53,
   "id": "7a290d49-e789-4c73-923e-c83f39bfb10f",
   "metadata": {},
   "outputs": [],
   "source": [
    "l = [1, 2, 3, 4, 5]"
   ]
  },
  {
   "cell_type": "code",
   "execution_count": 58,
   "id": "659b8286-97c9-4944-b711-7e637bceee5f",
   "metadata": {},
   "outputs": [
    {
     "data": {
      "text/plain": [
       "[2, 4]"
      ]
     },
     "execution_count": 58,
     "metadata": {},
     "output_type": "execute_result"
    }
   ],
   "source": [
    "#find out the even number\n",
    "\n",
    "list(filter(lambda x : x%2 == 0, l))"
   ]
  },
  {
   "cell_type": "code",
   "execution_count": null,
   "id": "a2d32198-2cda-4ecb-92e8-6209218a88bf",
   "metadata": {},
   "outputs": [],
   "source": []
  },
  {
   "cell_type": "code",
   "execution_count": 59,
   "id": "7f228ad0-ae43-456b-bebd-e793d49f38f1",
   "metadata": {},
   "outputs": [],
   "source": [
    "#find out the negative number"
   ]
  },
  {
   "cell_type": "code",
   "execution_count": 69,
   "id": "08ab5e7c-9a2f-4ed9-93f6-0ed1dde537c6",
   "metadata": {},
   "outputs": [
    {
     "data": {
      "text/plain": [
       "[-1, -3, -100, -99]"
      ]
     },
     "execution_count": 69,
     "metadata": {},
     "output_type": "execute_result"
    }
   ],
   "source": [
    "l = [-1, 3, 4, 3, -3, -100, -99]\n",
    "\n",
    "list(filter (lambda x : x<0  , l))"
   ]
  },
  {
   "cell_type": "code",
   "execution_count": null,
   "id": "d8f601d6-0784-4b51-8b60-99c377f4ba7c",
   "metadata": {},
   "outputs": [],
   "source": []
  },
  {
   "cell_type": "code",
   "execution_count": null,
   "id": "e0106441-628f-41fa-bd32-40bf0370871d",
   "metadata": {},
   "outputs": [],
   "source": []
  },
  {
   "cell_type": "code",
   "execution_count": 70,
   "id": "485abc88-fbc0-41a7-95f5-f8835f4d06ea",
   "metadata": {},
   "outputs": [],
   "source": [
    "#check string length is greater than 6"
   ]
  },
  {
   "cell_type": "code",
   "execution_count": 75,
   "id": "f141fe3f-d93e-4400-8d0c-a05dd5a3c628",
   "metadata": {},
   "outputs": [],
   "source": [
    "l = [\"kolkata\", \"mumbai\", \"dubai\", \"live\"]"
   ]
  },
  {
   "cell_type": "code",
   "execution_count": 76,
   "id": "df35746e-8be8-46cd-aa30-597d3b3b7297",
   "metadata": {},
   "outputs": [
    {
     "data": {
      "text/plain": [
       "['kolkata', 'mumbai']"
      ]
     },
     "execution_count": 76,
     "metadata": {},
     "output_type": "execute_result"
    }
   ],
   "source": [
    "list(filter(lambda x: len(x)>=6, l))"
   ]
  },
  {
   "cell_type": "code",
   "execution_count": null,
   "id": "0700d3d0-47ed-49df-8a8f-09aba0d92e06",
   "metadata": {},
   "outputs": [],
   "source": []
  }
 ],
 "metadata": {
  "kernelspec": {
   "display_name": "Python 3 (ipykernel)",
   "language": "python",
   "name": "python3"
  },
  "language_info": {
   "codemirror_mode": {
    "name": "ipython",
    "version": 3
   },
   "file_extension": ".py",
   "mimetype": "text/x-python",
   "name": "python",
   "nbconvert_exporter": "python",
   "pygments_lexer": "ipython3",
   "version": "3.10.8"
  }
 },
 "nbformat": 4,
 "nbformat_minor": 5
}
