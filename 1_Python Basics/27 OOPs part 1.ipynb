{
 "cells": [
  {
   "cell_type": "markdown",
   "id": "61644223-8d22-4ebe-bb1c-d306a08f44a7",
   "metadata": {},
   "source": [
    "                                                                OOPs"
   ]
  },
  {
   "cell_type": "code",
   "execution_count": 1,
   "id": "e7fcee67-866f-4a5b-bb45-7ab41ea8c8e7",
   "metadata": {},
   "outputs": [],
   "source": [
    "class test :\n",
    "    pass"
   ]
  },
  {
   "cell_type": "code",
   "execution_count": 2,
   "id": "e97e2d9c-dfa1-4b96-adb8-58f32c8cab72",
   "metadata": {},
   "outputs": [
    {
     "data": {
      "text/plain": [
       "__main__.test"
      ]
     },
     "execution_count": 2,
     "metadata": {},
     "output_type": "execute_result"
    }
   ],
   "source": [
    "a = test()\n",
    "type(a)"
   ]
  },
  {
   "cell_type": "code",
   "execution_count": 3,
   "id": "7332f369-5e31-49c6-8bac-00697dd1e830",
   "metadata": {},
   "outputs": [
    {
     "name": "stdout",
     "output_type": "stream",
     "text": [
      "<class '__main__.test'>\n"
     ]
    }
   ],
   "source": [
    "print(type(a))"
   ]
  },
  {
   "cell_type": "code",
   "execution_count": null,
   "id": "6fcd1206-8a8b-4dad-a473-8ecf6dffe18f",
   "metadata": {},
   "outputs": [],
   "source": []
  },
  {
   "cell_type": "code",
   "execution_count": null,
   "id": "91f9bf4f-977d-422f-9507-378dc74c1a6d",
   "metadata": {},
   "outputs": [],
   "source": []
  },
  {
   "cell_type": "code",
   "execution_count": 5,
   "id": "3da6c2ec-89f8-4a50-be5c-efce8b4cd61e",
   "metadata": {},
   "outputs": [],
   "source": [
    "class pwskills :\n",
    "    \n",
    "    def welcome_msg(self):\n",
    "        print(\"Welcome To PW SKILLS Class\")"
   ]
  },
  {
   "cell_type": "code",
   "execution_count": 6,
   "id": "f54a6eb9-cd0b-4d18-b77c-c7486c9ef724",
   "metadata": {},
   "outputs": [],
   "source": [
    "sovan = pwskills()"
   ]
  },
  {
   "cell_type": "code",
   "execution_count": 7,
   "id": "50b14e25-e818-405a-9403-2716d0615546",
   "metadata": {},
   "outputs": [
    {
     "name": "stdout",
     "output_type": "stream",
     "text": [
      "<class '__main__.pwskills'>\n"
     ]
    }
   ],
   "source": [
    "print(type(sovan))"
   ]
  },
  {
   "cell_type": "code",
   "execution_count": 9,
   "id": "33a5f1d2-1d12-410d-8dbb-102accd1b51f",
   "metadata": {},
   "outputs": [
    {
     "name": "stdout",
     "output_type": "stream",
     "text": [
      "Welcome To PW SKILLS Class\n"
     ]
    }
   ],
   "source": [
    "#Call the function\n",
    "sovan.welcome_msg()"
   ]
  },
  {
   "cell_type": "code",
   "execution_count": null,
   "id": "8dc266c3-a322-4784-989d-ac4d4a7cdfb9",
   "metadata": {},
   "outputs": [],
   "source": []
  },
  {
   "cell_type": "code",
   "execution_count": null,
   "id": "0d026d88-42e7-4bd5-a77b-5086308ec88e",
   "metadata": {},
   "outputs": [],
   "source": []
  },
  {
   "cell_type": "code",
   "execution_count": null,
   "id": "0465767b-db6c-423c-aab8-a96652ffb9e3",
   "metadata": {},
   "outputs": [],
   "source": []
  },
  {
   "cell_type": "code",
   "execution_count": 10,
   "id": "cfb4b4a1-c051-466a-be7b-a410d25bdd36",
   "metadata": {},
   "outputs": [],
   "source": [
    "class pwskills1:\n",
    "    \n",
    "    def __init__ (self, phn, email, id):\n",
    "        self.phn = phn\n",
    "        self.email = email\n",
    "        self.id = id\n",
    "        \n",
    "    def student_info(self):\n",
    "        return self.phn, self.email, self.id"
   ]
  },
  {
   "cell_type": "code",
   "execution_count": 15,
   "id": "d37bc97a-73b5-4cab-b670-ab86450a529e",
   "metadata": {},
   "outputs": [
    {
     "data": {
      "text/plain": [
       "(212121, 'sovancareer@gmail.com', 700114)"
      ]
     },
     "execution_count": 15,
     "metadata": {},
     "output_type": "execute_result"
    }
   ],
   "source": [
    "sovan = pwskills1(212121, \"sovancareer@gmail.com\", 700114)\n",
    "sovan.student_info()"
   ]
  },
  {
   "cell_type": "code",
   "execution_count": 16,
   "id": "a5bcf6f3-cfe1-472d-bb2b-0259fc79d246",
   "metadata": {},
   "outputs": [
    {
     "data": {
      "text/plain": [
       "'sovancareer@gmail.com'"
      ]
     },
     "execution_count": 16,
     "metadata": {},
     "output_type": "execute_result"
    }
   ],
   "source": [
    "sovan.email"
   ]
  },
  {
   "cell_type": "code",
   "execution_count": 18,
   "id": "a90216fb-22e4-4237-ab21-c3a0dce3f46b",
   "metadata": {},
   "outputs": [
    {
     "data": {
      "text/plain": [
       "700114"
      ]
     },
     "execution_count": 18,
     "metadata": {},
     "output_type": "execute_result"
    }
   ],
   "source": [
    "sovan.id"
   ]
  },
  {
   "cell_type": "code",
   "execution_count": null,
   "id": "3ed8661d-0a9f-4baf-9d5b-7d116dd2934a",
   "metadata": {},
   "outputs": [],
   "source": []
  },
  {
   "cell_type": "code",
   "execution_count": null,
   "id": "6b231f43-8069-4a4b-9a5f-bb70864e441e",
   "metadata": {},
   "outputs": [],
   "source": []
  },
  {
   "cell_type": "code",
   "execution_count": 25,
   "id": "9e9e9fd7-8e5a-4be4-9f38-6ea450e786de",
   "metadata": {},
   "outputs": [],
   "source": [
    "\"\"\"object assciate with self. needs to be used everywhere\"\"\"\n",
    "\n",
    "class pwskills2:\n",
    "\n",
    "    \n",
    "    def __init__ (self, phn, email, id):\n",
    "        self.phn1 = phn\n",
    "        self.email1 = email\n",
    "        self.id1 = id\n",
    "        \n",
    "    def student_info(self):\n",
    "        return self.phn1, self.email1, self.id1"
   ]
  },
  {
   "cell_type": "code",
   "execution_count": 22,
   "id": "50a12616-a14e-4475-8e60-74c6fbbf896d",
   "metadata": {},
   "outputs": [],
   "source": [
    "sovan = pwskills2(212121, \"sovancareer@gmail.com\", 700114)"
   ]
  },
  {
   "cell_type": "code",
   "execution_count": 23,
   "id": "ead4502c-df4d-4093-80ab-d22d3c83d73b",
   "metadata": {},
   "outputs": [
    {
     "ename": "AttributeError",
     "evalue": "'pwskills2' object has no attribute 'id'",
     "output_type": "error",
     "traceback": [
      "\u001b[0;31m---------------------------------------------------------------------------\u001b[0m",
      "\u001b[0;31mAttributeError\u001b[0m                            Traceback (most recent call last)",
      "Cell \u001b[0;32mIn[23], line 1\u001b[0m\n\u001b[0;32m----> 1\u001b[0m \u001b[43msovan\u001b[49m\u001b[38;5;241;43m.\u001b[39;49m\u001b[43mid\u001b[49m\n",
      "\u001b[0;31mAttributeError\u001b[0m: 'pwskills2' object has no attribute 'id'"
     ]
    }
   ],
   "source": [
    "sovan.id"
   ]
  },
  {
   "cell_type": "code",
   "execution_count": 26,
   "id": "f3bfe7fd-490a-4398-a066-be55bf21f98c",
   "metadata": {},
   "outputs": [
    {
     "data": {
      "text/plain": [
       "700114"
      ]
     },
     "execution_count": 26,
     "metadata": {},
     "output_type": "execute_result"
    }
   ],
   "source": [
    "sovan.id1"
   ]
  },
  {
   "cell_type": "code",
   "execution_count": null,
   "id": "06ad8dc5-8134-4a34-b376-d3b8f12a8fa9",
   "metadata": {},
   "outputs": [],
   "source": []
  },
  {
   "cell_type": "code",
   "execution_count": null,
   "id": "11b9133c-169c-4b53-85a8-33201d3460d0",
   "metadata": {},
   "outputs": [],
   "source": []
  },
  {
   "cell_type": "code",
   "execution_count": 27,
   "id": "36cdc83d-daa2-4edc-a4e3-a615e72129f1",
   "metadata": {},
   "outputs": [],
   "source": [
    "#SELF is not mandatory. SELF IS NOT A RESERVED KEYWORD "
   ]
  },
  {
   "cell_type": "code",
   "execution_count": 28,
   "id": "3de1b581-7f96-4bee-8102-94bb6af5666f",
   "metadata": {},
   "outputs": [],
   "source": [
    "\n",
    "class pwskills2:\n",
    "\n",
    "    \n",
    "    def __init__ (sudh, phn, email, id):\n",
    "        sudh.phn1 = phn\n",
    "        sudh.email1 = email\n",
    "        sudh.id1 = id\n",
    "        \n",
    "    def student_info(self):\n",
    "        return sudh.phn1, sudh.email1, sudh.id1"
   ]
  },
  {
   "cell_type": "code",
   "execution_count": 29,
   "id": "fa1216d2-3345-4aa4-8f33-25560b7b08ba",
   "metadata": {},
   "outputs": [],
   "source": [
    "sovan = pwskills2(212121, \"sovancareer@gmail.com\", 700114)"
   ]
  },
  {
   "cell_type": "code",
   "execution_count": 30,
   "id": "0bc8f106-1c08-4173-af4d-2f9a7fa2606d",
   "metadata": {},
   "outputs": [
    {
     "data": {
      "text/plain": [
       "212121"
      ]
     },
     "execution_count": 30,
     "metadata": {},
     "output_type": "execute_result"
    }
   ],
   "source": [
    "sovan.phn1"
   ]
  },
  {
   "cell_type": "code",
   "execution_count": null,
   "id": "3fa17369-0d08-4467-998c-cbcfddbd79e2",
   "metadata": {},
   "outputs": [],
   "source": []
  }
 ],
 "metadata": {
  "kernelspec": {
   "display_name": "Python 3 (ipykernel)",
   "language": "python",
   "name": "python3"
  },
  "language_info": {
   "codemirror_mode": {
    "name": "ipython",
    "version": 3
   },
   "file_extension": ".py",
   "mimetype": "text/x-python",
   "name": "python",
   "nbconvert_exporter": "python",
   "pygments_lexer": "ipython3",
   "version": "3.10.8"
  }
 },
 "nbformat": 4,
 "nbformat_minor": 5
}
