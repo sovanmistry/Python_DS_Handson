{
 "cells": [
  {
   "cell_type": "markdown",
   "id": "978040bb-a8b0-4db0-8f72-af66d61f6319",
   "metadata": {},
   "source": [
    "                                                                    POLYMORPHISM"
   ]
  },
  {
   "cell_type": "code",
   "execution_count": 6,
   "id": "e586292a-8c0c-49c6-bfc1-3c639d1a2e9a",
   "metadata": {},
   "outputs": [],
   "source": [
    "\"\"\"Polymorphism - multiple behaviour of a entity \"\"\"\n",
    "\n",
    "def test(a, b):\n",
    "    return a+b"
   ]
  },
  {
   "cell_type": "code",
   "execution_count": 7,
   "id": "1e38eff9-e979-46bb-9e56-6af70ff44e30",
   "metadata": {},
   "outputs": [
    {
     "data": {
      "text/plain": [
       "5"
      ]
     },
     "execution_count": 7,
     "metadata": {},
     "output_type": "execute_result"
    }
   ],
   "source": [
    "test(2, 3)"
   ]
  },
  {
   "cell_type": "code",
   "execution_count": 3,
   "id": "2f68dec0-579c-4ffb-95ab-6a2b490278c6",
   "metadata": {},
   "outputs": [
    {
     "data": {
      "text/plain": [
       "'Sovan Mistry'"
      ]
     },
     "execution_count": 3,
     "metadata": {},
     "output_type": "execute_result"
    }
   ],
   "source": [
    "test(\"Sovan\", ' Mistry')"
   ]
  },
  {
   "cell_type": "code",
   "execution_count": 5,
   "id": "3558a4b4-37ff-4b9e-849a-db1d2604bc9f",
   "metadata": {},
   "outputs": [
    {
     "data": {
      "text/plain": [
       "[1, 2, 3, 10, 20, 30]"
      ]
     },
     "execution_count": 5,
     "metadata": {},
     "output_type": "execute_result"
    }
   ],
   "source": [
    "test ([1,2,3], [10,20,30])"
   ]
  },
  {
   "cell_type": "code",
   "execution_count": null,
   "id": "c1a482cc-aca6-43fb-ac27-627802746777",
   "metadata": {},
   "outputs": [],
   "source": []
  },
  {
   "cell_type": "code",
   "execution_count": null,
   "id": "bd7a79b4-91da-4d14-8e82-56685dbb0c57",
   "metadata": {},
   "outputs": [],
   "source": []
  },
  {
   "cell_type": "code",
   "execution_count": null,
   "id": "0124812e-4b58-44c1-a5c5-832b01ec621e",
   "metadata": {},
   "outputs": [],
   "source": []
  },
  {
   "cell_type": "code",
   "execution_count": 8,
   "id": "eaf7947e-3540-421e-b9e4-e901e681018d",
   "metadata": {},
   "outputs": [],
   "source": [
    "class data_science:\n",
    "    def subject(self):\n",
    "        print(\"this is my DATA SCIENCE class\")"
   ]
  },
  {
   "cell_type": "code",
   "execution_count": 9,
   "id": "ccc7b48e-f5de-4c6c-969b-36d0dedb5c33",
   "metadata": {},
   "outputs": [],
   "source": [
    "class web_dev:\n",
    "    def subject(self):\n",
    "        print(\"this is my WEB DEVELOPMENT class\")"
   ]
  },
  {
   "cell_type": "code",
   "execution_count": 19,
   "id": "262e7ba9-c6cb-4cd6-882a-badfdfdf6bf4",
   "metadata": {},
   "outputs": [],
   "source": [
    "def operation(object):\n",
    "    for i in object: \n",
    "        i.subject()"
   ]
  },
  {
   "cell_type": "code",
   "execution_count": 20,
   "id": "b002f0a2-66e0-4ada-b22c-5da6b0da32fa",
   "metadata": {},
   "outputs": [
    {
     "name": "stdout",
     "output_type": "stream",
     "text": [
      "this is my DATA SCIENCE class\n",
      "this is my WEB DEVELOPMENT class\n"
     ]
    }
   ],
   "source": [
    "ds = data_science()\n",
    "webd = web_dev()\n",
    "\n",
    "obj = [ds, webd]\n",
    "\n",
    "operation(obj)"
   ]
  },
  {
   "cell_type": "code",
   "execution_count": null,
   "id": "f0dde914-6726-4459-9b23-1accb61a1854",
   "metadata": {},
   "outputs": [],
   "source": []
  }
 ],
 "metadata": {
  "kernelspec": {
   "display_name": "Python 3 (ipykernel)",
   "language": "python",
   "name": "python3"
  },
  "language_info": {
   "codemirror_mode": {
    "name": "ipython",
    "version": 3
   },
   "file_extension": ".py",
   "mimetype": "text/x-python",
   "name": "python",
   "nbconvert_exporter": "python",
   "pygments_lexer": "ipython3",
   "version": "3.10.8"
  }
 },
 "nbformat": 4,
 "nbformat_minor": 5
}
