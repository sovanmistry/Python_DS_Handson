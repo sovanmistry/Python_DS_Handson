{
 "cells": [
  {
   "cell_type": "markdown",
   "id": "bf9f848c-3ad0-4024-a226-f70dc41552bc",
   "metadata": {},
   "source": [
    "                                                            ENCAPSULATION"
   ]
  },
  {
   "cell_type": "code",
   "execution_count": 21,
   "id": "b8fc5f5c-9e1a-4e73-9097-20e9275991eb",
   "metadata": {},
   "outputs": [],
   "source": [
    "\n",
    "class test :\n",
    "    \n",
    "    def __init__(self, a, b):\n",
    "        self.a = a\n",
    "        self.b = b\n",
    "        "
   ]
  },
  {
   "cell_type": "code",
   "execution_count": 22,
   "id": "13d06a04-8c25-4d65-ac7a-83d5f1eb9ef3",
   "metadata": {},
   "outputs": [],
   "source": [
    "t = test(10,12)"
   ]
  },
  {
   "cell_type": "code",
   "execution_count": 23,
   "id": "d86b2964-7766-46a1-8f0c-5043a1bfc4d6",
   "metadata": {},
   "outputs": [
    {
     "data": {
      "text/plain": [
       "10"
      ]
     },
     "execution_count": 23,
     "metadata": {},
     "output_type": "execute_result"
    }
   ],
   "source": [
    "t.a"
   ]
  },
  {
   "cell_type": "code",
   "execution_count": 25,
   "id": "37d165d8-4ec6-4eba-8449-496e9acc0057",
   "metadata": {},
   "outputs": [
    {
     "data": {
      "text/plain": [
       "10000"
      ]
     },
     "execution_count": 25,
     "metadata": {},
     "output_type": "execute_result"
    }
   ],
   "source": [
    "t.a = 10000\n",
    "t.a"
   ]
  },
  {
   "cell_type": "code",
   "execution_count": 26,
   "id": "0494ccbe-f59a-4a29-8d99-82cbaafecce5",
   "metadata": {},
   "outputs": [],
   "source": [
    "t = test(10,12)"
   ]
  },
  {
   "cell_type": "code",
   "execution_count": 27,
   "id": "c8551eda-bc80-4152-9882-81c5b9b052bf",
   "metadata": {},
   "outputs": [
    {
     "data": {
      "text/plain": [
       "10"
      ]
     },
     "execution_count": 27,
     "metadata": {},
     "output_type": "execute_result"
    }
   ],
   "source": [
    "t.a"
   ]
  },
  {
   "cell_type": "markdown",
   "id": "2707f269-c3ba-4044-8975-737187ede56f",
   "metadata": {},
   "source": [
    "\"\"\" \n",
    "on above example we can modify the value of a & b EXTERNALLY\n",
    "we have to remove this external modification\n",
    "now POLYMORPHISM comes in picture\n",
    "\"\"\""
   ]
  },
  {
   "cell_type": "code",
   "execution_count": null,
   "id": "9efc8cf6-0d26-4071-9766-b721f0037ee3",
   "metadata": {},
   "outputs": [],
   "source": []
  },
  {
   "cell_type": "code",
   "execution_count": null,
   "id": "e7af42f5-59a3-42e5-bb3e-6c1943b744fe",
   "metadata": {},
   "outputs": [],
   "source": []
  },
  {
   "cell_type": "code",
   "execution_count": 46,
   "id": "88ce8059-9a13-43f1-bedd-c9cdb62888ae",
   "metadata": {},
   "outputs": [],
   "source": [
    "class car :\n",
    "    \n",
    "    def __init__(self, year, make, model, speed):\n",
    "        \n",
    "        # we are using '__' to include the feature of polymorphism\n",
    "        self.__year = year\n",
    "        self.__make = make\n",
    "        self.__model = model\n",
    "        self.__speed = speed\n",
    "        \n",
    "    def set_speed(self, speed):\n",
    "        self.__speed = 0 if speed<0 else speed\n",
    "        \n",
    "    def get_speed(self):\n",
    "        return self.__speed"
   ]
  },
  {
   "cell_type": "code",
   "execution_count": 47,
   "id": "8a9d154f-3a96-4a8b-a9a8-20b83f658414",
   "metadata": {},
   "outputs": [],
   "source": [
    "c = car (2000, \"Chevy\", \"Cruze\", \"180kmph\")"
   ]
  },
  {
   "cell_type": "code",
   "execution_count": 42,
   "id": "242a129f-9f2b-41eb-bd92-baef20689777",
   "metadata": {},
   "outputs": [
    {
     "ename": "AttributeError",
     "evalue": "'car' object has no attribute '__make'",
     "output_type": "error",
     "traceback": [
      "\u001b[0;31m---------------------------------------------------------------------------\u001b[0m",
      "\u001b[0;31mAttributeError\u001b[0m                            Traceback (most recent call last)",
      "Cell \u001b[0;32mIn[42], line 1\u001b[0m\n\u001b[0;32m----> 1\u001b[0m \u001b[43mc\u001b[49m\u001b[38;5;241;43m.\u001b[39;49m\u001b[43m__make\u001b[49m\n",
      "\u001b[0;31mAttributeError\u001b[0m: 'car' object has no attribute '__make'"
     ]
    }
   ],
   "source": [
    "c.__make"
   ]
  },
  {
   "cell_type": "code",
   "execution_count": 43,
   "id": "fd48e87e-374e-4ec3-afb5-fcc7d3c27d71",
   "metadata": {},
   "outputs": [
    {
     "data": {
      "text/plain": [
       "2000"
      ]
     },
     "execution_count": 43,
     "metadata": {},
     "output_type": "execute_result"
    }
   ],
   "source": [
    "c._car__year"
   ]
  },
  {
   "cell_type": "code",
   "execution_count": 53,
   "id": "602eec42-daec-4831-b58d-1299e6764396",
   "metadata": {},
   "outputs": [],
   "source": [
    "c.set_speed(300)"
   ]
  },
  {
   "cell_type": "code",
   "execution_count": 54,
   "id": "8d9706a8-68c8-4d8a-89d2-ab07a87f2233",
   "metadata": {},
   "outputs": [
    {
     "data": {
      "text/plain": [
       "300"
      ]
     },
     "execution_count": 54,
     "metadata": {},
     "output_type": "execute_result"
    }
   ],
   "source": [
    "c.get_speed()"
   ]
  },
  {
   "cell_type": "code",
   "execution_count": null,
   "id": "2d3500e8-b73b-4bb5-a5b8-c7884f95e68e",
   "metadata": {},
   "outputs": [],
   "source": []
  },
  {
   "cell_type": "code",
   "execution_count": null,
   "id": "62b5159f-e57b-405c-9144-6845111e2c31",
   "metadata": {},
   "outputs": [],
   "source": []
  },
  {
   "cell_type": "code",
   "execution_count": null,
   "id": "86af8c5c-644b-4adc-aa76-d1652d8c2d51",
   "metadata": {},
   "outputs": [],
   "source": []
  },
  {
   "cell_type": "code",
   "execution_count": 55,
   "id": "af603694-e8a9-423a-a67e-dd8bfe0f26d9",
   "metadata": {},
   "outputs": [],
   "source": [
    "#BANK ACCOUNT CLASS"
   ]
  },
  {
   "cell_type": "code",
   "execution_count": 70,
   "id": "ab64b1e2-02cd-481b-b620-519b7446605e",
   "metadata": {},
   "outputs": [],
   "source": [
    "class Bank_Account :\n",
    "    \n",
    "    def __init__(self, balance):\n",
    "        self.__balance = balance \n",
    "        \n",
    "    \n",
    "    def deposit(self, amount):\n",
    "        self.__balance = self.__balance + amount\n",
    "        print(\"Your New Balance is \", self.__balance)\n",
    "        \n",
    "    \n",
    "    def withdraw(self, amount):\n",
    "        if self.__balance >= amount:\n",
    "            self.__balance = self.__balance - amount\n",
    "            print(\"Your New Balance is \", self.__balance)\n",
    "        else:\n",
    "            print(\"you don't have sufficient balance\")\n",
    "            \n",
    "    def get_balance(self):\n",
    "        print(\"your Available balance is\", self.__balance)\n",
    "        \n",
    "        "
   ]
  },
  {
   "cell_type": "code",
   "execution_count": 77,
   "id": "9b676507-1102-4f2d-898a-a9a8a967cfbf",
   "metadata": {},
   "outputs": [],
   "source": [
    "customer1 = Bank_Account(1000)"
   ]
  },
  {
   "cell_type": "code",
   "execution_count": 78,
   "id": "07c21345-3726-4365-9316-a7c1b7be909e",
   "metadata": {},
   "outputs": [
    {
     "name": "stdout",
     "output_type": "stream",
     "text": [
      "your Available balance is 1000\n"
     ]
    }
   ],
   "source": [
    "customer1.get_balance()"
   ]
  },
  {
   "cell_type": "code",
   "execution_count": 79,
   "id": "4ad139a3-32ed-452f-a5c9-fab62e7284f1",
   "metadata": {},
   "outputs": [
    {
     "name": "stdout",
     "output_type": "stream",
     "text": [
      "Your New Balance is  1500\n"
     ]
    }
   ],
   "source": [
    "customer1.deposit(500)"
   ]
  },
  {
   "cell_type": "code",
   "execution_count": 81,
   "id": "fcc84677-3a6c-413b-b205-1753e6940cc5",
   "metadata": {},
   "outputs": [
    {
     "name": "stdout",
     "output_type": "stream",
     "text": [
      "Your New Balance is  1300\n"
     ]
    }
   ],
   "source": [
    "customer1.withdraw(200)"
   ]
  },
  {
   "cell_type": "code",
   "execution_count": 82,
   "id": "c9e8f9ee-5626-4062-9500-e1996f8a8178",
   "metadata": {},
   "outputs": [
    {
     "name": "stdout",
     "output_type": "stream",
     "text": [
      "you don't have sufficient balance\n"
     ]
    }
   ],
   "source": [
    "customer1.withdraw(15200)"
   ]
  },
  {
   "cell_type": "code",
   "execution_count": null,
   "id": "a63c976b-fd3c-40bc-95db-bfc59789cc00",
   "metadata": {},
   "outputs": [],
   "source": []
  }
 ],
 "metadata": {
  "kernelspec": {
   "display_name": "Python 3 (ipykernel)",
   "language": "python",
   "name": "python3"
  },
  "language_info": {
   "codemirror_mode": {
    "name": "ipython",
    "version": 3
   },
   "file_extension": ".py",
   "mimetype": "text/x-python",
   "name": "python",
   "nbconvert_exporter": "python",
   "pygments_lexer": "ipython3",
   "version": "3.10.8"
  }
 },
 "nbformat": 4,
 "nbformat_minor": 5
}
