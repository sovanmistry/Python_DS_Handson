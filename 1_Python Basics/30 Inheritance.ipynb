{
 "cells": [
  {
   "cell_type": "markdown",
   "id": "75b2cd14-e5c1-4545-b19b-df0418219e3d",
   "metadata": {},
   "source": [
    "                                                                INHERITANCE"
   ]
  },
  {
   "cell_type": "code",
   "execution_count": 2,
   "id": "6e1e1620-c654-462a-8219-8ec87aff41c2",
   "metadata": {},
   "outputs": [],
   "source": [
    "class test:\n",
    "    \n",
    "    def test_method(self):\n",
    "        return \"Properties of Parent Class\""
   ]
  },
  {
   "cell_type": "code",
   "execution_count": 4,
   "id": "e6579f75-bb02-4637-984b-cc9732887722",
   "metadata": {},
   "outputs": [],
   "source": [
    "class Child_Test(test):\n",
    "    pass"
   ]
  },
  {
   "cell_type": "code",
   "execution_count": 6,
   "id": "2ca11093-918c-48ad-a498-f1f0dced45a1",
   "metadata": {},
   "outputs": [],
   "source": [
    "child_obj = Child_Test()"
   ]
  },
  {
   "cell_type": "code",
   "execution_count": 7,
   "id": "7e3ed44f-728b-4d51-af4d-6a69e5a3278f",
   "metadata": {},
   "outputs": [
    {
     "data": {
      "text/plain": [
       "'Properties of Parent Class'"
      ]
     },
     "execution_count": 7,
     "metadata": {},
     "output_type": "execute_result"
    }
   ],
   "source": [
    "child_obj.test_method()"
   ]
  },
  {
   "cell_type": "code",
   "execution_count": null,
   "id": "0fd3e7df-574c-4640-a552-ed05f8bccdb7",
   "metadata": {},
   "outputs": [],
   "source": []
  },
  {
   "cell_type": "code",
   "execution_count": null,
   "id": "2cec5cf1-079c-4ca6-a896-80a40727f078",
   "metadata": {},
   "outputs": [],
   "source": []
  },
  {
   "cell_type": "code",
   "execution_count": null,
   "id": "5956c49b-d791-4af1-99e6-07816b0d6425",
   "metadata": {},
   "outputs": [],
   "source": []
  },
  {
   "cell_type": "markdown",
   "id": "40df15c8-d967-42d0-b2ac-5839c67f6bba",
   "metadata": {},
   "source": [
    "                                                                MULTILEVEL INHERITANCE"
   ]
  },
  {
   "cell_type": "code",
   "execution_count": 9,
   "id": "6097499f-089b-4472-bf43-bd29f8f93cc5",
   "metadata": {},
   "outputs": [],
   "source": [
    "class class1:\n",
    "    def class1_func(self):\n",
    "        return \"Properties of class 1\""
   ]
  },
  {
   "cell_type": "code",
   "execution_count": 10,
   "id": "af6305dd-af2b-4039-aed2-78ec752d7322",
   "metadata": {},
   "outputs": [],
   "source": [
    "class class2(class1):\n",
    "    def class2_fun(self):\n",
    "        return \"Properties of class2\""
   ]
  },
  {
   "cell_type": "code",
   "execution_count": 11,
   "id": "081b8616-3531-453e-9f8e-5fd8d8d2caac",
   "metadata": {},
   "outputs": [],
   "source": [
    "class class3(class2):\n",
    "    pass"
   ]
  },
  {
   "cell_type": "code",
   "execution_count": 12,
   "id": "4c641e40-f941-4362-9a0f-7fbb468813d9",
   "metadata": {},
   "outputs": [],
   "source": [
    "obj_class3 = class3()"
   ]
  },
  {
   "cell_type": "code",
   "execution_count": 14,
   "id": "99010587-7265-4a66-9bf1-280d762df59b",
   "metadata": {},
   "outputs": [
    {
     "data": {
      "text/plain": [
       "'Properties of class 1'"
      ]
     },
     "execution_count": 14,
     "metadata": {},
     "output_type": "execute_result"
    }
   ],
   "source": [
    "obj_class3.class1_func()"
   ]
  },
  {
   "cell_type": "code",
   "execution_count": 15,
   "id": "92bc56ac-330f-4bd3-8d99-3e06aee05bd6",
   "metadata": {},
   "outputs": [
    {
     "data": {
      "text/plain": [
       "'Properties of class2'"
      ]
     },
     "execution_count": 15,
     "metadata": {},
     "output_type": "execute_result"
    }
   ],
   "source": [
    "obj_class3.class2_fun()"
   ]
  },
  {
   "cell_type": "code",
   "execution_count": null,
   "id": "c9669009-b25e-4428-a45d-81f2b5252e9e",
   "metadata": {},
   "outputs": [],
   "source": []
  },
  {
   "cell_type": "code",
   "execution_count": null,
   "id": "7b29ec5c-cda4-456e-b734-1843bd4a59ed",
   "metadata": {},
   "outputs": [],
   "source": []
  },
  {
   "cell_type": "code",
   "execution_count": null,
   "id": "44a5b0cd-f140-4f58-a9a1-3b005d87a674",
   "metadata": {},
   "outputs": [],
   "source": []
  },
  {
   "cell_type": "markdown",
   "id": "8b80a7f9-b86c-4b4b-81af-f19c90844e78",
   "metadata": {},
   "source": [
    "                                                            MULTIPLE INHERITANCE"
   ]
  },
  {
   "cell_type": "code",
   "execution_count": 16,
   "id": "bc58ecb1-4a36-4579-9e9a-98da31430251",
   "metadata": {},
   "outputs": [],
   "source": [
    "class class1:\n",
    "    def class1_func(self):\n",
    "        return \"Properties of class 1\""
   ]
  },
  {
   "cell_type": "code",
   "execution_count": 18,
   "id": "8aa5bc72-5ca5-42e2-bd25-c14bc96953ca",
   "metadata": {},
   "outputs": [],
   "source": [
    "class class2:\n",
    "    def class2_fun(self):\n",
    "        return \"Properties of class2\""
   ]
  },
  {
   "cell_type": "code",
   "execution_count": 19,
   "id": "26f10f7c-3852-478d-b349-008612f4f274",
   "metadata": {},
   "outputs": [],
   "source": [
    "class class3 (class1, class2):\n",
    "    pass"
   ]
  },
  {
   "cell_type": "code",
   "execution_count": 20,
   "id": "c4b59d6f-dccc-4877-91fe-aa2581d56d12",
   "metadata": {},
   "outputs": [],
   "source": [
    "obj_class3 = class3()"
   ]
  },
  {
   "cell_type": "code",
   "execution_count": 21,
   "id": "42aa5e33-2189-467d-9037-1a67f7e80aec",
   "metadata": {},
   "outputs": [
    {
     "data": {
      "text/plain": [
       "'Properties of class2'"
      ]
     },
     "execution_count": 21,
     "metadata": {},
     "output_type": "execute_result"
    }
   ],
   "source": [
    "obj_class3.class2_fun()"
   ]
  },
  {
   "cell_type": "code",
   "execution_count": 23,
   "id": "c41e8624-8ca6-471d-87ee-6e53216fd72b",
   "metadata": {},
   "outputs": [
    {
     "data": {
      "text/plain": [
       "'Properties of class 1'"
      ]
     },
     "execution_count": 23,
     "metadata": {},
     "output_type": "execute_result"
    }
   ],
   "source": [
    "obj_class3.class1_func()"
   ]
  },
  {
   "cell_type": "code",
   "execution_count": null,
   "id": "606b414f-14de-414b-a764-453a28ac46dd",
   "metadata": {},
   "outputs": [],
   "source": []
  }
 ],
 "metadata": {
  "kernelspec": {
   "display_name": "Python 3 (ipykernel)",
   "language": "python",
   "name": "python3"
  },
  "language_info": {
   "codemirror_mode": {
    "name": "ipython",
    "version": 3
   },
   "file_extension": ".py",
   "mimetype": "text/x-python",
   "name": "python",
   "nbconvert_exporter": "python",
   "pygments_lexer": "ipython3",
   "version": "3.10.8"
  }
 },
 "nbformat": 4,
 "nbformat_minor": 5
}
