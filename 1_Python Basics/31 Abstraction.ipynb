{
 "cells": [
  {
   "cell_type": "markdown",
   "id": "1e612f3f-fd36-4115-aee3-893102277275",
   "metadata": {},
   "source": [
    "                                                        Abstraction "
   ]
  },
  {
   "cell_type": "code",
   "execution_count": 1,
   "id": "0756a1f9-8518-4b05-a0a2-5be29e3ba0ca",
   "metadata": {},
   "outputs": [],
   "source": [
    "import abc\n",
    "\n",
    "class pwskills:\n",
    "    \n",
    "    @abc.abstractclassmethod\n",
    "    def assignment(self):\n",
    "        pass\n",
    "    \n",
    "    @abc.abstractclassmethod\n",
    "    def details(self):\n",
    "        pass\n",
    "    \n",
    "    @abc.abstractclassmethod\n",
    "    def marks(self):\n",
    "        pass\n",
    "    \n",
    "    "
   ]
  },
  {
   "cell_type": "code",
   "execution_count": 2,
   "id": "a7087638-6d12-43bf-a901-7c6cf42d9b03",
   "metadata": {},
   "outputs": [],
   "source": [
    "class Student_details(pwskills):\n",
    "    \n",
    "    def assignment(self):\n",
    "        return \"this is for assignments\"\n",
    "    \n",
    "    def details (self):\n",
    "        return \" this is for student details\" "
   ]
  },
  {
   "cell_type": "code",
   "execution_count": 3,
   "id": "0e50d44f-5aa1-420c-a54a-e350768e14ed",
   "metadata": {},
   "outputs": [],
   "source": [
    "class DataSceicne(pwskills):\n",
    "    \n",
    "    def marks(self):\n",
    "        return \" this is for marks\" "
   ]
  },
  {
   "cell_type": "code",
   "execution_count": 4,
   "id": "c2adffa7-0038-460d-bc31-42919447f812",
   "metadata": {},
   "outputs": [],
   "source": [
    "dsm= DataSceicne()"
   ]
  },
  {
   "cell_type": "code",
   "execution_count": 5,
   "id": "4e6063db-f5f5-4eb1-8f76-403d81e79184",
   "metadata": {},
   "outputs": [],
   "source": [
    "dsm.assignment()"
   ]
  },
  {
   "cell_type": "code",
   "execution_count": 6,
   "id": "454012a5-4e45-4f6e-8d5c-2b720c0cfe9c",
   "metadata": {},
   "outputs": [],
   "source": [
    "dsm.details()"
   ]
  },
  {
   "cell_type": "code",
   "execution_count": 7,
   "id": "d1f70514-287d-4eb3-a7bd-14a8b70320dd",
   "metadata": {},
   "outputs": [
    {
     "data": {
      "text/plain": [
       "' this is for marks'"
      ]
     },
     "execution_count": 7,
     "metadata": {},
     "output_type": "execute_result"
    }
   ],
   "source": [
    "dsm.marks()"
   ]
  },
  {
   "cell_type": "code",
   "execution_count": null,
   "id": "5858ac7f-b6d5-4f92-9e62-67b838850b72",
   "metadata": {},
   "outputs": [],
   "source": []
  }
 ],
 "metadata": {
  "kernelspec": {
   "display_name": "Python 3 (ipykernel)",
   "language": "python",
   "name": "python3"
  },
  "language_info": {
   "codemirror_mode": {
    "name": "ipython",
    "version": 3
   },
   "file_extension": ".py",
   "mimetype": "text/x-python",
   "name": "python",
   "nbconvert_exporter": "python",
   "pygments_lexer": "ipython3",
   "version": "3.10.8"
  }
 },
 "nbformat": 4,
 "nbformat_minor": 5
}
