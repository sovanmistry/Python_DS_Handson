{
 "cells": [
  {
   "cell_type": "markdown",
   "id": "8173ff00-c7f1-4e8b-bcaa-ce4f64370436",
   "metadata": {},
   "source": [
    "                                                Decorator"
   ]
  },
  {
   "cell_type": "code",
   "execution_count": 19,
   "id": "256ffa63-3ccb-4c2a-976b-d43fa15c4afa",
   "metadata": {},
   "outputs": [],
   "source": [
    "def deco(fun):\n",
    "    def test_deco():\n",
    "        print(\"This is start of a function\")\n",
    "        fun()\n",
    "        print(\"This is end of a function \")\n",
    "    return test_deco()"
   ]
  },
  {
   "cell_type": "code",
   "execution_count": 6,
   "id": "86608673-e3d0-46d1-908d-c0b657fcc489",
   "metadata": {},
   "outputs": [],
   "source": [
    "#simple function \n",
    "\n",
    "\n",
    "def test():\n",
    "    print(5+10)"
   ]
  },
  {
   "cell_type": "code",
   "execution_count": 7,
   "id": "c0fdd813-1a49-490d-b29a-d5f606f5d89d",
   "metadata": {},
   "outputs": [
    {
     "name": "stdout",
     "output_type": "stream",
     "text": [
      "15\n"
     ]
    }
   ],
   "source": [
    "test()"
   ]
  },
  {
   "cell_type": "code",
   "execution_count": 20,
   "id": "9a3e9b98-4c3e-4caa-a16e-6cc6794728a5",
   "metadata": {},
   "outputs": [
    {
     "name": "stdout",
     "output_type": "stream",
     "text": [
      "This is start of a function\n",
      "15\n",
      "This is end of a function \n"
     ]
    }
   ],
   "source": [
    "#with decorator \n",
    "\n",
    "@deco\n",
    "def test1():\n",
    "    print(5+10)"
   ]
  },
  {
   "cell_type": "code",
   "execution_count": null,
   "id": "6f8d534c-8a3f-4cf2-bfb7-ed5078f1b447",
   "metadata": {},
   "outputs": [],
   "source": []
  },
  {
   "cell_type": "code",
   "execution_count": null,
   "id": "cd65504e-14d8-4594-a10d-6bceb8f9e627",
   "metadata": {},
   "outputs": [],
   "source": []
  },
  {
   "cell_type": "code",
   "execution_count": 21,
   "id": "25e4c8a5-b656-4140-9768-b40495fa16a8",
   "metadata": {},
   "outputs": [],
   "source": [
    "#Calculate the running time of any function with decorator function"
   ]
  },
  {
   "cell_type": "code",
   "execution_count": 30,
   "id": "e569fc4a-826b-41ac-be97-b9799b819942",
   "metadata": {},
   "outputs": [],
   "source": [
    "import time\n",
    "\n",
    "def run_time(func):\n",
    "    def calculate_time():\n",
    "        start = time.time()\n",
    "        func()\n",
    "        end = time.time()\n",
    "        print(end-start)\n",
    "        \n",
    "    return calculate_time"
   ]
  },
  {
   "cell_type": "code",
   "execution_count": 31,
   "id": "1d0a3802-21bb-4d4a-b728-8db90c6f0cb0",
   "metadata": {},
   "outputs": [],
   "source": [
    "#example 1 \n",
    "\n",
    "@run_time\n",
    "def test1():\n",
    "    print(5+10)"
   ]
  },
  {
   "cell_type": "code",
   "execution_count": 32,
   "id": "2f8a7926-2b53-42fa-a12f-7f49ebbd8701",
   "metadata": {},
   "outputs": [
    {
     "name": "stdout",
     "output_type": "stream",
     "text": [
      "15\n",
      "4.76837158203125e-05\n"
     ]
    }
   ],
   "source": [
    "test1()"
   ]
  },
  {
   "cell_type": "code",
   "execution_count": null,
   "id": "b049b6ff-6b37-4e7f-bd64-50cc5bb5a31a",
   "metadata": {},
   "outputs": [],
   "source": [
    "\n",
    "\n"
   ]
  },
  {
   "cell_type": "code",
   "execution_count": null,
   "id": "d2bfad16-2bdd-4528-99ef-8aeb38643797",
   "metadata": {},
   "outputs": [],
   "source": [
    "#example 2 \n",
    "\n",
    "@run_time\n",
    "def test2():\n",
    "    i=0\n",
    "    for i in range(100000000000000000):\n",
    "        pass"
   ]
  },
  {
   "cell_type": "code",
   "execution_count": null,
   "id": "26b49220-cde7-4eda-bde4-9d700098ad2d",
   "metadata": {},
   "outputs": [],
   "source": [
    "test2()"
   ]
  },
  {
   "cell_type": "code",
   "execution_count": null,
   "id": "967c7743-1558-41aa-94c8-5ff0b47790c5",
   "metadata": {},
   "outputs": [],
   "source": []
  }
 ],
 "metadata": {
  "kernelspec": {
   "display_name": "Python 3 (ipykernel)",
   "language": "python",
   "name": "python3"
  },
  "language_info": {
   "codemirror_mode": {
    "name": "ipython",
    "version": 3
   },
   "file_extension": ".py",
   "mimetype": "text/x-python",
   "name": "python",
   "nbconvert_exporter": "python",
   "pygments_lexer": "ipython3",
   "version": "3.10.8"
  }
 },
 "nbformat": 4,
 "nbformat_minor": 5
}
