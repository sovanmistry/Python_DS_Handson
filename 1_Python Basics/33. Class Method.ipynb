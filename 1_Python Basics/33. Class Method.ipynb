{
 "cells": [
  {
   "cell_type": "markdown",
   "id": "983de077-c8b0-460f-954b-7a8b50a88d6a",
   "metadata": {},
   "source": [
    "                                            Class Method"
   ]
  },
  {
   "cell_type": "markdown",
   "id": "b8cfd42c-3238-4026-99e6-acadf149a879",
   "metadata": {},
   "source": [
    "                                        simple class"
   ]
  },
  {
   "cell_type": "code",
   "execution_count": 3,
   "id": "86f276b1-f3a0-4fde-a0f6-c7ae68309bd2",
   "metadata": {},
   "outputs": [],
   "source": [
    "class pwskills:\n",
    "    \n",
    "    def __init__(self, name, email):\n",
    "        self.name = name\n",
    "        self.email = email\n",
    "        \n",
    "    def student_details(self):\n",
    "        print(self.name, self.email)"
   ]
  },
  {
   "cell_type": "code",
   "execution_count": 4,
   "id": "bbba99b1-93df-4048-8b65-de61451e31f4",
   "metadata": {},
   "outputs": [],
   "source": [
    "pw = pwskills('sovan', 'sovan@gmail.com')"
   ]
  },
  {
   "cell_type": "code",
   "execution_count": 5,
   "id": "8703686e-c01e-4286-a766-7fa775e473a2",
   "metadata": {},
   "outputs": [
    {
     "data": {
      "text/plain": [
       "'sovan'"
      ]
     },
     "execution_count": 5,
     "metadata": {},
     "output_type": "execute_result"
    }
   ],
   "source": [
    "pw.name"
   ]
  },
  {
   "cell_type": "code",
   "execution_count": null,
   "id": "c8647e4e-7afe-4ec9-8571-d5f0e7fb9037",
   "metadata": {},
   "outputs": [],
   "source": [
    "\n"
   ]
  },
  {
   "cell_type": "markdown",
   "id": "9968df80-b881-4f41-9a94-4291f44075d8",
   "metadata": {},
   "source": [
    "                                        class Method"
   ]
  },
  {
   "cell_type": "code",
   "execution_count": 7,
   "id": "e2712ed4-d6e8-41d3-8bfd-84b41c319aa5",
   "metadata": {},
   "outputs": [],
   "source": [
    "class pwskills:\n",
    "    \n",
    "    def __init__(self, name, email):\n",
    "        self.name = name\n",
    "        self.email = email\n",
    "        \n",
    "    @classmethod\n",
    "    def details(cls, name, email):\n",
    "        return cls(name, email)\n",
    "    \n",
    "    def student_details(self):\n",
    "        print(self.name, self.email)"
   ]
  },
  {
   "cell_type": "code",
   "execution_count": 8,
   "id": "639ba576-69f1-4d1d-9628-5d73ed878a15",
   "metadata": {},
   "outputs": [],
   "source": [
    "#direct we can use the class method\n",
    "\n",
    "pw1 = pwskills.details('sovan', 'sovan@gmail.com')"
   ]
  },
  {
   "cell_type": "code",
   "execution_count": 9,
   "id": "d74a9b2b-de99-48ca-a95c-bec85c1d68d9",
   "metadata": {},
   "outputs": [
    {
     "data": {
      "text/plain": [
       "'sovan'"
      ]
     },
     "execution_count": 9,
     "metadata": {},
     "output_type": "execute_result"
    }
   ],
   "source": [
    "pw1.name"
   ]
  },
  {
   "cell_type": "code",
   "execution_count": null,
   "id": "71b06f8a-df1e-4d58-8784-8c057bc7f334",
   "metadata": {},
   "outputs": [],
   "source": [
    "\n",
    "\n"
   ]
  },
  {
   "cell_type": "markdown",
   "id": "1cb54e36-4622-4706-8df7-4a3d99107cc4",
   "metadata": {},
   "source": [
    "                                        class variable"
   ]
  },
  {
   "cell_type": "code",
   "execution_count": 11,
   "id": "e5264dab-66d9-4e7a-abf6-5966c36e8348",
   "metadata": {},
   "outputs": [],
   "source": [
    "class pwskills2:\n",
    "    \n",
    "    mobile_num = 11111111\n",
    "    \n",
    "    def __init__(self, name, email):\n",
    "        self.name = name\n",
    "        self.email = email\n",
    "    \n",
    "    @classmethod\n",
    "    def Change_num(cls, mobile_num):\n",
    "        pwskills2.mobile_num = mobile_num\n",
    "        \n",
    "    @classmethod\n",
    "    def details(cls, name, email):\n",
    "        return cls(name, email)\n",
    "    \n",
    "    def student_details(self):\n",
    "        print(self.name, self.email, pwskills2.mobile_num)"
   ]
  },
  {
   "cell_type": "code",
   "execution_count": 12,
   "id": "14c79317-b7b0-4d68-9c37-fb6087ccb365",
   "metadata": {},
   "outputs": [
    {
     "data": {
      "text/plain": [
       "11111111"
      ]
     },
     "execution_count": 12,
     "metadata": {},
     "output_type": "execute_result"
    }
   ],
   "source": [
    "#access the mobile number without creating object\n",
    "\n",
    "pwskills2.mobile_num"
   ]
  },
  {
   "cell_type": "code",
   "execution_count": 14,
   "id": "6209f568-dc2b-4808-af4e-c3a3d05c991a",
   "metadata": {},
   "outputs": [
    {
     "data": {
      "text/plain": [
       "99999999"
      ]
     },
     "execution_count": 14,
     "metadata": {},
     "output_type": "execute_result"
    }
   ],
   "source": [
    "#change the mobile number without creating object\n",
    "\n",
    "pwskills2.Change_num(99999999)\n",
    "pwskills2.mobile_num"
   ]
  },
  {
   "cell_type": "code",
   "execution_count": 19,
   "id": "c89a9e89-5000-4363-850b-dbeb5514e1ad",
   "metadata": {},
   "outputs": [
    {
     "name": "stdout",
     "output_type": "stream",
     "text": [
      "kamlesh kamlesh@gmail.com 99999999\n"
     ]
    }
   ],
   "source": [
    "#access the 'student_details' function with creating OBJECT\n",
    "\n",
    "pw3 = pwskills2('kamlesh', 'kamlesh@gmail.com')\n",
    "pw3.student_details()"
   ]
  },
  {
   "cell_type": "code",
   "execution_count": 20,
   "id": "65e4c6fe-9d2d-42ac-838a-ff252073ff8b",
   "metadata": {},
   "outputs": [
    {
     "name": "stdout",
     "output_type": "stream",
     "text": [
      "Vimlesh vimlesh@gmail.com 99999999\n"
     ]
    }
   ],
   "source": [
    "#access the 'student_details' function with creating VARIABLE by Class method\n",
    "\n",
    "pw3n = pwskills2.details('Vimlesh', 'vimlesh@gmail.com')\n",
    "pw3n.student_details()"
   ]
  },
  {
   "cell_type": "code",
   "execution_count": null,
   "id": "876cd069-fbca-4825-a428-66d37a516278",
   "metadata": {},
   "outputs": [],
   "source": [
    "\n",
    "\n"
   ]
  },
  {
   "cell_type": "markdown",
   "id": "b2f676a9-4b8f-43a6-ab91-0c276ce23cfe",
   "metadata": {},
   "source": [
    "                                        Add External function to our CLASS"
   ]
  },
  {
   "cell_type": "code",
   "execution_count": 21,
   "id": "bb12581f-6cc9-4d0a-b205-87fcbf7af702",
   "metadata": {},
   "outputs": [],
   "source": [
    "class pwskills3:\n",
    "    \n",
    "    mobile_num = 11111111\n",
    "    \n",
    "    def __init__(self, name, email):\n",
    "        self.name = name\n",
    "        self.email = email\n",
    "    \n",
    "    @classmethod\n",
    "    def Change_num(cls, mobile_num):\n",
    "        pwskills2.mobile_num = mobile_num\n",
    "        \n",
    "    @classmethod\n",
    "    def details(cls, name, email):\n",
    "        return cls(name, email)\n",
    "    \n",
    "    def student_details(self):\n",
    "        print(self.name, self.email, pwskills2.mobile_num)"
   ]
  },
  {
   "cell_type": "code",
   "execution_count": 30,
   "id": "037cb71f-0e38-4ada-a24b-144fdf8b7be7",
   "metadata": {},
   "outputs": [],
   "source": [
    "#clr is mandatory here\n",
    "def course_details(clr,course_name): \n",
    "    print(\"this is my course : \", course_name)\n",
    "    "
   ]
  },
  {
   "cell_type": "code",
   "execution_count": 28,
   "id": "0634f153-7089-4ba1-9d9b-ffca3266a8fc",
   "metadata": {},
   "outputs": [],
   "source": [
    "pwskills3.course_details = classmethod(course_details)"
   ]
  },
  {
   "cell_type": "code",
   "execution_count": 29,
   "id": "348bf74b-8deb-4fd0-85ab-de5023f48109",
   "metadata": {},
   "outputs": [
    {
     "name": "stdout",
     "output_type": "stream",
     "text": [
      "this is my course :  Python\n"
     ]
    }
   ],
   "source": [
    "pwskills3.course_details(\"Python\")"
   ]
  },
  {
   "cell_type": "code",
   "execution_count": null,
   "id": "85a3d80c-bf2b-4488-b9f4-1d5432047ee2",
   "metadata": {},
   "outputs": [],
   "source": [
    "\n",
    "\n"
   ]
  },
  {
   "cell_type": "code",
   "execution_count": 39,
   "id": "0a1b991c-4185-4ee2-92bd-f6af7e63425b",
   "metadata": {},
   "outputs": [],
   "source": [
    "def mentor(cls, list_of_mentor):\n",
    "    print(list_of_mentor)"
   ]
  },
  {
   "cell_type": "code",
   "execution_count": 40,
   "id": "3b90b3b8-db37-4f00-a725-88fec448ea3a",
   "metadata": {},
   "outputs": [],
   "source": [
    "pwskills3.mentor = classmethod(mentor)"
   ]
  },
  {
   "cell_type": "code",
   "execution_count": 41,
   "id": "6b95cbec-7913-4ac3-a1c0-6cab5bb220c9",
   "metadata": {},
   "outputs": [
    {
     "name": "stdout",
     "output_type": "stream",
     "text": [
      "['Sudh', 'krish', 'Rohan']\n"
     ]
    }
   ],
   "source": [
    "pwskills3.mentor([\"Sudh\",\"krish\", \"Rohan\"])"
   ]
  },
  {
   "cell_type": "code",
   "execution_count": null,
   "id": "8a3a1e55-d50b-40f9-86f2-1f12758a9071",
   "metadata": {},
   "outputs": [],
   "source": [
    "\n",
    "\n",
    "\n"
   ]
  },
  {
   "cell_type": "markdown",
   "id": "83261032-9687-4e63-b630-e622943f96ba",
   "metadata": {},
   "source": [
    "                                        Delete a function from our Class"
   ]
  },
  {
   "cell_type": "code",
   "execution_count": 42,
   "id": "8cc6ec5a-372f-40d0-84e3-bcaa315798ab",
   "metadata": {},
   "outputs": [],
   "source": [
    "class pwskills4:\n",
    "    \n",
    "    mobile_num = 11111111\n",
    "    \n",
    "    def __init__(self, name, email):\n",
    "        self.name = name\n",
    "        self.email = email\n",
    "    \n",
    "    @classmethod\n",
    "    def Change_num(cls, mobile_num):\n",
    "        pwskills2.mobile_num = mobile_num\n",
    "        \n",
    "    @classmethod\n",
    "    def details(cls, name, email):\n",
    "        return cls(name, email)\n",
    "    \n",
    "    def student_details(self):\n",
    "        print(self.name, self.email, pwskills2.mobile_num)"
   ]
  },
  {
   "cell_type": "code",
   "execution_count": 43,
   "id": "36b7d099-1551-41e4-b49a-5c16f70b4e82",
   "metadata": {},
   "outputs": [],
   "source": [
    "del pwskills4.Change_num"
   ]
  },
  {
   "cell_type": "code",
   "execution_count": 44,
   "id": "1b7506a3-5b42-44af-9245-f36b5f0b4201",
   "metadata": {},
   "outputs": [
    {
     "ename": "AttributeError",
     "evalue": "type object 'pwskills4' has no attribute 'Change_num'",
     "output_type": "error",
     "traceback": [
      "\u001b[0;31m---------------------------------------------------------------------------\u001b[0m",
      "\u001b[0;31mAttributeError\u001b[0m                            Traceback (most recent call last)",
      "Cell \u001b[0;32mIn[44], line 1\u001b[0m\n\u001b[0;32m----> 1\u001b[0m \u001b[43mpwskills4\u001b[49m\u001b[38;5;241;43m.\u001b[39;49m\u001b[43mChange_num\u001b[49m(\u001b[38;5;241m32323232\u001b[39m)\n",
      "\u001b[0;31mAttributeError\u001b[0m: type object 'pwskills4' has no attribute 'Change_num'"
     ]
    }
   ],
   "source": [
    "pwskills4.Change_num(32323232)"
   ]
  },
  {
   "cell_type": "code",
   "execution_count": 45,
   "id": "3b8368d8-5205-4380-8375-bc1a1a0bdeb2",
   "metadata": {},
   "outputs": [],
   "source": [
    "delattr(pwskills4,  'details')"
   ]
  },
  {
   "cell_type": "code",
   "execution_count": 46,
   "id": "dd0feed7-24a4-4c3e-8daf-8f20d646050d",
   "metadata": {},
   "outputs": [
    {
     "ename": "AttributeError",
     "evalue": "type object 'pwskills4' has no attribute 'details'",
     "output_type": "error",
     "traceback": [
      "\u001b[0;31m---------------------------------------------------------------------------\u001b[0m",
      "\u001b[0;31mAttributeError\u001b[0m                            Traceback (most recent call last)",
      "Cell \u001b[0;32mIn[46], line 1\u001b[0m\n\u001b[0;32m----> 1\u001b[0m \u001b[43mpwskills4\u001b[49m\u001b[38;5;241;43m.\u001b[39;49m\u001b[43mdetails\u001b[49m(\u001b[38;5;241m32\u001b[39m,\u001b[38;5;241m3232\u001b[39m)\n",
      "\u001b[0;31mAttributeError\u001b[0m: type object 'pwskills4' has no attribute 'details'"
     ]
    }
   ],
   "source": [
    "pwskills4.details(32,3232)"
   ]
  },
  {
   "cell_type": "code",
   "execution_count": 47,
   "id": "64c55f96-eec7-483b-aebb-feb720bee563",
   "metadata": {},
   "outputs": [],
   "source": [
    "#trying to delete external function with del"
   ]
  },
  {
   "cell_type": "code",
   "execution_count": 48,
   "id": "373a8e40-8dba-4008-b42b-bb142b5c9897",
   "metadata": {},
   "outputs": [],
   "source": [
    "del pwskills4.student_details"
   ]
  },
  {
   "cell_type": "code",
   "execution_count": 49,
   "id": "728d210b-826d-4019-a308-e5acbde7f339",
   "metadata": {},
   "outputs": [
    {
     "ename": "AttributeError",
     "evalue": "type object 'pwskills4' has no attribute 'student_details'",
     "output_type": "error",
     "traceback": [
      "\u001b[0;31m---------------------------------------------------------------------------\u001b[0m",
      "\u001b[0;31mAttributeError\u001b[0m                            Traceback (most recent call last)",
      "Cell \u001b[0;32mIn[49], line 1\u001b[0m\n\u001b[0;32m----> 1\u001b[0m \u001b[43mpwskills4\u001b[49m\u001b[38;5;241;43m.\u001b[39;49m\u001b[43mstudent_details\u001b[49m\n",
      "\u001b[0;31mAttributeError\u001b[0m: type object 'pwskills4' has no attribute 'student_details'"
     ]
    }
   ],
   "source": [
    "pwskills4.student_details"
   ]
  },
  {
   "cell_type": "code",
   "execution_count": 50,
   "id": "a9e69d34-1cc3-4f94-b76a-37c23fa0a954",
   "metadata": {},
   "outputs": [],
   "source": [
    "del pwskills4.mobile_num"
   ]
  },
  {
   "cell_type": "code",
   "execution_count": 51,
   "id": "08d27575-be29-48e9-acde-81a070e698fa",
   "metadata": {},
   "outputs": [
    {
     "ename": "AttributeError",
     "evalue": "type object 'pwskills4' has no attribute 'mobile_num'",
     "output_type": "error",
     "traceback": [
      "\u001b[0;31m---------------------------------------------------------------------------\u001b[0m",
      "\u001b[0;31mAttributeError\u001b[0m                            Traceback (most recent call last)",
      "Cell \u001b[0;32mIn[51], line 1\u001b[0m\n\u001b[0;32m----> 1\u001b[0m \u001b[43mpwskills4\u001b[49m\u001b[38;5;241;43m.\u001b[39;49m\u001b[43mmobile_num\u001b[49m\n",
      "\u001b[0;31mAttributeError\u001b[0m: type object 'pwskills4' has no attribute 'mobile_num'"
     ]
    }
   ],
   "source": [
    "pwskills4.mobile_num"
   ]
  },
  {
   "cell_type": "code",
   "execution_count": null,
   "id": "4d26cc1d-ceea-4f24-8721-959abad197a6",
   "metadata": {},
   "outputs": [],
   "source": []
  },
  {
   "cell_type": "code",
   "execution_count": null,
   "id": "5183c236-4aca-40d0-b7e7-2a1af5ab02bf",
   "metadata": {},
   "outputs": [],
   "source": []
  },
  {
   "cell_type": "code",
   "execution_count": null,
   "id": "ddcc215b-383b-4750-a3f2-d0bad56c7c4e",
   "metadata": {},
   "outputs": [],
   "source": []
  }
 ],
 "metadata": {
  "kernelspec": {
   "display_name": "Python 3 (ipykernel)",
   "language": "python",
   "name": "python3"
  },
  "language_info": {
   "codemirror_mode": {
    "name": "ipython",
    "version": 3
   },
   "file_extension": ".py",
   "mimetype": "text/x-python",
   "name": "python",
   "nbconvert_exporter": "python",
   "pygments_lexer": "ipython3",
   "version": "3.10.8"
  }
 },
 "nbformat": 4,
 "nbformat_minor": 5
}
