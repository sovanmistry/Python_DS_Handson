{
 "cells": [
  {
   "cell_type": "markdown",
   "id": "a2a80252-c5ee-4528-80a0-b251a62c5d8d",
   "metadata": {},
   "source": [
    "                                                    Static Method"
   ]
  },
  {
   "cell_type": "code",
   "execution_count": 7,
   "id": "e6905f63-9816-479e-82cc-5ca674fbdf6c",
   "metadata": {},
   "outputs": [],
   "source": [
    "#simple Method\n",
    "\n",
    "class pwskills1:\n",
    "    \n",
    "    \n",
    "    def student_details(self, name, email, phn_no):\n",
    "        print(name, email, phn_no)\n",
    "        \n",
    "        "
   ]
  },
  {
   "cell_type": "code",
   "execution_count": 8,
   "id": "96f480f2-52ac-4e45-966d-48390c98a590",
   "metadata": {},
   "outputs": [
    {
     "name": "stdout",
     "output_type": "stream",
     "text": [
      "sovan sovan@gmail.com 32323232\n"
     ]
    }
   ],
   "source": [
    "pw1 = pwskills1()\n",
    "pw1.student_details(\"sovan\", 'sovan@gmail.com', 32323232)"
   ]
  },
  {
   "cell_type": "code",
   "execution_count": null,
   "id": "5e90919f-441a-413f-9377-d513907ea76e",
   "metadata": {},
   "outputs": [],
   "source": [
    "\n",
    "\n"
   ]
  },
  {
   "cell_type": "code",
   "execution_count": 9,
   "id": "b798a202-9011-42b9-8299-c32d17aa885c",
   "metadata": {},
   "outputs": [],
   "source": [
    "#static Method"
   ]
  },
  {
   "cell_type": "code",
   "execution_count": 10,
   "id": "6d241889-6fc4-4df7-96a2-16174b296774",
   "metadata": {},
   "outputs": [],
   "source": [
    "#simple Method\n",
    "\n",
    "class pwskills1:\n",
    "    \n",
    "    \n",
    "    def student_details(self, name, email, phn_no):\n",
    "        print(name, email, phn_no)\n",
    "        \n",
    "    \n",
    "    @staticmethod\n",
    "    def mentor_class(mentor):\n",
    "        print(mentor)"
   ]
  },
  {
   "cell_type": "code",
   "execution_count": 13,
   "id": "a589d78a-9bb1-4080-bd09-ec7c54851754",
   "metadata": {},
   "outputs": [
    {
     "name": "stdout",
     "output_type": "stream",
     "text": [
      "['Sudh', 'Krish']\n"
     ]
    }
   ],
   "source": [
    "pwskills1.mentor_class([\"Sudh\",'Krish'])"
   ]
  },
  {
   "cell_type": "code",
   "execution_count": null,
   "id": "1835f8d7-ee7d-48a6-838c-c43a19f5c18e",
   "metadata": {},
   "outputs": [],
   "source": [
    "\n",
    "\n"
   ]
  },
  {
   "cell_type": "code",
   "execution_count": 21,
   "id": "b2aa40d2-4fa8-4f33-ab5e-49b6fdd76bf4",
   "metadata": {},
   "outputs": [],
   "source": [
    "#call Static method inside a static method\n",
    "#call static method inside a class method\n",
    "#call Static method inside a default method\n",
    "\n",
    "#simple Method\n",
    "\n",
    "class pwskills1:\n",
    "    \n",
    "    \n",
    "    def student_details(self, name, email, phn_no):\n",
    "        print(name, email, phn_no)\n",
    "        \n",
    "    @staticmethod\n",
    "    def mentor_email(m_email):\n",
    "        print(m_email)\n",
    "        \n",
    "        \n",
    "    @staticmethod\n",
    "    def mentor_class(mentor):\n",
    "        \n",
    "        #call Static method inside a static method\n",
    "        pwskills1.mentor_email([\"Sudh@gmail.com\",'krish@gmail.com'])\n",
    "        print(mentor)\n",
    "        \n",
    "\n",
    "    @classmethod\n",
    "    def class_name(cls):\n",
    "                                \n",
    "        #call static method inside a class method\n",
    "        cls.mentor_class([\"Sudh\",\"Krish\"])\n",
    "                                \n",
    "    \n",
    "    def mentor(self, mentor_list):\n",
    "        print(mentor_list)\n",
    "        self.mentor_email(\"sudh@gmail.com\")\n"
   ]
  },
  {
   "cell_type": "code",
   "execution_count": 18,
   "id": "3fd0d749-0be5-4bf2-9644-4954d4ad2e3b",
   "metadata": {},
   "outputs": [
    {
     "name": "stdout",
     "output_type": "stream",
     "text": [
      "sovan@gmail.com\n"
     ]
    }
   ],
   "source": [
    "#call Static method\n",
    "\n",
    "pwskills1.mentor_email(\"sovan@gmail.com\")"
   ]
  },
  {
   "cell_type": "code",
   "execution_count": 19,
   "id": "bcb31390-2af5-497a-aa0a-6529ad2b1218",
   "metadata": {},
   "outputs": [
    {
     "name": "stdout",
     "output_type": "stream",
     "text": [
      "['Sudh@gmail.com', 'krish@gmail.com']\n",
      "sudh\n"
     ]
    }
   ],
   "source": [
    "#calling static inside static method\n",
    "\n",
    "pwskills1.mentor_class(\"sudh\")"
   ]
  },
  {
   "cell_type": "code",
   "execution_count": 20,
   "id": "32701e80-e7f0-48d1-82dc-555351d05351",
   "metadata": {},
   "outputs": [
    {
     "name": "stdout",
     "output_type": "stream",
     "text": [
      "['Sudh@gmail.com', 'krish@gmail.com']\n",
      "['Sudh', 'Krish']\n"
     ]
    }
   ],
   "source": [
    "#calling static inside class method\n",
    "\n",
    "pwskills1.class_name()"
   ]
  },
  {
   "cell_type": "code",
   "execution_count": 23,
   "id": "1c5886b6-1dda-46e3-a687-79aae6eb6dc9",
   "metadata": {},
   "outputs": [
    {
     "name": "stdout",
     "output_type": "stream",
     "text": [
      "['krish', 'sudh']\n",
      "sudh@gmail.com\n"
     ]
    }
   ],
   "source": [
    "#calling static through normal method\n",
    "\n",
    "pw1 = pwskills1()\n",
    "pw1.mentor([\"krish\",\"sudh\"])"
   ]
  },
  {
   "cell_type": "code",
   "execution_count": null,
   "id": "5864dc9c-213e-4212-a207-48f55533ae46",
   "metadata": {},
   "outputs": [],
   "source": []
  }
 ],
 "metadata": {
  "kernelspec": {
   "display_name": "Python 3 (ipykernel)",
   "language": "python",
   "name": "python3"
  },
  "language_info": {
   "codemirror_mode": {
    "name": "ipython",
    "version": 3
   },
   "file_extension": ".py",
   "mimetype": "text/x-python",
   "name": "python",
   "nbconvert_exporter": "python",
   "pygments_lexer": "ipython3",
   "version": "3.10.8"
  }
 },
 "nbformat": 4,
 "nbformat_minor": 5
}
