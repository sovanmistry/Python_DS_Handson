{
 "cells": [
  {
   "cell_type": "code",
   "execution_count": 12,
   "id": "b1b2d534-85db-47c8-bc99-dfb884d04fbf",
   "metadata": {},
   "outputs": [],
   "source": [
    "class pwskills:\n",
    "    \n",
    "    def __new__(cls):\n",
    "        print(\"new\")\n",
    "        \n",
    "    def __init__(self):\n",
    "        print(\"init\")\n",
    "    "
   ]
  },
  {
   "cell_type": "code",
   "execution_count": 15,
   "id": "7cf00d6f-758e-492c-9993-b261391f14e9",
   "metadata": {},
   "outputs": [
    {
     "name": "stdout",
     "output_type": "stream",
     "text": [
      "new\n"
     ]
    }
   ],
   "source": [
    "pw1 = pwskills()"
   ]
  },
  {
   "cell_type": "code",
   "execution_count": 3,
   "id": "d72b2e3c-209c-4bf7-b3f0-b4eb8780feee",
   "metadata": {},
   "outputs": [],
   "source": [
    "pw1"
   ]
  },
  {
   "cell_type": "code",
   "execution_count": null,
   "id": "dea3cfb7-4f00-4363-8ff6-79838367607b",
   "metadata": {},
   "outputs": [],
   "source": []
  }
 ],
 "metadata": {
  "kernelspec": {
   "display_name": "Python 3 (ipykernel)",
   "language": "python",
   "name": "python3"
  },
  "language_info": {
   "codemirror_mode": {
    "name": "ipython",
    "version": 3
   },
   "file_extension": ".py",
   "mimetype": "text/x-python",
   "name": "python",
   "nbconvert_exporter": "python",
   "pygments_lexer": "ipython3",
   "version": "3.10.8"
  }
 },
 "nbformat": 4,
 "nbformat_minor": 5
}
