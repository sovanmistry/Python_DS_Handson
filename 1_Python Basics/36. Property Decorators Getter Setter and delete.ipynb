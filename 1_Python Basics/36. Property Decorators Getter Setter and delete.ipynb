{
 "cells": [
  {
   "cell_type": "markdown",
   "id": "6b48a966-e6ea-4715-94b3-9498106333a0",
   "metadata": {},
   "source": [
    "                                            Property Decorators Getters, Setters, And Deletes"
   ]
  },
  {
   "cell_type": "code",
   "execution_count": 17,
   "id": "167c9cb9-bc13-4804-8391-d8ececd5d666",
   "metadata": {},
   "outputs": [],
   "source": [
    "class pwskills:\n",
    "    \n",
    "    def __init__(self,course_price, course_name):\n",
    "        \n",
    "        self.__course_price = course_price\n",
    "        self.course_name = course_name\n",
    "        \n",
    "    @property\n",
    "    def course_price_view(self):\n",
    "        return self.__course_price\n",
    "    \n",
    "    \n",
    "    @course_price_view.setter\n",
    "    def course_price_set(self, price):\n",
    "        if price <=3500:\n",
    "            pass\n",
    "        else :\n",
    "            self.__course_price= price\n",
    "            \n",
    "            \n",
    "    @course_price_view.deleter\n",
    "    def delete_course_price(self):\n",
    "        del self.__course_price"
   ]
  },
  {
   "cell_type": "code",
   "execution_count": 18,
   "id": "6db995e6-f020-4e0e-92e4-76c8bd50a4cb",
   "metadata": {},
   "outputs": [],
   "source": [
    "pw = pwskills(3500, \"Data Science Masters\")"
   ]
  },
  {
   "cell_type": "code",
   "execution_count": 3,
   "id": "59803831-4c7d-440b-b49e-0c4849e828a8",
   "metadata": {},
   "outputs": [
    {
     "data": {
      "text/plain": [
       "'Data Science Masters'"
      ]
     },
     "execution_count": 3,
     "metadata": {},
     "output_type": "execute_result"
    }
   ],
   "source": [
    "pw.course_name"
   ]
  },
  {
   "cell_type": "code",
   "execution_count": 4,
   "id": "53fa27a9-42ee-4b8d-8f08-523d9ef613da",
   "metadata": {},
   "outputs": [
    {
     "data": {
      "text/plain": [
       "3500"
      ]
     },
     "execution_count": 4,
     "metadata": {},
     "output_type": "execute_result"
    }
   ],
   "source": [
    "pw.course_price_view"
   ]
  },
  {
   "cell_type": "code",
   "execution_count": 15,
   "id": "28f16dc2-6824-445e-989d-41931203f7ee",
   "metadata": {},
   "outputs": [],
   "source": [
    "pw.course_price_set = 4500"
   ]
  },
  {
   "cell_type": "code",
   "execution_count": 16,
   "id": "f14eb9bb-ffdf-4a1c-9b54-a3be0d2bcbc0",
   "metadata": {},
   "outputs": [
    {
     "data": {
      "text/plain": [
       "4500"
      ]
     },
     "execution_count": 16,
     "metadata": {},
     "output_type": "execute_result"
    }
   ],
   "source": [
    "pw.course_price_view"
   ]
  },
  {
   "cell_type": "code",
   "execution_count": 20,
   "id": "b3d3760e-e130-4dd3-81e4-adceb2176be4",
   "metadata": {},
   "outputs": [],
   "source": [
    "del pw.delete_course_price"
   ]
  },
  {
   "cell_type": "code",
   "execution_count": null,
   "id": "c2fc7f59-308a-44f3-84c1-7c4714b2a128",
   "metadata": {},
   "outputs": [],
   "source": []
  },
  {
   "cell_type": "code",
   "execution_count": null,
   "id": "f82a0886-d91b-4a53-ad42-9a02bc2fda72",
   "metadata": {},
   "outputs": [],
   "source": []
  }
 ],
 "metadata": {
  "kernelspec": {
   "display_name": "Python 3 (ipykernel)",
   "language": "python",
   "name": "python3"
  },
  "language_info": {
   "codemirror_mode": {
    "name": "ipython",
    "version": 3
   },
   "file_extension": ".py",
   "mimetype": "text/x-python",
   "name": "python",
   "nbconvert_exporter": "python",
   "pygments_lexer": "ipython3",
   "version": "3.10.8"
  }
 },
 "nbformat": 4,
 "nbformat_minor": 5
}
