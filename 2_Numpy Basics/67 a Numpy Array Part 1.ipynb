{
 "cells": [
  {
   "cell_type": "markdown",
   "id": "cbe80005-de15-4d56-9faa-536c0ebf6ae1",
   "metadata": {},
   "source": [
    "                                                                        NUMPY"
   ]
  },
  {
   "cell_type": "code",
   "execution_count": 1,
   "id": "5505dcd2-0bcc-4cda-9461-ca8720898801",
   "metadata": {},
   "outputs": [],
   "source": [
    "import numpy as np"
   ]
  },
  {
   "cell_type": "code",
   "execution_count": 4,
   "id": "962dbd0b-f179-4b7e-9a10-bf1ccc7c46d1",
   "metadata": {},
   "outputs": [],
   "source": [
    "l = [1, 2, 3, 4]"
   ]
  },
  {
   "cell_type": "code",
   "execution_count": 6,
   "id": "c550a4e8-f489-4d7f-9e98-fa741319f2b5",
   "metadata": {},
   "outputs": [
    {
     "data": {
      "text/plain": [
       "array([1, 2, 3, 4])"
      ]
     },
     "execution_count": 6,
     "metadata": {},
     "output_type": "execute_result"
    }
   ],
   "source": [
    "#1d Array\n",
    "\n",
    "ar1 = np.array(l)\n",
    "ar1"
   ]
  },
  {
   "cell_type": "code",
   "execution_count": null,
   "id": "21ad6a2e-69d1-40d6-ac68-6aa2340c1eda",
   "metadata": {},
   "outputs": [],
   "source": [
    "\n",
    "\n"
   ]
  },
  {
   "cell_type": "code",
   "execution_count": 10,
   "id": "d279077e-8e38-4405-9d82-87ab78187224",
   "metadata": {},
   "outputs": [
    {
     "data": {
      "text/plain": [
       "array([[1, 2],\n",
       "       [3, 4]])"
      ]
     },
     "execution_count": 10,
     "metadata": {},
     "output_type": "execute_result"
    }
   ],
   "source": [
    "#2D Array\n",
    "\n",
    "ar2 = np.array([[1,2],[3,4]])\n",
    "ar2"
   ]
  },
  {
   "cell_type": "code",
   "execution_count": null,
   "id": "8f0f1e15-180f-4a65-bb2e-28903fab4cad",
   "metadata": {},
   "outputs": [],
   "source": [
    "\n",
    "\n"
   ]
  },
  {
   "cell_type": "markdown",
   "id": "13bff4a9-32f7-491a-803a-0e32ffc99187",
   "metadata": {},
   "source": [
    "asarray"
   ]
  },
  {
   "cell_type": "code",
   "execution_count": 11,
   "id": "d5ab828e-8363-4405-ad96-4fdab2cadfe8",
   "metadata": {},
   "outputs": [
    {
     "data": {
      "text/plain": [
       "array([1, 2, 3, 4])"
      ]
     },
     "execution_count": 11,
     "metadata": {},
     "output_type": "execute_result"
    }
   ],
   "source": [
    "np.asarray(l)"
   ]
  },
  {
   "cell_type": "code",
   "execution_count": null,
   "id": "eca896c3-4e11-4018-893c-b480101a95a3",
   "metadata": {},
   "outputs": [],
   "source": [
    "\n",
    "\n"
   ]
  },
  {
   "cell_type": "markdown",
   "id": "c02d358b-9047-43bf-b7c6-49e8705a3af7",
   "metadata": {},
   "source": [
    "asanyarray"
   ]
  },
  {
   "cell_type": "code",
   "execution_count": 12,
   "id": "c2f5782a-7f02-4af6-8926-ad6108213bd0",
   "metadata": {},
   "outputs": [
    {
     "data": {
      "text/plain": [
       "array([1, 2, 3, 4])"
      ]
     },
     "execution_count": 12,
     "metadata": {},
     "output_type": "execute_result"
    }
   ],
   "source": [
    "np.asanyarray(l)"
   ]
  },
  {
   "cell_type": "code",
   "execution_count": null,
   "id": "65e7719f-0de8-46b3-881c-1e60d72cc1b2",
   "metadata": {},
   "outputs": [],
   "source": [
    "\n",
    "\n"
   ]
  },
  {
   "cell_type": "markdown",
   "id": "bdeb2882-c4b6-4901-a66f-a14d8c211a2b",
   "metadata": {},
   "source": [
    "                                        Swallo Copy : copied in same space"
   ]
  },
  {
   "cell_type": "code",
   "execution_count": 13,
   "id": "acc02004-8915-401c-9ae1-494ad81ce393",
   "metadata": {},
   "outputs": [],
   "source": [
    "a = [1,2,3,4]"
   ]
  },
  {
   "cell_type": "code",
   "execution_count": 14,
   "id": "b50712e2-5663-465d-95f4-95b2aed6621a",
   "metadata": {},
   "outputs": [
    {
     "data": {
      "text/plain": [
       "[1, 2, 3, 4]"
      ]
     },
     "execution_count": 14,
     "metadata": {},
     "output_type": "execute_result"
    }
   ],
   "source": [
    "a"
   ]
  },
  {
   "cell_type": "code",
   "execution_count": 15,
   "id": "bfa057cf-f08d-443f-8868-6595352e5662",
   "metadata": {},
   "outputs": [
    {
     "data": {
      "text/plain": [
       "[1, 2, 3, 4]"
      ]
     },
     "execution_count": 15,
     "metadata": {},
     "output_type": "execute_result"
    }
   ],
   "source": [
    "b = a\n",
    "b"
   ]
  },
  {
   "cell_type": "code",
   "execution_count": 16,
   "id": "24877996-06cc-4281-9512-cf2dd16d940b",
   "metadata": {},
   "outputs": [
    {
     "data": {
      "text/plain": [
       "[100, 2, 3, 4]"
      ]
     },
     "execution_count": 16,
     "metadata": {},
     "output_type": "execute_result"
    }
   ],
   "source": [
    "b[0] = 100\n",
    "b"
   ]
  },
  {
   "cell_type": "code",
   "execution_count": 17,
   "id": "649dad8b-b3e9-4f92-8423-005bea97d67a",
   "metadata": {},
   "outputs": [
    {
     "data": {
      "text/plain": [
       "[100, 2, 3, 4]"
      ]
     },
     "execution_count": 17,
     "metadata": {},
     "output_type": "execute_result"
    }
   ],
   "source": [
    "a"
   ]
  },
  {
   "cell_type": "code",
   "execution_count": 18,
   "id": "f7c3e357-1a89-4820-9bd7-e682af96baef",
   "metadata": {},
   "outputs": [],
   "source": [
    "#it modifues the value present in that memory location"
   ]
  },
  {
   "cell_type": "code",
   "execution_count": null,
   "id": "bdc77d46-2f7d-40ee-9709-a6d042746a77",
   "metadata": {},
   "outputs": [],
   "source": [
    "\n",
    "\n"
   ]
  },
  {
   "cell_type": "markdown",
   "id": "817257ba-65fc-42c9-bf02-90219bcac829",
   "metadata": {},
   "source": [
    "                                            copy() : Deep Copy -  to avoid swallow copy"
   ]
  },
  {
   "cell_type": "code",
   "execution_count": 20,
   "id": "6619e94b-1180-4a34-82f1-82aa7c023fcd",
   "metadata": {},
   "outputs": [
    {
     "data": {
      "text/plain": [
       "[100, 2, 3, 4]"
      ]
     },
     "execution_count": 20,
     "metadata": {},
     "output_type": "execute_result"
    }
   ],
   "source": [
    "a"
   ]
  },
  {
   "cell_type": "code",
   "execution_count": 22,
   "id": "7abbc0b6-d044-4fda-8553-8398d0242422",
   "metadata": {},
   "outputs": [
    {
     "data": {
      "text/plain": [
       "array([100,   2,   3,   4])"
      ]
     },
     "execution_count": 22,
     "metadata": {},
     "output_type": "execute_result"
    }
   ],
   "source": [
    "d = np.copy(a)\n",
    "d"
   ]
  },
  {
   "cell_type": "code",
   "execution_count": 23,
   "id": "a807454a-a851-4131-9e43-93f8be60fcc3",
   "metadata": {},
   "outputs": [
    {
     "data": {
      "text/plain": [
       "[100, 200, 3, 4]"
      ]
     },
     "execution_count": 23,
     "metadata": {},
     "output_type": "execute_result"
    }
   ],
   "source": [
    "a[1] = 200\n",
    "a"
   ]
  },
  {
   "cell_type": "code",
   "execution_count": 24,
   "id": "8d09f926-740f-496d-8050-8df2219b2d80",
   "metadata": {},
   "outputs": [
    {
     "data": {
      "text/plain": [
       "array([100,   2,   3,   4])"
      ]
     },
     "execution_count": 24,
     "metadata": {},
     "output_type": "execute_result"
    }
   ],
   "source": [
    "d"
   ]
  },
  {
   "cell_type": "code",
   "execution_count": 25,
   "id": "fadf8de7-1474-4bde-92f5-11641936161f",
   "metadata": {},
   "outputs": [],
   "source": [
    "#d wont change becuase of Deep Copy"
   ]
  },
  {
   "cell_type": "code",
   "execution_count": null,
   "id": "1acfca7c-b8ed-4d0a-b35b-8ce808079822",
   "metadata": {},
   "outputs": [],
   "source": [
    "\n",
    "\n"
   ]
  },
  {
   "cell_type": "markdown",
   "id": "7d6ed089-d66a-4c56-9fb9-fc85f1b898cb",
   "metadata": {},
   "source": [
    "                                                        fromfunction()\n",
    "                                                        \n",
    "                                        helps us to generate array in any point of time"
   ]
  },
  {
   "cell_type": "code",
   "execution_count": 27,
   "id": "553f8a68-0fc3-45f7-a139-68530571dc5c",
   "metadata": {},
   "outputs": [
    {
     "data": {
      "text/plain": [
       "array([[ True, False, False],\n",
       "       [False,  True, False],\n",
       "       [False, False,  True]])"
      ]
     },
     "execution_count": 27,
     "metadata": {},
     "output_type": "execute_result"
    }
   ],
   "source": [
    "np.fromfunction(lambda i,j : i==j, (3,3))"
   ]
  },
  {
   "cell_type": "code",
   "execution_count": 28,
   "id": "5a3a8950-a54b-4ca8-ba01-b1758e05ca3d",
   "metadata": {},
   "outputs": [],
   "source": [
    "#here (3,3) = Matrix Size \n",
    "#lambda function for comparision\n",
    "#by default i, j starts with 1 "
   ]
  },
  {
   "cell_type": "code",
   "execution_count": null,
   "id": "32bfdbd5-0bf7-40da-841a-154f0813f8d1",
   "metadata": {},
   "outputs": [],
   "source": [
    "\n",
    "\n"
   ]
  },
  {
   "cell_type": "markdown",
   "id": "f6b540a3-a16b-4e25-8720-a432c30b0cba",
   "metadata": {},
   "source": [
    "                                                        fromiterable()\n",
    "    \n",
    "                                        helps us to generate an array from iterable function "
   ]
  },
  {
   "cell_type": "code",
   "execution_count": 29,
   "id": "ce6a1f78-3345-4d4b-8b09-874484414982",
   "metadata": {},
   "outputs": [],
   "source": [
    "iterable = (i*i for i in range(5))"
   ]
  },
  {
   "cell_type": "code",
   "execution_count": 30,
   "id": "1205f415-674f-4d74-bb46-81a15512090f",
   "metadata": {},
   "outputs": [
    {
     "data": {
      "text/plain": [
       "array([ 0,  1,  4,  9, 16])"
      ]
     },
     "execution_count": 30,
     "metadata": {},
     "output_type": "execute_result"
    }
   ],
   "source": [
    "np.fromiter(iterable, int)"
   ]
  },
  {
   "cell_type": "code",
   "execution_count": null,
   "id": "4ebe8170-da5b-4432-9652-82eaf65ba286",
   "metadata": {},
   "outputs": [],
   "source": [
    "\n",
    "\n"
   ]
  },
  {
   "cell_type": "markdown",
   "id": "9574ebf9-1d2f-455b-83e3-9c737578a1c9",
   "metadata": {},
   "source": [
    "                                                    fromstring()\n",
    "    \n",
    "                                    help us to get the string array (only on float datatype) \n",
    "                                    based on separators"
   ]
  },
  {
   "cell_type": "code",
   "execution_count": 32,
   "id": "0d6dea83-0bd2-4b68-9b59-3c5225627cc1",
   "metadata": {},
   "outputs": [
    {
     "data": {
      "text/plain": [
       "array([10., 20., 30.])"
      ]
     },
     "execution_count": 32,
     "metadata": {},
     "output_type": "execute_result"
    }
   ],
   "source": [
    "np.fromstring(\"10 20 30\", sep= ' ')"
   ]
  },
  {
   "cell_type": "code",
   "execution_count": 34,
   "id": "1386533f-78fe-4061-aaec-aaa06febbf51",
   "metadata": {},
   "outputs": [
    {
     "data": {
      "text/plain": [
       "array([1., 2., 3., 3.])"
      ]
     },
     "execution_count": 34,
     "metadata": {},
     "output_type": "execute_result"
    }
   ],
   "source": [
    "np.fromstring(\"1,2,3,3\", sep =',')"
   ]
  },
  {
   "cell_type": "code",
   "execution_count": null,
   "id": "0433414a-3c39-45dc-88db-8d8b9fe4f035",
   "metadata": {},
   "outputs": [],
   "source": [
    "\n",
    "\n"
   ]
  },
  {
   "cell_type": "markdown",
   "id": "9438331b-c949-46c7-aca9-2b4c0ba15d5f",
   "metadata": {},
   "source": [
    "                                    ndim : to check the dimension of array\n",
    "                                    \n",
    "                                    size: check the size\n",
    "                                    dtype\n",
    "                                    shape\n",
    "                                "
   ]
  },
  {
   "cell_type": "code",
   "execution_count": 41,
   "id": "8dba7d58-18b9-4881-b0d3-6c8405237c79",
   "metadata": {},
   "outputs": [],
   "source": [
    "ar1 = np.array([1,2,3,4,5,6])\n",
    "\n",
    "ar2 = np.array([[1,2],[3,4]])\n"
   ]
  },
  {
   "cell_type": "code",
   "execution_count": 37,
   "id": "c1cf80a2-7265-446f-9a46-7d38066bb0dc",
   "metadata": {},
   "outputs": [
    {
     "data": {
      "text/plain": [
       "1"
      ]
     },
     "execution_count": 37,
     "metadata": {},
     "output_type": "execute_result"
    }
   ],
   "source": [
    "ar1.ndim"
   ]
  },
  {
   "cell_type": "code",
   "execution_count": 38,
   "id": "2f2a6afc-7f5e-4a56-861f-ba14592ae740",
   "metadata": {},
   "outputs": [
    {
     "data": {
      "text/plain": [
       "2"
      ]
     },
     "execution_count": 38,
     "metadata": {},
     "output_type": "execute_result"
    }
   ],
   "source": [
    "ar2.ndim"
   ]
  },
  {
   "cell_type": "code",
   "execution_count": null,
   "id": "f5a24eba-816e-4ff5-826a-695dc5b338dd",
   "metadata": {},
   "outputs": [],
   "source": []
  },
  {
   "cell_type": "code",
   "execution_count": 42,
   "id": "035883c3-a8bb-4533-a5b7-862f3679e7df",
   "metadata": {},
   "outputs": [
    {
     "data": {
      "text/plain": [
       "6"
      ]
     },
     "execution_count": 42,
     "metadata": {},
     "output_type": "execute_result"
    }
   ],
   "source": [
    "ar1.size"
   ]
  },
  {
   "cell_type": "code",
   "execution_count": 40,
   "id": "86659cd4-9149-4928-9690-cecbb16e955d",
   "metadata": {},
   "outputs": [
    {
     "data": {
      "text/plain": [
       "4"
      ]
     },
     "execution_count": 40,
     "metadata": {},
     "output_type": "execute_result"
    }
   ],
   "source": [
    "ar2.size"
   ]
  },
  {
   "cell_type": "code",
   "execution_count": 44,
   "id": "29aabdb0-3ba2-45d3-8ca9-b87d343b8db8",
   "metadata": {},
   "outputs": [
    {
     "data": {
      "text/plain": [
       "dtype('int64')"
      ]
     },
     "execution_count": 44,
     "metadata": {},
     "output_type": "execute_result"
    }
   ],
   "source": [
    "ar1.dtype"
   ]
  },
  {
   "cell_type": "code",
   "execution_count": 45,
   "id": "3c69d58b-2342-42f5-89f2-0cf4aab9c023",
   "metadata": {},
   "outputs": [
    {
     "data": {
      "text/plain": [
       "(6,)"
      ]
     },
     "execution_count": 45,
     "metadata": {},
     "output_type": "execute_result"
    }
   ],
   "source": [
    "ar1.shape"
   ]
  },
  {
   "cell_type": "code",
   "execution_count": 46,
   "id": "2669a03a-5376-483e-93f7-4097dafa8275",
   "metadata": {},
   "outputs": [
    {
     "data": {
      "text/plain": [
       "(2, 2)"
      ]
     },
     "execution_count": 46,
     "metadata": {},
     "output_type": "execute_result"
    }
   ],
   "source": [
    "ar2.shape"
   ]
  },
  {
   "cell_type": "code",
   "execution_count": null,
   "id": "9d63fd08-2256-46eb-a587-4f7098d38c77",
   "metadata": {},
   "outputs": [],
   "source": []
  },
  {
   "cell_type": "code",
   "execution_count": 48,
   "id": "efa1eaed-ead4-4358-88fe-3a7fb7e6c5fd",
   "metadata": {},
   "outputs": [],
   "source": [
    "ar3 = np.array([[1,2,3.5],[10,20,30]])"
   ]
  },
  {
   "cell_type": "code",
   "execution_count": 49,
   "id": "3f5be417-f148-4b35-83ef-b013bac7773c",
   "metadata": {},
   "outputs": [
    {
     "data": {
      "text/plain": [
       "array([[ 1. ,  2. ,  3.5],\n",
       "       [10. , 20. , 30. ]])"
      ]
     },
     "execution_count": 49,
     "metadata": {},
     "output_type": "execute_result"
    }
   ],
   "source": [
    "ar3"
   ]
  },
  {
   "cell_type": "code",
   "execution_count": 50,
   "id": "601826b8-b08c-4f29-826e-e04a988403e8",
   "metadata": {},
   "outputs": [
    {
     "data": {
      "text/plain": [
       "(2, 3)"
      ]
     },
     "execution_count": 50,
     "metadata": {},
     "output_type": "execute_result"
    }
   ],
   "source": [
    "ar3.shape"
   ]
  },
  {
   "cell_type": "code",
   "execution_count": null,
   "id": "cc77d98e-daaf-4527-ae03-5a6ff6f4aaf9",
   "metadata": {},
   "outputs": [],
   "source": [
    "\n",
    "\n"
   ]
  },
  {
   "cell_type": "markdown",
   "id": "16a55542-a2ef-401d-9ba2-181c2908463d",
   "metadata": {},
   "source": [
    "                                                            arange()"
   ]
  },
  {
   "cell_type": "code",
   "execution_count": 52,
   "id": "5e7c7ce4-a4dc-456e-be40-e521c3041797",
   "metadata": {},
   "outputs": [
    {
     "data": {
      "text/plain": [
       "array([ 1.2,  2.2,  3.2,  4.2,  5.2,  6.2,  7.2,  8.2,  9.2, 10.2])"
      ]
     },
     "execution_count": 52,
     "metadata": {},
     "output_type": "execute_result"
    }
   ],
   "source": [
    "np.arange(1.2,10.5)"
   ]
  },
  {
   "cell_type": "code",
   "execution_count": 53,
   "id": "7e1d8d03-6e84-49f3-a63a-6f37b17b7815",
   "metadata": {},
   "outputs": [
    {
     "data": {
      "text/plain": [
       "array([1.2, 1.7, 2.2, 2.7, 3.2, 3.7, 4.2, 4.7])"
      ]
     },
     "execution_count": 53,
     "metadata": {},
     "output_type": "execute_result"
    }
   ],
   "source": [
    "np.arange(1.2,5.2,0.5)"
   ]
  },
  {
   "cell_type": "code",
   "execution_count": 54,
   "id": "e102e04c-efe5-42c1-a5c8-50879f14d74e",
   "metadata": {},
   "outputs": [
    {
     "data": {
      "text/plain": [
       "[1.2, 1.7, 2.2, 2.7, 3.2, 3.7, 4.2, 4.7]"
      ]
     },
     "execution_count": 54,
     "metadata": {},
     "output_type": "execute_result"
    }
   ],
   "source": [
    "list(np.arange(1.2,5.2,0.5))"
   ]
  },
  {
   "cell_type": "code",
   "execution_count": null,
   "id": "d414d296-30d0-4fbf-8537-41ec642dfe9e",
   "metadata": {},
   "outputs": [],
   "source": [
    "\n",
    "\n",
    "\n"
   ]
  },
  {
   "cell_type": "markdown",
   "id": "919d6146-68c9-4c93-a755-d7ff2cb20d59",
   "metadata": {},
   "source": [
    "                                                        linspace()"
   ]
  },
  {
   "cell_type": "code",
   "execution_count": 55,
   "id": "3bb7709e-33f3-4e37-97f9-36d13f202bec",
   "metadata": {},
   "outputs": [
    {
     "data": {
      "text/plain": [
       "array([ 1.        ,  1.47368421,  1.94736842,  2.42105263,  2.89473684,\n",
       "        3.36842105,  3.84210526,  4.31578947,  4.78947368,  5.26315789,\n",
       "        5.73684211,  6.21052632,  6.68421053,  7.15789474,  7.63157895,\n",
       "        8.10526316,  8.57894737,  9.05263158,  9.52631579, 10.        ])"
      ]
     },
     "execution_count": 55,
     "metadata": {},
     "output_type": "execute_result"
    }
   ],
   "source": [
    "np.linspace(1,10,20)"
   ]
  },
  {
   "cell_type": "code",
   "execution_count": null,
   "id": "12d53985-1201-46ac-82c1-ba37b7ca2d3f",
   "metadata": {},
   "outputs": [],
   "source": [
    "\n",
    "\n"
   ]
  },
  {
   "cell_type": "markdown",
   "id": "cf8354be-0f2f-4c56-a6c4-0bdc22ff28a4",
   "metadata": {},
   "source": [
    "                                                    zeros()"
   ]
  },
  {
   "cell_type": "code",
   "execution_count": 56,
   "id": "659b79d7-4323-4ea8-8534-6604274e23e8",
   "metadata": {},
   "outputs": [
    {
     "data": {
      "text/plain": [
       "array([0., 0., 0., 0., 0.])"
      ]
     },
     "execution_count": 56,
     "metadata": {},
     "output_type": "execute_result"
    }
   ],
   "source": [
    "np.zeros(5)"
   ]
  },
  {
   "cell_type": "code",
   "execution_count": 58,
   "id": "82036fac-eb12-47fe-a84b-547d77f288ed",
   "metadata": {},
   "outputs": [
    {
     "data": {
      "text/plain": [
       "array([[0., 0., 0.],\n",
       "       [0., 0., 0.]])"
      ]
     },
     "execution_count": 58,
     "metadata": {},
     "output_type": "execute_result"
    }
   ],
   "source": [
    "np.zeros((2,3))"
   ]
  },
  {
   "cell_type": "markdown",
   "id": "f575bbea-bc07-4942-90a1-35af2afaeffa",
   "metadata": {},
   "source": [
    "np.zeros((2,3,2))"
   ]
  },
  {
   "cell_type": "code",
   "execution_count": null,
   "id": "771e27f5-e82a-4726-b736-e19e96b5be9a",
   "metadata": {},
   "outputs": [],
   "source": [
    "\n",
    "\n"
   ]
  },
  {
   "cell_type": "markdown",
   "id": "fba2a58a-a10d-46c6-9489-7ec0404a9c70",
   "metadata": {},
   "source": [
    "                                                    ones()"
   ]
  },
  {
   "cell_type": "code",
   "execution_count": 60,
   "id": "015d0e95-00e6-4bc5-8630-fdac2fc2729d",
   "metadata": {},
   "outputs": [
    {
     "data": {
      "text/plain": [
       "array([1., 1., 1., 1., 1.])"
      ]
     },
     "execution_count": 60,
     "metadata": {},
     "output_type": "execute_result"
    }
   ],
   "source": [
    "np.ones(5)"
   ]
  },
  {
   "cell_type": "code",
   "execution_count": 62,
   "id": "48be638e-dc1a-41e6-ad35-4383f84f7cb7",
   "metadata": {},
   "outputs": [
    {
     "data": {
      "text/plain": [
       "array([[1., 1., 1.],\n",
       "       [1., 1., 1.]])"
      ]
     },
     "execution_count": 62,
     "metadata": {},
     "output_type": "execute_result"
    }
   ],
   "source": [
    "np.ones((2,3))"
   ]
  },
  {
   "cell_type": "code",
   "execution_count": null,
   "id": "8fa4ad74-ad80-4d04-b107-c819bc5c13c2",
   "metadata": {},
   "outputs": [],
   "source": [
    "\n",
    "\n"
   ]
  },
  {
   "cell_type": "markdown",
   "id": "9cf8a311-2858-4851-81d8-2ee50f621c1f",
   "metadata": {},
   "source": [
    "                                            Aritmetic Operations on array"
   ]
  },
  {
   "cell_type": "code",
   "execution_count": 63,
   "id": "3674d245-9d34-49de-9ec3-80d7e7579e3f",
   "metadata": {},
   "outputs": [],
   "source": [
    "#eg using 1d array\n",
    "\n",
    "on = np.ones(5)"
   ]
  },
  {
   "cell_type": "code",
   "execution_count": 64,
   "id": "cce8254f-36d9-49d6-9411-3213151992b7",
   "metadata": {},
   "outputs": [
    {
     "data": {
      "text/plain": [
       "array([5., 5., 5., 5., 5.])"
      ]
     },
     "execution_count": 64,
     "metadata": {},
     "output_type": "execute_result"
    }
   ],
   "source": [
    "on*5"
   ]
  },
  {
   "cell_type": "code",
   "execution_count": 65,
   "id": "3726b197-3ff7-4fca-8908-00520175a0d3",
   "metadata": {},
   "outputs": [
    {
     "data": {
      "text/plain": [
       "array([2., 2., 2., 2., 2.])"
      ]
     },
     "execution_count": 65,
     "metadata": {},
     "output_type": "execute_result"
    }
   ],
   "source": [
    "on+1"
   ]
  },
  {
   "cell_type": "code",
   "execution_count": null,
   "id": "80bad411-187e-4cef-99c4-dc9643fe2384",
   "metadata": {},
   "outputs": [],
   "source": [
    "\n",
    "\n"
   ]
  },
  {
   "cell_type": "markdown",
   "id": "1a4456bf-333d-4b09-a947-fe85887e97fd",
   "metadata": {},
   "source": [
    "                                                    empty()"
   ]
  },
  {
   "cell_type": "code",
   "execution_count": 66,
   "id": "f00bef71-8f98-4704-bf6f-255b916c781b",
   "metadata": {},
   "outputs": [
    {
     "data": {
      "text/plain": [
       "array([4.9e-324, 9.9e-324, 1.5e-323, 2.0e-323])"
      ]
     },
     "execution_count": 66,
     "metadata": {},
     "output_type": "execute_result"
    }
   ],
   "source": [
    "np.empty(4)"
   ]
  },
  {
   "cell_type": "code",
   "execution_count": 68,
   "id": "8f52ea55-6a43-4b0f-94b8-0e82f4258de1",
   "metadata": {},
   "outputs": [
    {
     "data": {
      "text/plain": [
       "array([[1.2, 1.7],\n",
       "       [2.2, 2.7],\n",
       "       [3.2, 3.7],\n",
       "       [4.2, 4.7]])"
      ]
     },
     "execution_count": 68,
     "metadata": {},
     "output_type": "execute_result"
    }
   ],
   "source": [
    "np.empty((4,2))"
   ]
  },
  {
   "cell_type": "code",
   "execution_count": null,
   "id": "45f2a14a-ded4-4197-ae5e-bb7ca7b210fd",
   "metadata": {},
   "outputs": [],
   "source": [
    "\n",
    "\n"
   ]
  },
  {
   "cell_type": "markdown",
   "id": "d24a95d3-1be1-4914-95e0-20a860c5ea68",
   "metadata": {},
   "source": [
    "                                            eye() : used for Identity Matrixes"
   ]
  },
  {
   "cell_type": "code",
   "execution_count": 71,
   "id": "1bce39af-dd50-49c3-bf13-4c02481cf1bc",
   "metadata": {},
   "outputs": [
    {
     "data": {
      "text/plain": [
       "array([[1., 0., 0., 0.],\n",
       "       [0., 1., 0., 0.],\n",
       "       [0., 0., 1., 0.],\n",
       "       [0., 0., 0., 1.]])"
      ]
     },
     "execution_count": 71,
     "metadata": {},
     "output_type": "execute_result"
    }
   ],
   "source": [
    "np.eye(4)"
   ]
  },
  {
   "cell_type": "code",
   "execution_count": null,
   "id": "7aa1cc5e-3461-446c-a8db-dafb334378cc",
   "metadata": {},
   "outputs": [],
   "source": [
    "\n",
    "\n"
   ]
  },
  {
   "cell_type": "markdown",
   "id": "7dea1122-c624-44a8-83fd-e26624bd8ea1",
   "metadata": {},
   "source": [
    "                                                    linspace()\n",
    "                                                    logspace()"
   ]
  },
  {
   "cell_type": "code",
   "execution_count": 72,
   "id": "999cd52d-2dfb-4a3e-a431-a1a4897a6707",
   "metadata": {},
   "outputs": [
    {
     "data": {
      "text/plain": [
       "array([2.        , 2.22222222, 2.44444444, 2.66666667, 2.88888889,\n",
       "       3.11111111, 3.33333333, 3.55555556, 3.77777778, 4.        ])"
      ]
     },
     "execution_count": 72,
     "metadata": {},
     "output_type": "execute_result"
    }
   ],
   "source": [
    "np.linspace(2,4,10)"
   ]
  },
  {
   "cell_type": "code",
   "execution_count": 73,
   "id": "c06b2ac4-4efa-4e36-b862-1a58e9b07aeb",
   "metadata": {},
   "outputs": [
    {
     "data": {
      "text/plain": [
       "array([  100.        ,   166.81005372,   278.25594022,   464.15888336,\n",
       "         774.26368268,  1291.54966501,  2154.43469003,  3593.8136638 ,\n",
       "        5994.84250319, 10000.        ])"
      ]
     },
     "execution_count": 73,
     "metadata": {},
     "output_type": "execute_result"
    }
   ],
   "source": [
    "np.logspace(2,4,10)"
   ]
  },
  {
   "cell_type": "code",
   "execution_count": 74,
   "id": "057da371-30c9-4f78-bbe4-845282d92c6d",
   "metadata": {},
   "outputs": [
    {
     "data": {
      "text/plain": [
       "array([ 4.        ,  4.66611616,  5.44316   ,  6.34960421,  7.4069977 ,\n",
       "        8.64047791, 10.0793684 , 11.75787594, 13.71590373, 16.        ])"
      ]
     },
     "execution_count": 74,
     "metadata": {},
     "output_type": "execute_result"
    }
   ],
   "source": [
    "np.logspace(2,4,10, base = 2)"
   ]
  },
  {
   "cell_type": "code",
   "execution_count": null,
   "id": "08af6060-667f-401e-9a6b-9aac12971c19",
   "metadata": {},
   "outputs": [],
   "source": []
  }
 ],
 "metadata": {
  "kernelspec": {
   "display_name": "Python 3 (ipykernel)",
   "language": "python",
   "name": "python3"
  },
  "language_info": {
   "codemirror_mode": {
    "name": "ipython",
    "version": 3
   },
   "file_extension": ".py",
   "mimetype": "text/x-python",
   "name": "python",
   "nbconvert_exporter": "python",
   "pygments_lexer": "ipython3",
   "version": "3.10.8"
  }
 },
 "nbformat": 4,
 "nbformat_minor": 5
}
