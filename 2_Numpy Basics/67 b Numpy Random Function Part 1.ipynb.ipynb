{
 "cells": [
  {
   "cell_type": "markdown",
   "id": "e26813dc-5e3b-46e6-838c-3d975a593338",
   "metadata": {},
   "source": [
    "                                        Random Function"
   ]
  },
  {
   "cell_type": "code",
   "execution_count": 8,
   "id": "8defecd2-7ea4-435f-8a5b-4fba54e9e74b",
   "metadata": {},
   "outputs": [],
   "source": [
    "import numpy as np\n",
    "import pandas as pd"
   ]
  },
  {
   "cell_type": "markdown",
   "id": "355ab6cd-7c8a-47e3-bf75-f3bbb56c7212",
   "metadata": {},
   "source": [
    "                                        random.randn()"
   ]
  },
  {
   "cell_type": "code",
   "execution_count": 9,
   "id": "80fdd5eb-18b1-454d-9a7a-3d9f007ada66",
   "metadata": {},
   "outputs": [
    {
     "data": {
      "text/plain": [
       "array([-0.87550194,  0.93063307, -0.06324638, -1.13990445, -0.23143508])"
      ]
     },
     "execution_count": 9,
     "metadata": {},
     "output_type": "execute_result"
    }
   ],
   "source": [
    "#genrate random data\n",
    "\n",
    "np.random.randn(5)"
   ]
  },
  {
   "cell_type": "code",
   "execution_count": 3,
   "id": "0ca9fbda-fce9-4084-be9c-d4787d4c5771",
   "metadata": {},
   "outputs": [
    {
     "data": {
      "text/plain": [
       "array([[ 0.15594155,  1.16260675, -0.30591749],\n",
       "       [-2.38801287,  0.51487803, -0.91098045]])"
      ]
     },
     "execution_count": 3,
     "metadata": {},
     "output_type": "execute_result"
    }
   ],
   "source": [
    "np.random.randn(2,3)"
   ]
  },
  {
   "cell_type": "code",
   "execution_count": null,
   "id": "9485ec45-4b90-4d64-9417-77a25722ccba",
   "metadata": {},
   "outputs": [],
   "source": [
    "\n",
    "\n"
   ]
  },
  {
   "cell_type": "code",
   "execution_count": 4,
   "id": "7b18b174-a065-4d5e-9876-3045b481d5ff",
   "metadata": {},
   "outputs": [],
   "source": [
    "#Convert our random numbers to data frame\n",
    "\n",
    "arr = np.random.randn(5,4)"
   ]
  },
  {
   "cell_type": "code",
   "execution_count": 5,
   "id": "3d2a5251-628a-4f67-8091-8f4284d4c3ca",
   "metadata": {},
   "outputs": [
    {
     "data": {
      "text/plain": [
       "array([[-1.97177818,  1.71921755,  1.51478658, -1.57183869],\n",
       "       [ 0.43630641, -0.41668842,  0.15857573,  1.42001659],\n",
       "       [-0.9075007 ,  0.57247858, -0.13532448, -0.78772395],\n",
       "       [ 0.84513094, -1.00978472,  0.33968428,  1.27545055],\n",
       "       [-0.32601567, -0.57531352, -0.50320083, -1.55479244]])"
      ]
     },
     "execution_count": 5,
     "metadata": {},
     "output_type": "execute_result"
    }
   ],
   "source": [
    "arr"
   ]
  },
  {
   "cell_type": "code",
   "execution_count": 6,
   "id": "5c4c836b-09c3-4a5b-8ff6-1414a0054f61",
   "metadata": {},
   "outputs": [],
   "source": [
    "df = pd.DataFrame(arr)"
   ]
  },
  {
   "cell_type": "code",
   "execution_count": 7,
   "id": "bede8d5f-a960-4867-953b-894ca9f768e8",
   "metadata": {},
   "outputs": [
    {
     "data": {
      "text/html": [
       "<div>\n",
       "<style scoped>\n",
       "    .dataframe tbody tr th:only-of-type {\n",
       "        vertical-align: middle;\n",
       "    }\n",
       "\n",
       "    .dataframe tbody tr th {\n",
       "        vertical-align: top;\n",
       "    }\n",
       "\n",
       "    .dataframe thead th {\n",
       "        text-align: right;\n",
       "    }\n",
       "</style>\n",
       "<table border=\"1\" class=\"dataframe\">\n",
       "  <thead>\n",
       "    <tr style=\"text-align: right;\">\n",
       "      <th></th>\n",
       "      <th>0</th>\n",
       "      <th>1</th>\n",
       "      <th>2</th>\n",
       "      <th>3</th>\n",
       "    </tr>\n",
       "  </thead>\n",
       "  <tbody>\n",
       "    <tr>\n",
       "      <th>0</th>\n",
       "      <td>-1.971778</td>\n",
       "      <td>1.719218</td>\n",
       "      <td>1.514787</td>\n",
       "      <td>-1.571839</td>\n",
       "    </tr>\n",
       "    <tr>\n",
       "      <th>1</th>\n",
       "      <td>0.436306</td>\n",
       "      <td>-0.416688</td>\n",
       "      <td>0.158576</td>\n",
       "      <td>1.420017</td>\n",
       "    </tr>\n",
       "    <tr>\n",
       "      <th>2</th>\n",
       "      <td>-0.907501</td>\n",
       "      <td>0.572479</td>\n",
       "      <td>-0.135324</td>\n",
       "      <td>-0.787724</td>\n",
       "    </tr>\n",
       "    <tr>\n",
       "      <th>3</th>\n",
       "      <td>0.845131</td>\n",
       "      <td>-1.009785</td>\n",
       "      <td>0.339684</td>\n",
       "      <td>1.275451</td>\n",
       "    </tr>\n",
       "    <tr>\n",
       "      <th>4</th>\n",
       "      <td>-0.326016</td>\n",
       "      <td>-0.575314</td>\n",
       "      <td>-0.503201</td>\n",
       "      <td>-1.554792</td>\n",
       "    </tr>\n",
       "  </tbody>\n",
       "</table>\n",
       "</div>"
      ],
      "text/plain": [
       "          0         1         2         3\n",
       "0 -1.971778  1.719218  1.514787 -1.571839\n",
       "1  0.436306 -0.416688  0.158576  1.420017\n",
       "2 -0.907501  0.572479 -0.135324 -0.787724\n",
       "3  0.845131 -1.009785  0.339684  1.275451\n",
       "4 -0.326016 -0.575314 -0.503201 -1.554792"
      ]
     },
     "execution_count": 7,
     "metadata": {},
     "output_type": "execute_result"
    }
   ],
   "source": [
    "df"
   ]
  },
  {
   "cell_type": "code",
   "execution_count": null,
   "id": "07485954-6856-4d13-a529-04754370de87",
   "metadata": {},
   "outputs": [],
   "source": [
    "\n",
    "\n"
   ]
  },
  {
   "cell_type": "code",
   "execution_count": null,
   "id": "db19dab1-7233-4724-a9ae-21e2335069d8",
   "metadata": {},
   "outputs": [],
   "source": []
  },
  {
   "cell_type": "code",
   "execution_count": 10,
   "id": "55994b50-07f3-4765-abec-2c760dac069a",
   "metadata": {},
   "outputs": [
    {
     "data": {
      "text/plain": [
       "array([[0.13626386, 0.75389771, 0.34176032, 0.67950496],\n",
       "       [0.04404345, 0.45374715, 0.02749822, 0.4482431 ],\n",
       "       [0.08109994, 0.0056906 , 0.52486987, 0.38198528]])"
      ]
     },
     "execution_count": 10,
     "metadata": {},
     "output_type": "execute_result"
    }
   ],
   "source": [
    "np.random.rand(3,4)"
   ]
  },
  {
   "cell_type": "code",
   "execution_count": null,
   "id": "41b36f2c-1462-4aa6-9168-935628c8e16c",
   "metadata": {},
   "outputs": [],
   "source": [
    "\n",
    "\n"
   ]
  },
  {
   "cell_type": "code",
   "execution_count": null,
   "id": "59b6fb80-77f6-42f5-b106-38778ca8e611",
   "metadata": {},
   "outputs": [],
   "source": []
  },
  {
   "cell_type": "code",
   "execution_count": 11,
   "id": "673463a1-eb56-4fb5-b1aa-d93d6dc51c36",
   "metadata": {},
   "outputs": [
    {
     "data": {
      "text/plain": [
       "2"
      ]
     },
     "execution_count": 11,
     "metadata": {},
     "output_type": "execute_result"
    }
   ],
   "source": [
    "np.random.randint(5)"
   ]
  },
  {
   "cell_type": "code",
   "execution_count": 14,
   "id": "95fbb3aa-45a6-4308-8c25-0337c5716523",
   "metadata": {},
   "outputs": [
    {
     "data": {
      "text/plain": [
       "array([[88,  7, 20, 17],\n",
       "       [27, 14, 21, 89],\n",
       "       [40, 61, 81, 17]])"
      ]
     },
     "execution_count": 14,
     "metadata": {},
     "output_type": "execute_result"
    }
   ],
   "source": [
    "a = np.random.randint(1,100,(3,4))\n",
    "a"
   ]
  },
  {
   "cell_type": "code",
   "execution_count": 15,
   "id": "1e7de00f-b3c9-4a4c-8dc8-28dcf292b548",
   "metadata": {},
   "outputs": [],
   "source": [
    "df = pd.DataFrame(a)"
   ]
  },
  {
   "cell_type": "code",
   "execution_count": 16,
   "id": "0aefabc7-73fe-4371-a183-61d16b76795c",
   "metadata": {},
   "outputs": [
    {
     "data": {
      "text/html": [
       "<div>\n",
       "<style scoped>\n",
       "    .dataframe tbody tr th:only-of-type {\n",
       "        vertical-align: middle;\n",
       "    }\n",
       "\n",
       "    .dataframe tbody tr th {\n",
       "        vertical-align: top;\n",
       "    }\n",
       "\n",
       "    .dataframe thead th {\n",
       "        text-align: right;\n",
       "    }\n",
       "</style>\n",
       "<table border=\"1\" class=\"dataframe\">\n",
       "  <thead>\n",
       "    <tr style=\"text-align: right;\">\n",
       "      <th></th>\n",
       "      <th>0</th>\n",
       "      <th>1</th>\n",
       "      <th>2</th>\n",
       "      <th>3</th>\n",
       "    </tr>\n",
       "  </thead>\n",
       "  <tbody>\n",
       "    <tr>\n",
       "      <th>0</th>\n",
       "      <td>88</td>\n",
       "      <td>7</td>\n",
       "      <td>20</td>\n",
       "      <td>17</td>\n",
       "    </tr>\n",
       "    <tr>\n",
       "      <th>1</th>\n",
       "      <td>27</td>\n",
       "      <td>14</td>\n",
       "      <td>21</td>\n",
       "      <td>89</td>\n",
       "    </tr>\n",
       "    <tr>\n",
       "      <th>2</th>\n",
       "      <td>40</td>\n",
       "      <td>61</td>\n",
       "      <td>81</td>\n",
       "      <td>17</td>\n",
       "    </tr>\n",
       "  </tbody>\n",
       "</table>\n",
       "</div>"
      ],
      "text/plain": [
       "    0   1   2   3\n",
       "0  88   7  20  17\n",
       "1  27  14  21  89\n",
       "2  40  61  81  17"
      ]
     },
     "execution_count": 16,
     "metadata": {},
     "output_type": "execute_result"
    }
   ],
   "source": [
    "df"
   ]
  },
  {
   "cell_type": "code",
   "execution_count": null,
   "id": "fd682274-b933-4f18-b63d-4adcacc32667",
   "metadata": {},
   "outputs": [],
   "source": [
    "\n",
    "\n"
   ]
  },
  {
   "cell_type": "markdown",
   "id": "e9ba1306-fb58-4fbd-bdec-3a4ca3558885",
   "metadata": {},
   "source": [
    "                                        reshape()"
   ]
  },
  {
   "cell_type": "code",
   "execution_count": 33,
   "id": "f3daf864-23db-4369-9080-e52bda63b394",
   "metadata": {},
   "outputs": [
    {
     "data": {
      "text/plain": [
       "array([[49, 36, 38, 44, 25, 48],\n",
       "       [45, 47, 44, 23, 52, 48],\n",
       "       [22, 30, 50, 49, 55, 54],\n",
       "       [44, 38, 33, 44, 54, 56]])"
      ]
     },
     "execution_count": 33,
     "metadata": {},
     "output_type": "execute_result"
    }
   ],
   "source": [
    "arr1 = np.random.randint(20,60, (4,6))\n",
    "arr1"
   ]
  },
  {
   "cell_type": "code",
   "execution_count": 35,
   "id": "bd2687f0-33aa-4b4e-960e-a02b06e8d0c3",
   "metadata": {},
   "outputs": [
    {
     "data": {
      "text/plain": [
       "array([[49, 36],\n",
       "       [38, 44],\n",
       "       [25, 48],\n",
       "       [45, 47],\n",
       "       [44, 23],\n",
       "       [52, 48],\n",
       "       [22, 30],\n",
       "       [50, 49],\n",
       "       [55, 54],\n",
       "       [44, 38],\n",
       "       [33, 44],\n",
       "       [54, 56]])"
      ]
     },
     "execution_count": 35,
     "metadata": {},
     "output_type": "execute_result"
    }
   ],
   "source": [
    "arr2 = arr1.reshape((12,2))\n",
    "arr2"
   ]
  },
  {
   "cell_type": "code",
   "execution_count": null,
   "id": "8ead35ae-1719-40df-a68b-dd715c50c762",
   "metadata": {},
   "outputs": [],
   "source": [
    "\n",
    "\n",
    "\n"
   ]
  },
  {
   "cell_type": "markdown",
   "id": "fbf70f19-48ad-4de7-a6bd-8008f194f6cc",
   "metadata": {},
   "source": [
    "                                        Indexing"
   ]
  },
  {
   "cell_type": "code",
   "execution_count": 36,
   "id": "425cc1ba-120c-48a7-9a05-86c613e2f01d",
   "metadata": {},
   "outputs": [
    {
     "data": {
      "text/plain": [
       "47"
      ]
     },
     "execution_count": 36,
     "metadata": {},
     "output_type": "execute_result"
    }
   ],
   "source": [
    "arr1[1,1]"
   ]
  },
  {
   "cell_type": "code",
   "execution_count": 37,
   "id": "0cfa8754-db7c-474f-a90e-8a75150b2f0c",
   "metadata": {},
   "outputs": [
    {
     "data": {
      "text/plain": [
       "44"
      ]
     },
     "execution_count": 37,
     "metadata": {},
     "output_type": "execute_result"
    }
   ],
   "source": [
    "arr2[1,1]"
   ]
  },
  {
   "cell_type": "code",
   "execution_count": 44,
   "id": "266196be-9ad3-4e1e-945d-221fd541183d",
   "metadata": {},
   "outputs": [
    {
     "data": {
      "text/plain": [
       "array([48, 47, 23])"
      ]
     },
     "execution_count": 44,
     "metadata": {},
     "output_type": "execute_result"
    }
   ],
   "source": [
    "arr2[2:5,1]"
   ]
  },
  {
   "cell_type": "code",
   "execution_count": null,
   "id": "fa8e1cfd-5ec4-4d04-944a-bccec2b1a102",
   "metadata": {},
   "outputs": [],
   "source": [
    "\n",
    "\n"
   ]
  },
  {
   "cell_type": "markdown",
   "id": "27d7c649-cf39-421d-960f-0144c6268530",
   "metadata": {},
   "source": [
    "                                        Extract Data based on Condition"
   ]
  },
  {
   "cell_type": "code",
   "execution_count": 45,
   "id": "1cab903b-4187-4987-a1b5-17237bdb7bcb",
   "metadata": {},
   "outputs": [
    {
     "data": {
      "text/plain": [
       "array([[37, 78,  8, 98, 68],\n",
       "       [68, 14, 82, 55, 31],\n",
       "       [ 4, 85, 84, 47, 65],\n",
       "       [49, 28, 42, 51,  6],\n",
       "       [93, 22, 69, 78, 90]])"
      ]
     },
     "execution_count": 45,
     "metadata": {},
     "output_type": "execute_result"
    }
   ],
   "source": [
    "arr = np.random.randint(1,100, (5,5))\n",
    "arr"
   ]
  },
  {
   "cell_type": "code",
   "execution_count": 60,
   "id": "7cb2ec9b-cf1e-43e3-aabc-7cd307ec375a",
   "metadata": {},
   "outputs": [
    {
     "data": {
      "text/plain": [
       "array([[False,  True, False,  True,  True],\n",
       "       [ True, False,  True,  True, False],\n",
       "       [False,  True,  True, False,  True],\n",
       "       [False, False, False,  True, False],\n",
       "       [ True, False,  True,  True,  True]])"
      ]
     },
     "execution_count": 60,
     "metadata": {},
     "output_type": "execute_result"
    }
   ],
   "source": [
    "#based on Condition\n",
    "\n",
    "arr>50"
   ]
  },
  {
   "cell_type": "code",
   "execution_count": 48,
   "id": "91165744-d874-457b-b096-0a3501f94674",
   "metadata": {},
   "outputs": [
    {
     "data": {
      "text/plain": [
       "array([78, 98, 68, 68, 82, 55, 85, 84, 65, 51, 93, 69, 78, 90])"
      ]
     },
     "execution_count": 48,
     "metadata": {},
     "output_type": "execute_result"
    }
   ],
   "source": [
    "arr[arr>50]"
   ]
  },
  {
   "cell_type": "code",
   "execution_count": null,
   "id": "3f788190-c0d4-47cb-b78f-0c518f7b3ec5",
   "metadata": {},
   "outputs": [],
   "source": [
    "\n",
    "\n"
   ]
  },
  {
   "cell_type": "code",
   "execution_count": 49,
   "id": "318649a0-18a1-4480-8b84-1daae94b2735",
   "metadata": {},
   "outputs": [
    {
     "data": {
      "text/plain": [
       "array([[37, 78,  8, 98, 68],\n",
       "       [68, 14, 82, 55, 31],\n",
       "       [ 4, 85, 84, 47, 65],\n",
       "       [49, 28, 42, 51,  6],\n",
       "       [93, 22, 69, 78, 90]])"
      ]
     },
     "execution_count": 49,
     "metadata": {},
     "output_type": "execute_result"
    }
   ],
   "source": [
    "arr"
   ]
  },
  {
   "cell_type": "code",
   "execution_count": 58,
   "id": "c10dc9d4-695b-4133-b73d-c9123909c9ad",
   "metadata": {},
   "outputs": [
    {
     "data": {
      "text/plain": [
       "array([[84, 65],\n",
       "       [42,  6]])"
      ]
     },
     "execution_count": 58,
     "metadata": {},
     "output_type": "execute_result"
    }
   ],
   "source": [
    "#Based on position\n",
    "\n",
    "arr[2:4,(2,4)]"
   ]
  },
  {
   "cell_type": "code",
   "execution_count": null,
   "id": "a94d3abe-b9b7-485a-b49f-87522b0f3d6c",
   "metadata": {},
   "outputs": [],
   "source": [
    "\n",
    "\n"
   ]
  },
  {
   "cell_type": "markdown",
   "id": "034e8a7c-4cce-4d95-81e4-7e2c0a4e621c",
   "metadata": {},
   "source": [
    "                                        Data Manipulation"
   ]
  },
  {
   "cell_type": "code",
   "execution_count": 61,
   "id": "5348a288-e429-48fc-8efc-69011fee9725",
   "metadata": {},
   "outputs": [
    {
     "data": {
      "text/plain": [
       "array([[37, 78,  8, 98, 68],\n",
       "       [68, 14, 82, 55, 31],\n",
       "       [ 4, 85, 84, 47, 65],\n",
       "       [49, 28, 42, 51,  6],\n",
       "       [93, 22, 69, 78, 90]])"
      ]
     },
     "execution_count": 61,
     "metadata": {},
     "output_type": "execute_result"
    }
   ],
   "source": [
    "arr"
   ]
  },
  {
   "cell_type": "code",
   "execution_count": 62,
   "id": "36b02f6f-f478-4bc4-8bf8-0b5d851abb0c",
   "metadata": {},
   "outputs": [
    {
     "data": {
      "text/plain": [
       "37"
      ]
     },
     "execution_count": 62,
     "metadata": {},
     "output_type": "execute_result"
    }
   ],
   "source": [
    "arr[0,0]"
   ]
  },
  {
   "cell_type": "code",
   "execution_count": 63,
   "id": "62a03016-1f52-4d4e-b689-3775c8dbe558",
   "metadata": {},
   "outputs": [
    {
     "data": {
      "text/plain": [
       "array([[5000,   78,    8,   98,   68],\n",
       "       [  68,   14,   82,   55,   31],\n",
       "       [   4,   85,   84,   47,   65],\n",
       "       [  49,   28,   42,   51,    6],\n",
       "       [  93,   22,   69,   78,   90]])"
      ]
     },
     "execution_count": 63,
     "metadata": {},
     "output_type": "execute_result"
    }
   ],
   "source": [
    "arr[0,0]  = 5000\n",
    "arr"
   ]
  },
  {
   "cell_type": "code",
   "execution_count": null,
   "id": "114c308d-73dd-4589-93f3-b67adbf09b09",
   "metadata": {},
   "outputs": [],
   "source": []
  }
 ],
 "metadata": {
  "kernelspec": {
   "display_name": "Python 3 (ipykernel)",
   "language": "python",
   "name": "python3"
  },
  "language_info": {
   "codemirror_mode": {
    "name": "ipython",
    "version": 3
   },
   "file_extension": ".py",
   "mimetype": "text/x-python",
   "name": "python",
   "nbconvert_exporter": "python",
   "pygments_lexer": "ipython3",
   "version": "3.10.8"
  }
 },
 "nbformat": 4,
 "nbformat_minor": 5
}
