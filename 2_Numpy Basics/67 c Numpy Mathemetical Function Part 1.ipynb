{
 "cells": [
  {
   "cell_type": "markdown",
   "id": "31cb4af2-39c5-4c43-8d84-632ae3ae6ad9",
   "metadata": {},
   "source": [
    "                                        Numpy Mathematical Operation"
   ]
  },
  {
   "cell_type": "code",
   "execution_count": 1,
   "id": "b05d9248-252b-4daf-af49-7458fd97badd",
   "metadata": {},
   "outputs": [],
   "source": [
    "import numpy as np"
   ]
  },
  {
   "cell_type": "code",
   "execution_count": 5,
   "id": "a8c663b6-8a2a-43d0-b46a-5c4deb813549",
   "metadata": {},
   "outputs": [],
   "source": [
    "arr1 = np.random.randint(1, 4, (3,3))\n",
    "arr2 = np.random.randint(1, 4, (3,3))"
   ]
  },
  {
   "cell_type": "code",
   "execution_count": 6,
   "id": "154ffa1d-6de2-4fab-9a76-2db1a49014c7",
   "metadata": {},
   "outputs": [
    {
     "data": {
      "text/plain": [
       "array([[1, 2, 3],\n",
       "       [1, 2, 2],\n",
       "       [3, 3, 1]])"
      ]
     },
     "execution_count": 6,
     "metadata": {},
     "output_type": "execute_result"
    }
   ],
   "source": [
    "arr1"
   ]
  },
  {
   "cell_type": "code",
   "execution_count": 7,
   "id": "7a47dc99-f3a1-4038-b4b0-8b6403804794",
   "metadata": {},
   "outputs": [
    {
     "data": {
      "text/plain": [
       "array([[1, 1, 2],\n",
       "       [3, 2, 1],\n",
       "       [1, 1, 2]])"
      ]
     },
     "execution_count": 7,
     "metadata": {},
     "output_type": "execute_result"
    }
   ],
   "source": [
    "arr2"
   ]
  },
  {
   "cell_type": "code",
   "execution_count": null,
   "id": "d90e1402-5283-418b-b7ed-de4cb6ae62eb",
   "metadata": {},
   "outputs": [],
   "source": [
    "\n"
   ]
  },
  {
   "cell_type": "markdown",
   "id": "c65d2a21-e91c-4ed1-8a84-7fa7d9713f15",
   "metadata": {},
   "source": [
    "Summation"
   ]
  },
  {
   "cell_type": "code",
   "execution_count": 8,
   "id": "e507045a-27ee-4ab9-9b45-ca2b0cbc03f0",
   "metadata": {},
   "outputs": [
    {
     "data": {
      "text/plain": [
       "array([[2, 3, 5],\n",
       "       [4, 4, 3],\n",
       "       [4, 4, 3]])"
      ]
     },
     "execution_count": 8,
     "metadata": {},
     "output_type": "execute_result"
    }
   ],
   "source": [
    "arr1 + arr2"
   ]
  },
  {
   "cell_type": "code",
   "execution_count": null,
   "id": "0743b5a3-b264-4f9c-9a75-1b05fbe6fb52",
   "metadata": {},
   "outputs": [],
   "source": [
    "\n"
   ]
  },
  {
   "cell_type": "markdown",
   "id": "595537a3-6de6-4fe5-b1f3-d93d16ce6472",
   "metadata": {},
   "source": [
    "Index Multiplication"
   ]
  },
  {
   "cell_type": "code",
   "execution_count": 10,
   "id": "526d8f7f-e32b-49f6-b1d4-a4307382b56e",
   "metadata": {},
   "outputs": [
    {
     "data": {
      "text/plain": [
       "array([[1, 2, 6],\n",
       "       [3, 4, 2],\n",
       "       [3, 3, 2]])"
      ]
     },
     "execution_count": 10,
     "metadata": {},
     "output_type": "execute_result"
    }
   ],
   "source": [
    "arr1 * arr2"
   ]
  },
  {
   "cell_type": "code",
   "execution_count": null,
   "id": "70bd7387-23ea-4fb2-a394-d9ae8f04d44e",
   "metadata": {},
   "outputs": [],
   "source": [
    "\n"
   ]
  },
  {
   "cell_type": "markdown",
   "id": "84b80560-f73b-4bf3-a2e8-2a7a29202e7e",
   "metadata": {},
   "source": [
    "Matrix Multiplication : by using @"
   ]
  },
  {
   "cell_type": "code",
   "execution_count": 11,
   "id": "ba552a98-cd8c-4c57-8986-dc0e0cb95aad",
   "metadata": {},
   "outputs": [
    {
     "data": {
      "text/plain": [
       "array([[10,  8, 10],\n",
       "       [ 9,  7,  8],\n",
       "       [13, 10, 11]])"
      ]
     },
     "execution_count": 11,
     "metadata": {},
     "output_type": "execute_result"
    }
   ],
   "source": [
    "arr1 @ arr2"
   ]
  },
  {
   "cell_type": "code",
   "execution_count": null,
   "id": "6d754305-5577-4712-866b-82878d6597db",
   "metadata": {},
   "outputs": [],
   "source": [
    "\n"
   ]
  },
  {
   "cell_type": "code",
   "execution_count": 12,
   "id": "cb74fb62-ce8c-474b-a619-b4fe560ef4e8",
   "metadata": {},
   "outputs": [
    {
     "data": {
      "text/plain": [
       "array([[101, 102, 103],\n",
       "       [101, 102, 102],\n",
       "       [103, 103, 101]])"
      ]
     },
     "execution_count": 12,
     "metadata": {},
     "output_type": "execute_result"
    }
   ],
   "source": [
    "arr1 + 100"
   ]
  },
  {
   "cell_type": "code",
   "execution_count": 13,
   "id": "4274be0e-94ef-4f3c-b588-9658aa01930a",
   "metadata": {},
   "outputs": [
    {
     "data": {
      "text/plain": [
       "array([[1, 4, 9],\n",
       "       [1, 4, 4],\n",
       "       [9, 9, 1]])"
      ]
     },
     "execution_count": 13,
     "metadata": {},
     "output_type": "execute_result"
    }
   ],
   "source": [
    "arr1**2"
   ]
  },
  {
   "cell_type": "code",
   "execution_count": 14,
   "id": "9b84ce1e-3dd5-440a-ba31-c3e6d5a4ebb6",
   "metadata": {},
   "outputs": [
    {
     "data": {
      "text/plain": [
       "array([[ 1,  8, 27],\n",
       "       [ 1,  8,  8],\n",
       "       [27, 27,  1]])"
      ]
     },
     "execution_count": 14,
     "metadata": {},
     "output_type": "execute_result"
    }
   ],
   "source": [
    "pow(arr1, 3)"
   ]
  },
  {
   "cell_type": "code",
   "execution_count": null,
   "id": "23efc1c9-64e3-4805-8012-e0845825e84c",
   "metadata": {},
   "outputs": [],
   "source": [
    "\n",
    "\n"
   ]
  },
  {
   "cell_type": "markdown",
   "id": "087735f6-54d5-4a65-b29c-7dc705cc3862",
   "metadata": {},
   "source": [
    "Broadcasting"
   ]
  },
  {
   "cell_type": "code",
   "execution_count": 15,
   "id": "a70fdf12-8d3b-40fd-b59f-840d7330efe1",
   "metadata": {},
   "outputs": [],
   "source": [
    "arr3 = np.zeros((4,4))"
   ]
  },
  {
   "cell_type": "code",
   "execution_count": 19,
   "id": "b4b28d33-c854-49f0-91af-5253eae51e03",
   "metadata": {},
   "outputs": [],
   "source": [
    "col = np.random.randint(1,4, 4)"
   ]
  },
  {
   "cell_type": "code",
   "execution_count": 17,
   "id": "d1b126ba-310f-44cb-8aa0-e212d035825b",
   "metadata": {},
   "outputs": [
    {
     "data": {
      "text/plain": [
       "array([[0., 0., 0., 0.],\n",
       "       [0., 0., 0., 0.],\n",
       "       [0., 0., 0., 0.],\n",
       "       [0., 0., 0., 0.]])"
      ]
     },
     "execution_count": 17,
     "metadata": {},
     "output_type": "execute_result"
    }
   ],
   "source": [
    "arr3"
   ]
  },
  {
   "cell_type": "code",
   "execution_count": 20,
   "id": "c1f07606-9c6f-4abd-b4b6-3c352c121ccf",
   "metadata": {},
   "outputs": [
    {
     "data": {
      "text/plain": [
       "array([2, 1, 2, 2])"
      ]
     },
     "execution_count": 20,
     "metadata": {},
     "output_type": "execute_result"
    }
   ],
   "source": [
    "col"
   ]
  },
  {
   "cell_type": "code",
   "execution_count": 25,
   "id": "33c99164-9b0a-4d4a-a558-a0b83b7424df",
   "metadata": {},
   "outputs": [
    {
     "data": {
      "text/plain": [
       "array([[2., 1., 2., 2.],\n",
       "       [2., 1., 2., 2.],\n",
       "       [2., 1., 2., 2.],\n",
       "       [2., 1., 2., 2.]])"
      ]
     },
     "execution_count": 25,
     "metadata": {},
     "output_type": "execute_result"
    }
   ],
   "source": [
    "#coloumn wise addition\n",
    "\n",
    "arr3+ col"
   ]
  },
  {
   "cell_type": "code",
   "execution_count": null,
   "id": "d5b2dbaf-df0a-4718-8022-e1458630529b",
   "metadata": {},
   "outputs": [],
   "source": []
  },
  {
   "cell_type": "code",
   "execution_count": 45,
   "id": "2a8f8a63-0f1c-49d1-bdb2-9e3b15cab234",
   "metadata": {},
   "outputs": [
    {
     "data": {
      "text/plain": [
       "array([[1],\n",
       "       [2],\n",
       "       [3],\n",
       "       [4]])"
      ]
     },
     "execution_count": 45,
     "metadata": {},
     "output_type": "execute_result"
    }
   ],
   "source": [
    "#row wise addition\n",
    "\n",
    "col = np.array([[1,2,3,4]])\n",
    "col.T"
   ]
  },
  {
   "cell_type": "code",
   "execution_count": 46,
   "id": "b15c95d2-08da-4dc2-8228-7d107932020c",
   "metadata": {},
   "outputs": [
    {
     "data": {
      "text/plain": [
       "array([[1., 2., 3., 4.],\n",
       "       [1., 2., 3., 4.],\n",
       "       [1., 2., 3., 4.],\n",
       "       [1., 2., 3., 4.]])"
      ]
     },
     "execution_count": 46,
     "metadata": {},
     "output_type": "execute_result"
    }
   ],
   "source": [
    "arr3 + col"
   ]
  },
  {
   "cell_type": "code",
   "execution_count": null,
   "id": "f21c9c52-62cf-4e9f-b570-092e7d7f3b1a",
   "metadata": {},
   "outputs": [],
   "source": []
  },
  {
   "cell_type": "code",
   "execution_count": null,
   "id": "830f5ddf-d605-4987-a9a0-76d03bae9d4c",
   "metadata": {},
   "outputs": [],
   "source": []
  }
 ],
 "metadata": {
  "kernelspec": {
   "display_name": "Python 3 (ipykernel)",
   "language": "python",
   "name": "python3"
  },
  "language_info": {
   "codemirror_mode": {
    "name": "ipython",
    "version": 3
   },
   "file_extension": ".py",
   "mimetype": "text/x-python",
   "name": "python",
   "nbconvert_exporter": "python",
   "pygments_lexer": "ipython3",
   "version": "3.10.8"
  }
 },
 "nbformat": 4,
 "nbformat_minor": 5
}
