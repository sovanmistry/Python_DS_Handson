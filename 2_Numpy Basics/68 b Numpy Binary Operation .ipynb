{
 "cells": [
  {
   "cell_type": "markdown",
   "id": "c878b8c3-d087-41f7-84cd-b896ad7016a6",
   "metadata": {},
   "source": [
    "                                        Binary Operation"
   ]
  },
  {
   "cell_type": "code",
   "execution_count": 1,
   "id": "02f1991c-cf1f-45c4-9b05-f99eaaa53d4a",
   "metadata": {},
   "outputs": [],
   "source": [
    "import numpy as np"
   ]
  },
  {
   "cell_type": "code",
   "execution_count": 3,
   "id": "3fb2068d-cacc-4fe2-a59a-ffdf9291fa84",
   "metadata": {},
   "outputs": [],
   "source": [
    "arr1 = np.random.randint(1,5, (3,3))"
   ]
  },
  {
   "cell_type": "code",
   "execution_count": 4,
   "id": "59fa34b2-991d-4fa7-9cf8-1aca42f7bca7",
   "metadata": {},
   "outputs": [],
   "source": [
    "arr2 = np.random.randint(6,10, (3,3))"
   ]
  },
  {
   "cell_type": "code",
   "execution_count": 5,
   "id": "ad387113-d986-4a8a-8efd-c0295ae5b2ed",
   "metadata": {},
   "outputs": [
    {
     "data": {
      "text/plain": [
       "array([[3, 3, 2],\n",
       "       [3, 4, 2],\n",
       "       [1, 3, 1]])"
      ]
     },
     "execution_count": 5,
     "metadata": {},
     "output_type": "execute_result"
    }
   ],
   "source": [
    "arr1"
   ]
  },
  {
   "cell_type": "code",
   "execution_count": 6,
   "id": "018e07a7-b5ff-4b2d-af66-d5be208bea3d",
   "metadata": {},
   "outputs": [
    {
     "data": {
      "text/plain": [
       "array([[6, 8, 6],\n",
       "       [8, 6, 9],\n",
       "       [6, 8, 9]])"
      ]
     },
     "execution_count": 6,
     "metadata": {},
     "output_type": "execute_result"
    }
   ],
   "source": [
    "arr2"
   ]
  },
  {
   "cell_type": "markdown",
   "id": "c0c34b02-3c57-4060-ae15-4362f82f51d5",
   "metadata": {},
   "source": [
    "                                        Arithmetic"
   ]
  },
  {
   "cell_type": "code",
   "execution_count": 7,
   "id": "1c4e690f-54c5-4ae9-a2c0-ca17ff92c7a5",
   "metadata": {},
   "outputs": [
    {
     "data": {
      "text/plain": [
       "array([[ 9, 11,  8],\n",
       "       [11, 10, 11],\n",
       "       [ 7, 11, 10]])"
      ]
     },
     "execution_count": 7,
     "metadata": {},
     "output_type": "execute_result"
    }
   ],
   "source": [
    "arr1 + arr2"
   ]
  },
  {
   "cell_type": "code",
   "execution_count": 8,
   "id": "86c93c5b-f049-4c31-b874-7a44364e2ea0",
   "metadata": {},
   "outputs": [
    {
     "data": {
      "text/plain": [
       "array([[0.5       , 0.375     , 0.33333333],\n",
       "       [0.375     , 0.66666667, 0.22222222],\n",
       "       [0.16666667, 0.375     , 0.11111111]])"
      ]
     },
     "execution_count": 8,
     "metadata": {},
     "output_type": "execute_result"
    }
   ],
   "source": [
    "arr1/arr2"
   ]
  },
  {
   "cell_type": "code",
   "execution_count": 9,
   "id": "3c8e0e92-5102-48c1-90e5-786a0306bc33",
   "metadata": {},
   "outputs": [
    {
     "data": {
      "text/plain": [
       "array([[-3, -5, -4],\n",
       "       [-5, -2, -7],\n",
       "       [-5, -5, -8]])"
      ]
     },
     "execution_count": 9,
     "metadata": {},
     "output_type": "execute_result"
    }
   ],
   "source": [
    "arr1 - arr2"
   ]
  },
  {
   "cell_type": "code",
   "execution_count": 12,
   "id": "e5a65257-c51c-4383-abf1-39b46ad27e3c",
   "metadata": {},
   "outputs": [
    {
     "data": {
      "text/plain": [
       "array([[3, 3, 2],\n",
       "       [3, 4, 2],\n",
       "       [1, 3, 1]])"
      ]
     },
     "execution_count": 12,
     "metadata": {},
     "output_type": "execute_result"
    }
   ],
   "source": [
    "arr1%arr2"
   ]
  },
  {
   "cell_type": "code",
   "execution_count": 13,
   "id": "8da00cb2-043b-472d-902d-f8d20858622d",
   "metadata": {},
   "outputs": [
    {
     "data": {
      "text/plain": [
       "array([[ 729, 6561,   64],\n",
       "       [6561, 4096,  512],\n",
       "       [   1, 6561,    1]])"
      ]
     },
     "execution_count": 13,
     "metadata": {},
     "output_type": "execute_result"
    }
   ],
   "source": [
    "arr1 ** arr2"
   ]
  },
  {
   "cell_type": "code",
   "execution_count": 14,
   "id": "854d1d05-d42c-41cc-9ff4-ca33a4c29fba",
   "metadata": {},
   "outputs": [
    {
     "data": {
      "text/plain": [
       "array([[-4, -4, -3],\n",
       "       [-4, -5, -3],\n",
       "       [-2, -4, -2]])"
      ]
     },
     "execution_count": 14,
     "metadata": {},
     "output_type": "execute_result"
    }
   ],
   "source": [
    "~arr1"
   ]
  },
  {
   "cell_type": "code",
   "execution_count": 16,
   "id": "cad97396-0338-4710-9427-94d6609014c9",
   "metadata": {},
   "outputs": [
    {
     "data": {
      "text/plain": [
       "array([[ 7, 11,  6],\n",
       "       [11,  6, 11],\n",
       "       [ 7, 11,  9]])"
      ]
     },
     "execution_count": 16,
     "metadata": {},
     "output_type": "execute_result"
    }
   ],
   "source": [
    "arr1 | arr2"
   ]
  },
  {
   "cell_type": "code",
   "execution_count": 17,
   "id": "93417528-52e5-464d-baa6-4756c93ec4c9",
   "metadata": {},
   "outputs": [
    {
     "data": {
      "text/plain": [
       "array([[2, 0, 2],\n",
       "       [0, 4, 0],\n",
       "       [0, 0, 1]])"
      ]
     },
     "execution_count": 17,
     "metadata": {},
     "output_type": "execute_result"
    }
   ],
   "source": [
    "arr1 & arr2"
   ]
  },
  {
   "cell_type": "code",
   "execution_count": 18,
   "id": "76fedfb6-ab1b-4858-829a-b80828b2a6c5",
   "metadata": {},
   "outputs": [
    {
     "data": {
      "text/plain": [
       "array([[False, False, False],\n",
       "       [False, False, False],\n",
       "       [False, False, False]])"
      ]
     },
     "execution_count": 18,
     "metadata": {},
     "output_type": "execute_result"
    }
   ],
   "source": [
    "arr1 > arr2"
   ]
  },
  {
   "cell_type": "code",
   "execution_count": null,
   "id": "2b02a65a-53c5-4c53-9b42-4a4b8c1f3c77",
   "metadata": {},
   "outputs": [],
   "source": []
  }
 ],
 "metadata": {
  "kernelspec": {
   "display_name": "Python 3 (ipykernel)",
   "language": "python",
   "name": "python3"
  },
  "language_info": {
   "codemirror_mode": {
    "name": "ipython",
    "version": 3
   },
   "file_extension": ".py",
   "mimetype": "text/x-python",
   "name": "python",
   "nbconvert_exporter": "python",
   "pygments_lexer": "ipython3",
   "version": "3.10.8"
  }
 },
 "nbformat": 4,
 "nbformat_minor": 5
}
