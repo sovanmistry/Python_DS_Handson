{
 "cells": [
  {
   "cell_type": "markdown",
   "id": "e36731c8-a912-46b1-8462-5ceaf7932b3e",
   "metadata": {},
   "source": [
    "                                        Numpy String"
   ]
  },
  {
   "cell_type": "code",
   "execution_count": 1,
   "id": "dbfb7618-b0eb-4696-a346-793aba19cf73",
   "metadata": {},
   "outputs": [],
   "source": [
    "import numpy as np"
   ]
  },
  {
   "cell_type": "code",
   "execution_count": 2,
   "id": "7ed917a2-75ff-493f-8345-09b1757caf34",
   "metadata": {},
   "outputs": [],
   "source": [
    "arr = np.array( [\"Sovan\", \"Kamlesh\"])"
   ]
  },
  {
   "cell_type": "code",
   "execution_count": 3,
   "id": "0aa39089-8ca2-4d56-b9e8-cd1f73dde4c4",
   "metadata": {},
   "outputs": [
    {
     "data": {
      "text/plain": [
       "array(['Sovan', 'Kamlesh'], dtype='<U7')"
      ]
     },
     "execution_count": 3,
     "metadata": {},
     "output_type": "execute_result"
    }
   ],
   "source": [
    "arr"
   ]
  },
  {
   "cell_type": "code",
   "execution_count": null,
   "id": "20f34f2d-bc23-4a81-ada3-02a6db40e112",
   "metadata": {},
   "outputs": [],
   "source": []
  },
  {
   "cell_type": "code",
   "execution_count": 5,
   "id": "45775e48-5c02-45bb-9d21-9f05262a5822",
   "metadata": {},
   "outputs": [
    {
     "data": {
      "text/plain": [
       "array(['SOVAN', 'KAMLESH'], dtype='<U7')"
      ]
     },
     "execution_count": 5,
     "metadata": {},
     "output_type": "execute_result"
    }
   ],
   "source": [
    "#Converting it to Upper case\n",
    "\n",
    "np.char.upper(arr)"
   ]
  },
  {
   "cell_type": "code",
   "execution_count": 6,
   "id": "4907921d-ad3d-44f5-9566-d9e6f7d230b3",
   "metadata": {},
   "outputs": [
    {
     "data": {
      "text/plain": [
       "array(['Sovan', 'Kamlesh'], dtype='<U7')"
      ]
     },
     "execution_count": 6,
     "metadata": {},
     "output_type": "execute_result"
    }
   ],
   "source": [
    "np.char.capitalize(arr)"
   ]
  },
  {
   "cell_type": "code",
   "execution_count": 7,
   "id": "1d7e2161-89b3-4d82-bf1c-9bec023337cc",
   "metadata": {},
   "outputs": [
    {
     "data": {
      "text/plain": [
       "array(['Sovan', 'Kamlesh'], dtype='<U7')"
      ]
     },
     "execution_count": 7,
     "metadata": {},
     "output_type": "execute_result"
    }
   ],
   "source": [
    "np.char.title(arr)"
   ]
  },
  {
   "cell_type": "code",
   "execution_count": null,
   "id": "b80704df-9a6d-4f64-b3a7-48ae511457ee",
   "metadata": {},
   "outputs": [],
   "source": []
  }
 ],
 "metadata": {
  "kernelspec": {
   "display_name": "Python 3 (ipykernel)",
   "language": "python",
   "name": "python3"
  },
  "language_info": {
   "codemirror_mode": {
    "name": "ipython",
    "version": 3
   },
   "file_extension": ".py",
   "mimetype": "text/x-python",
   "name": "python",
   "nbconvert_exporter": "python",
   "pygments_lexer": "ipython3",
   "version": "3.10.8"
  }
 },
 "nbformat": 4,
 "nbformat_minor": 5
}
