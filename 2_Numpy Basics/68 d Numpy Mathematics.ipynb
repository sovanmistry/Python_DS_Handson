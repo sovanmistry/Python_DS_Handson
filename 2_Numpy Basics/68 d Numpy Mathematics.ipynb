{
 "cells": [
  {
   "cell_type": "code",
   "execution_count": null,
   "id": "0d764a23-0181-4606-94a0-749d166c321c",
   "metadata": {},
   "outputs": [],
   "source": []
  },
  {
   "cell_type": "code",
   "execution_count": 1,
   "id": "5b91c266-7679-487e-8a31-e4b97d4d010c",
   "metadata": {},
   "outputs": [],
   "source": [
    "import numpy as np"
   ]
  },
  {
   "cell_type": "code",
   "execution_count": 4,
   "id": "d1a40e69-e9de-4bdb-a6d8-fbd535acaa03",
   "metadata": {},
   "outputs": [],
   "source": [
    "arr = np.random.randint(1,5, (3,4))"
   ]
  },
  {
   "cell_type": "code",
   "execution_count": 5,
   "id": "a627320b-9b27-47ea-88bd-2ff2ae07c4a6",
   "metadata": {},
   "outputs": [
    {
     "data": {
      "text/plain": [
       "array([[4, 4, 3, 4],\n",
       "       [2, 4, 3, 4],\n",
       "       [1, 2, 4, 3]])"
      ]
     },
     "execution_count": 5,
     "metadata": {},
     "output_type": "execute_result"
    }
   ],
   "source": [
    "arr"
   ]
  },
  {
   "cell_type": "code",
   "execution_count": null,
   "id": "ff92c452-c926-4d02-ada6-16d827a1474a",
   "metadata": {},
   "outputs": [],
   "source": []
  },
  {
   "cell_type": "code",
   "execution_count": 6,
   "id": "aa1c8bab-39e8-4430-a917-e94133051ecd",
   "metadata": {},
   "outputs": [
    {
     "data": {
      "text/plain": [
       "array([[-0.7568025 , -0.7568025 ,  0.14112001, -0.7568025 ],\n",
       "       [ 0.90929743, -0.7568025 ,  0.14112001, -0.7568025 ],\n",
       "       [ 0.84147098,  0.90929743, -0.7568025 ,  0.14112001]])"
      ]
     },
     "execution_count": 6,
     "metadata": {},
     "output_type": "execute_result"
    }
   ],
   "source": [
    "np.sin(arr)"
   ]
  },
  {
   "cell_type": "code",
   "execution_count": 7,
   "id": "57840644-c34f-4e0a-b803-99e0b9b4a921",
   "metadata": {},
   "outputs": [
    {
     "data": {
      "text/plain": [
       "array([[-0.65364362, -0.65364362, -0.9899925 , -0.65364362],\n",
       "       [-0.41614684, -0.65364362, -0.9899925 , -0.65364362],\n",
       "       [ 0.54030231, -0.41614684, -0.65364362, -0.9899925 ]])"
      ]
     },
     "execution_count": 7,
     "metadata": {},
     "output_type": "execute_result"
    }
   ],
   "source": [
    "np.cos(arr)"
   ]
  },
  {
   "cell_type": "code",
   "execution_count": 8,
   "id": "2f734a66-fb22-4ed1-ab61-7580219d0a70",
   "metadata": {},
   "outputs": [
    {
     "data": {
      "text/plain": [
       "array([[0.9993293 , 0.9993293 , 0.99505475, 0.9993293 ],\n",
       "       [0.96402758, 0.9993293 , 0.99505475, 0.9993293 ],\n",
       "       [0.76159416, 0.96402758, 0.9993293 , 0.99505475]])"
      ]
     },
     "execution_count": 8,
     "metadata": {},
     "output_type": "execute_result"
    }
   ],
   "source": [
    "np.tanh(arr)"
   ]
  },
  {
   "cell_type": "code",
   "execution_count": 9,
   "id": "da5e2d1c-0577-437c-b3a9-ab97c58bfe60",
   "metadata": {},
   "outputs": [
    {
     "data": {
      "text/plain": [
       "array([[54.59815003, 54.59815003, 20.08553692, 54.59815003],\n",
       "       [ 7.3890561 , 54.59815003, 20.08553692, 54.59815003],\n",
       "       [ 2.71828183,  7.3890561 , 54.59815003, 20.08553692]])"
      ]
     },
     "execution_count": 9,
     "metadata": {},
     "output_type": "execute_result"
    }
   ],
   "source": [
    "np.exp(arr)"
   ]
  },
  {
   "cell_type": "code",
   "execution_count": 12,
   "id": "12cbd29f-a7cf-4e0a-8471-e3575e6992ef",
   "metadata": {},
   "outputs": [
    {
     "data": {
      "text/plain": [
       "array([[16, 16,  9, 16],\n",
       "       [ 4, 16,  9, 16],\n",
       "       [ 1,  4, 16,  9]])"
      ]
     },
     "execution_count": 12,
     "metadata": {},
     "output_type": "execute_result"
    }
   ],
   "source": [
    "np.power(arr, 2)"
   ]
  },
  {
   "cell_type": "code",
   "execution_count": 14,
   "id": "4f0469bf-a02f-4f2f-a07a-8b6d50181b0c",
   "metadata": {},
   "outputs": [
    {
     "data": {
      "text/plain": [
       "3.1666666666666665"
      ]
     },
     "execution_count": 14,
     "metadata": {},
     "output_type": "execute_result"
    }
   ],
   "source": [
    "np.mean(arr)"
   ]
  },
  {
   "cell_type": "code",
   "execution_count": 16,
   "id": "1242b982-c402-4f58-aa1d-ea91aa24fba4",
   "metadata": {},
   "outputs": [
    {
     "data": {
      "text/plain": [
       "3.5"
      ]
     },
     "execution_count": 16,
     "metadata": {},
     "output_type": "execute_result"
    }
   ],
   "source": [
    "np.median(arr)"
   ]
  },
  {
   "cell_type": "code",
   "execution_count": 18,
   "id": "c3aca445-5e82-4e49-9632-f94130ee3d16",
   "metadata": {},
   "outputs": [
    {
     "data": {
      "text/plain": [
       "4"
      ]
     },
     "execution_count": 18,
     "metadata": {},
     "output_type": "execute_result"
    }
   ],
   "source": [
    "np.max(arr)"
   ]
  },
  {
   "cell_type": "code",
   "execution_count": null,
   "id": "8c1975ce-63a6-4aa4-93e3-018ed49710e8",
   "metadata": {},
   "outputs": [],
   "source": []
  }
 ],
 "metadata": {
  "kernelspec": {
   "display_name": "Python 3 (ipykernel)",
   "language": "python",
   "name": "python3"
  },
  "language_info": {
   "codemirror_mode": {
    "name": "ipython",
    "version": 3
   },
   "file_extension": ".py",
   "mimetype": "text/x-python",
   "name": "python",
   "nbconvert_exporter": "python",
   "pygments_lexer": "ipython3",
   "version": "3.10.8"
  }
 },
 "nbformat": 4,
 "nbformat_minor": 5
}
