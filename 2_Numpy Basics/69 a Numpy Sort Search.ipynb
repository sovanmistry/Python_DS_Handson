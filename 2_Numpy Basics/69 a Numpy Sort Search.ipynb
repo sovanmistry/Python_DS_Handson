{
 "cells": [
  {
   "cell_type": "markdown",
   "id": "21da71ea-a6b8-439b-b7fd-9eaa79730bff",
   "metadata": {},
   "source": [
    "                                        Numpy : Sort & Search"
   ]
  },
  {
   "cell_type": "code",
   "execution_count": 1,
   "id": "014080af-4d3c-4a2f-8633-cd15fc1ee594",
   "metadata": {},
   "outputs": [],
   "source": [
    "import numpy as np"
   ]
  },
  {
   "cell_type": "code",
   "execution_count": 3,
   "id": "c5658a36-7b7c-4a87-a572-2072a8531ce4",
   "metadata": {},
   "outputs": [],
   "source": [
    "arr = np.random.randint(1, 20, 10)"
   ]
  },
  {
   "cell_type": "code",
   "execution_count": 4,
   "id": "e7582739-d264-465f-98b0-37cd3cc871da",
   "metadata": {},
   "outputs": [
    {
     "data": {
      "text/plain": [
       "array([ 1, 11,  7, 10,  8, 16, 13,  6, 12,  6])"
      ]
     },
     "execution_count": 4,
     "metadata": {},
     "output_type": "execute_result"
    }
   ],
   "source": [
    "arr"
   ]
  },
  {
   "cell_type": "markdown",
   "id": "70034213-bc72-4eb0-ba87-57d030cf8e65",
   "metadata": {},
   "source": [
    "\n"
   ]
  },
  {
   "cell_type": "markdown",
   "id": "a5b3f0d1-f5b9-45b9-9588-6254cdb6ae8e",
   "metadata": {},
   "source": [
    "                                        Sort"
   ]
  },
  {
   "cell_type": "code",
   "execution_count": 5,
   "id": "8dada2c5-222b-4301-99af-c40d4c03760e",
   "metadata": {},
   "outputs": [
    {
     "data": {
      "text/plain": [
       "array([ 1,  6,  6,  7,  8, 10, 11, 12, 13, 16])"
      ]
     },
     "execution_count": 5,
     "metadata": {},
     "output_type": "execute_result"
    }
   ],
   "source": [
    "np.sort(arr)"
   ]
  },
  {
   "cell_type": "code",
   "execution_count": null,
   "id": "d5c35f7c-7c71-4759-8fac-f69de8744a3e",
   "metadata": {},
   "outputs": [],
   "source": []
  },
  {
   "cell_type": "code",
   "execution_count": null,
   "id": "27af246c-0241-49cb-8c54-37678a8c4b32",
   "metadata": {},
   "outputs": [],
   "source": [
    "                                        searchsorted()\n",
    "                                where our next data will go"
   ]
  },
  {
   "cell_type": "code",
   "execution_count": 8,
   "id": "aff5169d-82bd-4d1f-ab86-90a7a7277218",
   "metadata": {},
   "outputs": [
    {
     "data": {
      "text/plain": [
       "5"
      ]
     },
     "execution_count": 8,
     "metadata": {},
     "output_type": "execute_result"
    }
   ],
   "source": [
    "np.searchsorted(arr, 9)"
   ]
  },
  {
   "cell_type": "code",
   "execution_count": null,
   "id": "53acd48f-fed6-4643-9875-bc111b9701c8",
   "metadata": {},
   "outputs": [],
   "source": []
  },
  {
   "cell_type": "markdown",
   "id": "8b40ffd6-244f-45e3-8fb5-80851408bd29",
   "metadata": {},
   "source": [
    "                                    count_nonzero()"
   ]
  },
  {
   "cell_type": "markdown",
   "id": "9849b298-51a3-4c27-b2aa-6451902a01e2",
   "metadata": {},
   "source": [
    "arr1 = np.array([1,0,0, 32,323, 0, 0 , 0])"
   ]
  },
  {
   "cell_type": "code",
   "execution_count": 18,
   "id": "4db418c6-b356-41c7-a654-a0cff010e281",
   "metadata": {},
   "outputs": [
    {
     "data": {
      "text/plain": [
       "3"
      ]
     },
     "execution_count": 18,
     "metadata": {},
     "output_type": "execute_result"
    }
   ],
   "source": [
    "np.count_nonzero(arr1)"
   ]
  },
  {
   "cell_type": "code",
   "execution_count": 19,
   "id": "f6242bd1-c2c2-445c-bbb1-596fa8e215b6",
   "metadata": {},
   "outputs": [
    {
     "data": {
      "text/plain": [
       "array([  1,   0,   0,  32, 323,   0,   0,   0])"
      ]
     },
     "execution_count": 19,
     "metadata": {},
     "output_type": "execute_result"
    }
   ],
   "source": [
    "arr1"
   ]
  },
  {
   "cell_type": "code",
   "execution_count": 20,
   "id": "a40bfcc1-d768-4324-b684-576eb2773bef",
   "metadata": {},
   "outputs": [
    {
     "data": {
      "text/plain": [
       "(array([3, 4]),)"
      ]
     },
     "execution_count": 20,
     "metadata": {},
     "output_type": "execute_result"
    }
   ],
   "source": [
    "np.where(arr1>31)"
   ]
  },
  {
   "cell_type": "code",
   "execution_count": 23,
   "id": "0ac06322-6c55-443b-8528-ac026e0a4039",
   "metadata": {},
   "outputs": [
    {
     "data": {
      "text/plain": [
       "array([10,  8])"
      ]
     },
     "execution_count": 23,
     "metadata": {},
     "output_type": "execute_result"
    }
   ],
   "source": [
    "np.extract(arr1>31, arr)"
   ]
  },
  {
   "cell_type": "code",
   "execution_count": null,
   "id": "600b8d44-58d6-48f3-b86e-17e819d4aa36",
   "metadata": {},
   "outputs": [],
   "source": [
    "\n",
    "\n",
    "\n"
   ]
  },
  {
   "cell_type": "markdown",
   "id": "f4f4da27-a133-4abb-b4ce-5221aad23e06",
   "metadata": {},
   "source": [
    "                                        Byte Swapping"
   ]
  },
  {
   "cell_type": "code",
   "execution_count": 25,
   "id": "57ee70a5-2704-4130-b453-f7fccd78ab2e",
   "metadata": {},
   "outputs": [
    {
     "data": {
      "text/plain": [
       "array([  72057594037927936,  792633534417207296,  504403158265495552,\n",
       "        720575940379279360,  576460752303423488, 1152921504606846976,\n",
       "        936748722493063168,  432345564227567616,  864691128455135232,\n",
       "        432345564227567616])"
      ]
     },
     "execution_count": 25,
     "metadata": {},
     "output_type": "execute_result"
    }
   ],
   "source": [
    "arr.byteswap()"
   ]
  },
  {
   "cell_type": "code",
   "execution_count": null,
   "id": "0379ddf7-95fd-48f7-a16d-2e2b0da6522c",
   "metadata": {},
   "outputs": [],
   "source": []
  }
 ],
 "metadata": {
  "kernelspec": {
   "display_name": "Python 3 (ipykernel)",
   "language": "python",
   "name": "python3"
  },
  "language_info": {
   "codemirror_mode": {
    "name": "ipython",
    "version": 3
   },
   "file_extension": ".py",
   "mimetype": "text/x-python",
   "name": "python",
   "nbconvert_exporter": "python",
   "pygments_lexer": "ipython3",
   "version": "3.10.8"
  }
 },
 "nbformat": 4,
 "nbformat_minor": 5
}
