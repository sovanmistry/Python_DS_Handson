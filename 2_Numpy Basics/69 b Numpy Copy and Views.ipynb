{
 "cells": [
  {
   "cell_type": "markdown",
   "id": "3217bd54-8824-412e-84ec-4e9c5b61082c",
   "metadata": {},
   "source": [
    "                                        Numpy : Copy & Views"
   ]
  },
  {
   "cell_type": "code",
   "execution_count": 1,
   "id": "2f949a8b-84fc-4f84-bd84-e8882b3ef3de",
   "metadata": {},
   "outputs": [],
   "source": [
    "import numpy as np"
   ]
  },
  {
   "cell_type": "code",
   "execution_count": 2,
   "id": "12c0aceb-6476-4aa2-81f9-9be14b0ecc07",
   "metadata": {},
   "outputs": [],
   "source": [
    "arr = np.random.randint(1,10, (2,5))"
   ]
  },
  {
   "cell_type": "code",
   "execution_count": 3,
   "id": "275105a2-bd8a-4b33-8d05-185735208f9b",
   "metadata": {},
   "outputs": [
    {
     "data": {
      "text/plain": [
       "array([[9, 6, 8, 8, 3],\n",
       "       [6, 9, 7, 7, 8]])"
      ]
     },
     "execution_count": 3,
     "metadata": {},
     "output_type": "execute_result"
    }
   ],
   "source": [
    "arr"
   ]
  },
  {
   "cell_type": "code",
   "execution_count": null,
   "id": "794bf54a-d62d-4cda-aa4d-646eb1ee54b7",
   "metadata": {},
   "outputs": [],
   "source": []
  },
  {
   "cell_type": "code",
   "execution_count": 5,
   "id": "f867dd0e-0681-4cfb-9d41-03ef4f0c7afb",
   "metadata": {},
   "outputs": [],
   "source": [
    "a = np.copy(arr)"
   ]
  },
  {
   "cell_type": "code",
   "execution_count": 6,
   "id": "e72530a2-a248-45b7-abfa-d2b4fcba5a3f",
   "metadata": {},
   "outputs": [
    {
     "data": {
      "text/plain": [
       "array([[9, 6, 8, 8, 3],\n",
       "       [6, 9, 7, 7, 8]])"
      ]
     },
     "execution_count": 6,
     "metadata": {},
     "output_type": "execute_result"
    }
   ],
   "source": [
    "a"
   ]
  },
  {
   "cell_type": "code",
   "execution_count": null,
   "id": "573c55f2-d934-480d-be3f-8fdc33caf3a2",
   "metadata": {},
   "outputs": [],
   "source": []
  },
  {
   "cell_type": "code",
   "execution_count": 7,
   "id": "cd2000ad-2498-4192-b795-cdc8367b597f",
   "metadata": {},
   "outputs": [],
   "source": [
    "b = arr.view()"
   ]
  },
  {
   "cell_type": "code",
   "execution_count": 8,
   "id": "7c61fd4c-0ab9-4728-a4a9-4d1d0fc06697",
   "metadata": {},
   "outputs": [
    {
     "data": {
      "text/plain": [
       "array([[9, 6, 8, 8, 3],\n",
       "       [6, 9, 7, 7, 8]])"
      ]
     },
     "execution_count": 8,
     "metadata": {},
     "output_type": "execute_result"
    }
   ],
   "source": [
    "b"
   ]
  },
  {
   "cell_type": "code",
   "execution_count": 9,
   "id": "d6248dab-69fb-493c-8209-cba762583a46",
   "metadata": {},
   "outputs": [
    {
     "data": {
      "text/plain": [
       "array([[4, 1, 2, 3, 0],\n",
       "       [0, 2, 3, 4, 1]])"
      ]
     },
     "execution_count": 9,
     "metadata": {},
     "output_type": "execute_result"
    }
   ],
   "source": [
    "np.argsort(arr)"
   ]
  },
  {
   "cell_type": "code",
   "execution_count": null,
   "id": "1364e4e2-9860-4292-82e4-a778b5020dae",
   "metadata": {},
   "outputs": [],
   "source": []
  }
 ],
 "metadata": {
  "kernelspec": {
   "display_name": "Python 3 (ipykernel)",
   "language": "python",
   "name": "python3"
  },
  "language_info": {
   "codemirror_mode": {
    "name": "ipython",
    "version": 3
   },
   "file_extension": ".py",
   "mimetype": "text/x-python",
   "name": "python",
   "nbconvert_exporter": "python",
   "pygments_lexer": "ipython3",
   "version": "3.10.8"
  }
 },
 "nbformat": 4,
 "nbformat_minor": 5
}
