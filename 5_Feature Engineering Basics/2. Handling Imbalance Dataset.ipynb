{
 "cells": [
  {
   "cell_type": "markdown",
   "id": "bcc1c5a1-8183-440a-8a8b-a8f2368b9db9",
   "metadata": {},
   "source": [
    "###                                                            Handling Imbalance Dataset"
   ]
  },
  {
   "cell_type": "code",
   "execution_count": 7,
   "id": "17d3a56a-201f-4534-bb85-85228a7ff676",
   "metadata": {},
   "outputs": [],
   "source": [
    "import pandas as pd\n",
    "import numpy as np"
   ]
  },
  {
   "cell_type": "code",
   "execution_count": 4,
   "id": "0cdd9bd5-c300-44fd-9d9b-de9e37dfaf2c",
   "metadata": {},
   "outputs": [],
   "source": [
    "#set the random seed for reproductivity\n",
    "\n",
    "np.random.seed(123)"
   ]
  },
  {
   "cell_type": "code",
   "execution_count": 25,
   "id": "9ef265fd-dc64-467a-ae95-913b3fe90ea9",
   "metadata": {},
   "outputs": [],
   "source": [
    "#create a dataframe with 2 class\n",
    "\n",
    "n_sample = 1000\n",
    "n_ration = 0.9\n",
    "n_class_0 = int(n_sample*n_ration)\n",
    "n_class_1 = n_sample- n_class_0"
   ]
  },
  {
   "cell_type": "code",
   "execution_count": 26,
   "id": "56bdaca4-0576-4ad5-b398-098012227d6f",
   "metadata": {},
   "outputs": [
    {
     "data": {
      "text/plain": [
       "(900, 100)"
      ]
     },
     "execution_count": 26,
     "metadata": {},
     "output_type": "execute_result"
    }
   ],
   "source": [
    "n_class_0, n_class_1"
   ]
  },
  {
   "cell_type": "code",
   "execution_count": 50,
   "id": "e2ee9780-bea7-4690-a460-8bf9df270456",
   "metadata": {},
   "outputs": [],
   "source": [
    "## Creation of Dataset\n",
    "\n",
    "class_0 = pd.DataFrame({\n",
    "    'feature_1' : np.random.normal(loc = 0, scale = 1, size = n_class_0),\n",
    "        'feature_2' : np.random.normal(loc = 0, scale = 1, size = n_class_0),\n",
    "        'target' : 0*n_class_0})\n",
    "\n",
    "class_1 = pd.DataFrame({\n",
    "        'feature_1' : np.random.normal(loc = 2, scale = 1, size = n_class_1),\n",
    "        'feature_2' : np.random.normal(loc = 2, scale = 1, size = n_class_1),\n",
    "        'target' : int(n_class_1/n_class_1)})                                   "
   ]
  },
  {
   "cell_type": "code",
   "execution_count": 45,
   "id": "55e19fea-2aa9-418f-87e4-e20d30b56c6d",
   "metadata": {},
   "outputs": [],
   "source": [
    "df = pd.concat([class_0, class_1])"
   ]
  },
  {
   "cell_type": "code",
   "execution_count": 46,
   "id": "1b9b59e7-f7d7-4080-b962-6c5b65ea57ff",
   "metadata": {},
   "outputs": [
    {
     "data": {
      "text/html": [
       "<div>\n",
       "<style scoped>\n",
       "    .dataframe tbody tr th:only-of-type {\n",
       "        vertical-align: middle;\n",
       "    }\n",
       "\n",
       "    .dataframe tbody tr th {\n",
       "        vertical-align: top;\n",
       "    }\n",
       "\n",
       "    .dataframe thead th {\n",
       "        text-align: right;\n",
       "    }\n",
       "</style>\n",
       "<table border=\"1\" class=\"dataframe\">\n",
       "  <thead>\n",
       "    <tr style=\"text-align: right;\">\n",
       "      <th></th>\n",
       "      <th>feature_1</th>\n",
       "      <th>feature_2</th>\n",
       "      <th>target</th>\n",
       "    </tr>\n",
       "  </thead>\n",
       "  <tbody>\n",
       "    <tr>\n",
       "      <th>0</th>\n",
       "      <td>0.365881</td>\n",
       "      <td>-0.861858</td>\n",
       "      <td>0</td>\n",
       "    </tr>\n",
       "    <tr>\n",
       "      <th>1</th>\n",
       "      <td>1.217293</td>\n",
       "      <td>0.231890</td>\n",
       "      <td>0</td>\n",
       "    </tr>\n",
       "    <tr>\n",
       "      <th>2</th>\n",
       "      <td>-0.060080</td>\n",
       "      <td>0.056332</td>\n",
       "      <td>0</td>\n",
       "    </tr>\n",
       "    <tr>\n",
       "      <th>3</th>\n",
       "      <td>2.253230</td>\n",
       "      <td>-0.790055</td>\n",
       "      <td>0</td>\n",
       "    </tr>\n",
       "    <tr>\n",
       "      <th>4</th>\n",
       "      <td>-1.302211</td>\n",
       "      <td>0.237915</td>\n",
       "      <td>0</td>\n",
       "    </tr>\n",
       "    <tr>\n",
       "      <th>...</th>\n",
       "      <td>...</td>\n",
       "      <td>...</td>\n",
       "      <td>...</td>\n",
       "    </tr>\n",
       "    <tr>\n",
       "      <th>95</th>\n",
       "      <td>3.224710</td>\n",
       "      <td>1.696198</td>\n",
       "      <td>1</td>\n",
       "    </tr>\n",
       "    <tr>\n",
       "      <th>96</th>\n",
       "      <td>1.121876</td>\n",
       "      <td>0.734833</td>\n",
       "      <td>1</td>\n",
       "    </tr>\n",
       "    <tr>\n",
       "      <th>97</th>\n",
       "      <td>3.465937</td>\n",
       "      <td>0.773605</td>\n",
       "      <td>1</td>\n",
       "    </tr>\n",
       "    <tr>\n",
       "      <th>98</th>\n",
       "      <td>1.371652</td>\n",
       "      <td>1.680807</td>\n",
       "      <td>1</td>\n",
       "    </tr>\n",
       "    <tr>\n",
       "      <th>99</th>\n",
       "      <td>0.884611</td>\n",
       "      <td>2.203957</td>\n",
       "      <td>1</td>\n",
       "    </tr>\n",
       "  </tbody>\n",
       "</table>\n",
       "<p>1000 rows × 3 columns</p>\n",
       "</div>"
      ],
      "text/plain": [
       "    feature_1  feature_2  target\n",
       "0    0.365881  -0.861858       0\n",
       "1    1.217293   0.231890       0\n",
       "2   -0.060080   0.056332       0\n",
       "3    2.253230  -0.790055       0\n",
       "4   -1.302211   0.237915       0\n",
       "..        ...        ...     ...\n",
       "95   3.224710   1.696198       1\n",
       "96   1.121876   0.734833       1\n",
       "97   3.465937   0.773605       1\n",
       "98   1.371652   1.680807       1\n",
       "99   0.884611   2.203957       1\n",
       "\n",
       "[1000 rows x 3 columns]"
      ]
     },
     "execution_count": 46,
     "metadata": {},
     "output_type": "execute_result"
    }
   ],
   "source": [
    "df"
   ]
  },
  {
   "cell_type": "code",
   "execution_count": 49,
   "id": "a96aa0ff-9563-49d2-93a3-2cf09e9648f8",
   "metadata": {},
   "outputs": [
    {
     "data": {
      "text/plain": [
       "0    900\n",
       "1    100\n",
       "Name: target, dtype: int64"
      ]
     },
     "execution_count": 49,
     "metadata": {},
     "output_type": "execute_result"
    }
   ],
   "source": [
    "df['target'].value_counts()"
   ]
  },
  {
   "cell_type": "code",
   "execution_count": null,
   "id": "fcabb444-735a-4c34-9a56-e0f867f74566",
   "metadata": {},
   "outputs": [],
   "source": []
  },
  {
   "cell_type": "markdown",
   "id": "8bcc7489-a3c6-439a-bc8f-07f7e11c109a",
   "metadata": {},
   "source": [
    "## UPSAMPLING"
   ]
  },
  {
   "cell_type": "code",
   "execution_count": 58,
   "id": "dabb7170-843e-445c-9f0a-24a9dcf88286",
   "metadata": {},
   "outputs": [],
   "source": [
    "# find major and minor groups\n",
    "\n",
    "df_majority = df[df['target']==0]\n",
    "df_minority = df[df['target']==1]"
   ]
  },
  {
   "cell_type": "code",
   "execution_count": 56,
   "id": "cc2eb17a-261d-4867-b048-cbb4b6b71e6a",
   "metadata": {},
   "outputs": [
    {
     "data": {
      "text/html": [
       "<div>\n",
       "<style scoped>\n",
       "    .dataframe tbody tr th:only-of-type {\n",
       "        vertical-align: middle;\n",
       "    }\n",
       "\n",
       "    .dataframe tbody tr th {\n",
       "        vertical-align: top;\n",
       "    }\n",
       "\n",
       "    .dataframe thead th {\n",
       "        text-align: right;\n",
       "    }\n",
       "</style>\n",
       "<table border=\"1\" class=\"dataframe\">\n",
       "  <thead>\n",
       "    <tr style=\"text-align: right;\">\n",
       "      <th></th>\n",
       "      <th>feature_1</th>\n",
       "      <th>feature_2</th>\n",
       "      <th>target</th>\n",
       "    </tr>\n",
       "  </thead>\n",
       "  <tbody>\n",
       "    <tr>\n",
       "      <th>0</th>\n",
       "      <td>0.365881</td>\n",
       "      <td>-0.861858</td>\n",
       "      <td>0</td>\n",
       "    </tr>\n",
       "    <tr>\n",
       "      <th>1</th>\n",
       "      <td>1.217293</td>\n",
       "      <td>0.231890</td>\n",
       "      <td>0</td>\n",
       "    </tr>\n",
       "    <tr>\n",
       "      <th>2</th>\n",
       "      <td>-0.060080</td>\n",
       "      <td>0.056332</td>\n",
       "      <td>0</td>\n",
       "    </tr>\n",
       "    <tr>\n",
       "      <th>3</th>\n",
       "      <td>2.253230</td>\n",
       "      <td>-0.790055</td>\n",
       "      <td>0</td>\n",
       "    </tr>\n",
       "    <tr>\n",
       "      <th>4</th>\n",
       "      <td>-1.302211</td>\n",
       "      <td>0.237915</td>\n",
       "      <td>0</td>\n",
       "    </tr>\n",
       "  </tbody>\n",
       "</table>\n",
       "</div>"
      ],
      "text/plain": [
       "   feature_1  feature_2  target\n",
       "0   0.365881  -0.861858       0\n",
       "1   1.217293   0.231890       0\n",
       "2  -0.060080   0.056332       0\n",
       "3   2.253230  -0.790055       0\n",
       "4  -1.302211   0.237915       0"
      ]
     },
     "execution_count": 56,
     "metadata": {},
     "output_type": "execute_result"
    }
   ],
   "source": [
    "df_majority.head()\n"
   ]
  },
  {
   "cell_type": "code",
   "execution_count": 59,
   "id": "07b99584-93d1-4795-9118-82f238a370c3",
   "metadata": {},
   "outputs": [
    {
     "data": {
      "text/html": [
       "<div>\n",
       "<style scoped>\n",
       "    .dataframe tbody tr th:only-of-type {\n",
       "        vertical-align: middle;\n",
       "    }\n",
       "\n",
       "    .dataframe tbody tr th {\n",
       "        vertical-align: top;\n",
       "    }\n",
       "\n",
       "    .dataframe thead th {\n",
       "        text-align: right;\n",
       "    }\n",
       "</style>\n",
       "<table border=\"1\" class=\"dataframe\">\n",
       "  <thead>\n",
       "    <tr style=\"text-align: right;\">\n",
       "      <th></th>\n",
       "      <th>feature_1</th>\n",
       "      <th>feature_2</th>\n",
       "      <th>target</th>\n",
       "    </tr>\n",
       "  </thead>\n",
       "  <tbody>\n",
       "    <tr>\n",
       "      <th>0</th>\n",
       "      <td>2.931048</td>\n",
       "      <td>3.462308</td>\n",
       "      <td>1</td>\n",
       "    </tr>\n",
       "    <tr>\n",
       "      <th>1</th>\n",
       "      <td>0.899932</td>\n",
       "      <td>2.032912</td>\n",
       "      <td>1</td>\n",
       "    </tr>\n",
       "    <tr>\n",
       "      <th>2</th>\n",
       "      <td>-0.388657</td>\n",
       "      <td>0.289457</td>\n",
       "      <td>1</td>\n",
       "    </tr>\n",
       "    <tr>\n",
       "      <th>3</th>\n",
       "      <td>1.813350</td>\n",
       "      <td>0.867804</td>\n",
       "      <td>1</td>\n",
       "    </tr>\n",
       "    <tr>\n",
       "      <th>4</th>\n",
       "      <td>1.350685</td>\n",
       "      <td>2.517940</td>\n",
       "      <td>1</td>\n",
       "    </tr>\n",
       "  </tbody>\n",
       "</table>\n",
       "</div>"
      ],
      "text/plain": [
       "   feature_1  feature_2  target\n",
       "0   2.931048   3.462308       1\n",
       "1   0.899932   2.032912       1\n",
       "2  -0.388657   0.289457       1\n",
       "3   1.813350   0.867804       1\n",
       "4   1.350685   2.517940       1"
      ]
     },
     "execution_count": 59,
     "metadata": {},
     "output_type": "execute_result"
    }
   ],
   "source": [
    "df_minority.head()"
   ]
  },
  {
   "cell_type": "code",
   "execution_count": 63,
   "id": "f304e180-14db-45ab-9e3c-4c40c7bba508",
   "metadata": {},
   "outputs": [],
   "source": [
    "##Upsampling Perform\n",
    "\n",
    "from sklearn.utils import resample\n",
    "\n",
    "df_minority_upsample = resample(df_minority,\n",
    "                               replace = True,\n",
    "                               n_samples = len(df_majority))"
   ]
  },
  {
   "cell_type": "code",
   "execution_count": 65,
   "id": "3e7b2d9f-1088-4db7-b9f7-18c75b69ded3",
   "metadata": {},
   "outputs": [
    {
     "data": {
      "text/plain": [
       "1    900\n",
       "Name: target, dtype: int64"
      ]
     },
     "execution_count": 65,
     "metadata": {},
     "output_type": "execute_result"
    }
   ],
   "source": [
    "#check how many values were generated. - total 900 values generated, previously it had 100\n",
    "\n",
    "df_minority_upsample['target'].value_counts()"
   ]
  },
  {
   "cell_type": "code",
   "execution_count": 67,
   "id": "f54303aa-f9a5-4e2a-87a8-212ee114c88a",
   "metadata": {},
   "outputs": [],
   "source": [
    "# our new perfect data frame.\n",
    "\n",
    "df_upsampled = pd.concat([df_majority, df_minority_upsample])"
   ]
  },
  {
   "cell_type": "code",
   "execution_count": 68,
   "id": "810ca2f7-3079-4c3b-82c1-0fae2e0ec7fe",
   "metadata": {},
   "outputs": [
    {
     "data": {
      "text/plain": [
       "0    900\n",
       "1    900\n",
       "Name: target, dtype: int64"
      ]
     },
     "execution_count": 68,
     "metadata": {},
     "output_type": "execute_result"
    }
   ],
   "source": [
    "df_upsampled['target'].value_counts()"
   ]
  },
  {
   "cell_type": "code",
   "execution_count": 71,
   "id": "824062d6-f291-45b1-adae-da614f29a193",
   "metadata": {},
   "outputs": [
    {
     "data": {
      "text/plain": [
       "(1800, 3)"
      ]
     },
     "execution_count": 71,
     "metadata": {},
     "output_type": "execute_result"
    }
   ],
   "source": [
    "df_upsampled.shape"
   ]
  },
  {
   "cell_type": "code",
   "execution_count": null,
   "id": "56162c9a-f7ee-4878-9d1b-ec97ff84cf28",
   "metadata": {},
   "outputs": [],
   "source": []
  },
  {
   "cell_type": "markdown",
   "id": "6020ae45-87e1-4166-9bde-0b5ed0d6ae6b",
   "metadata": {},
   "source": [
    "## DOWNSAMPLING"
   ]
  },
  {
   "cell_type": "code",
   "execution_count": 72,
   "id": "2acf0568-1294-41e1-aee7-8183f61c739d",
   "metadata": {},
   "outputs": [],
   "source": [
    "#create a dataframe with 2 class\n",
    "\n",
    "n_sample = 1000\n",
    "n_ration = 0.9\n",
    "n_class_0 = int(n_sample*n_ration)\n",
    "n_class_1 = n_sample- n_class_0"
   ]
  },
  {
   "cell_type": "code",
   "execution_count": 73,
   "id": "5ecf849c-07e8-445d-a875-3b35b8f2506e",
   "metadata": {},
   "outputs": [],
   "source": [
    "## Creation of Dataset\n",
    "\n",
    "class_0 = pd.DataFrame({\n",
    "    'feature_1' : np.random.normal(loc = 0, scale = 1, size = n_class_0),\n",
    "        'feature_2' : np.random.normal(loc = 0, scale = 1, size = n_class_0),\n",
    "        'target' : 0*n_class_0})\n",
    "\n",
    "class_1 = pd.DataFrame({\n",
    "        'feature_1' : np.random.normal(loc = 2, scale = 1, size = n_class_1),\n",
    "        'feature_2' : np.random.normal(loc = 2, scale = 1, size = n_class_1),\n",
    "        'target' : int(n_class_1/n_class_1)})  "
   ]
  },
  {
   "cell_type": "code",
   "execution_count": 74,
   "id": "23c5adac-3ea3-413d-8a05-7720d567a4df",
   "metadata": {},
   "outputs": [],
   "source": [
    "df = pd.concat([class_0, class_1])"
   ]
  },
  {
   "cell_type": "code",
   "execution_count": 75,
   "id": "03e779a6-8b8f-4e09-b1b4-f418b9b7f22c",
   "metadata": {},
   "outputs": [
    {
     "data": {
      "text/plain": [
       "0    900\n",
       "1    100\n",
       "Name: target, dtype: int64"
      ]
     },
     "execution_count": 75,
     "metadata": {},
     "output_type": "execute_result"
    }
   ],
   "source": [
    "df['target'].value_counts()"
   ]
  },
  {
   "cell_type": "code",
   "execution_count": 76,
   "id": "5807b567-ace6-4eea-8c42-0d51a375d74b",
   "metadata": {},
   "outputs": [],
   "source": []
  },
  {
   "cell_type": "code",
   "execution_count": 77,
   "id": "76692cb4-600e-4192-8d4c-d2daaf2999ca",
   "metadata": {},
   "outputs": [],
   "source": [
    "# find major and minor groups\n",
    "\n",
    "df_majority = df[df['target']==0]\n",
    "df_minority = df[df['target']==1]"
   ]
  },
  {
   "cell_type": "code",
   "execution_count": 78,
   "id": "49b8617b-3979-4ae9-a856-4c37571dc4df",
   "metadata": {},
   "outputs": [],
   "source": [
    "#downsampling majority\n",
    "\n",
    "\n",
    "from sklearn.utils import resample\n",
    "\n",
    "df_majority_downsample = resample(df_majority,\n",
    "                               replace = False,\n",
    "                               n_samples = len(df_minority))"
   ]
  },
  {
   "cell_type": "code",
   "execution_count": 79,
   "id": "1a8f415f-5b84-4dd7-b710-4112b9f3880e",
   "metadata": {},
   "outputs": [],
   "source": [
    "#preparing Data\n",
    "\n",
    "df_downsampled = pd.concat([df_minority, df_majority_downsample])"
   ]
  },
  {
   "cell_type": "code",
   "execution_count": 82,
   "id": "99a3880d-598d-4f9b-9065-439abf906fb8",
   "metadata": {},
   "outputs": [
    {
     "data": {
      "text/plain": [
       "1    100\n",
       "0    100\n",
       "Name: target, dtype: int64"
      ]
     },
     "execution_count": 82,
     "metadata": {},
     "output_type": "execute_result"
    }
   ],
   "source": [
    "df_downsampled['target'].value_counts()"
   ]
  },
  {
   "cell_type": "code",
   "execution_count": null,
   "id": "b155436b-d1f9-413d-b080-08fe0add0c02",
   "metadata": {},
   "outputs": [],
   "source": [
    "value_counts"
   ]
  }
 ],
 "metadata": {
  "kernelspec": {
   "display_name": "Python 3 (ipykernel)",
   "language": "python",
   "name": "python3"
  },
  "language_info": {
   "codemirror_mode": {
    "name": "ipython",
    "version": 3
   },
   "file_extension": ".py",
   "mimetype": "text/x-python",
   "name": "python",
   "nbconvert_exporter": "python",
   "pygments_lexer": "ipython3",
   "version": "3.10.8"
  }
 },
 "nbformat": 4,
 "nbformat_minor": 5
}
